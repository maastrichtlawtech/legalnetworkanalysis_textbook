import networkx as nx
import pandas as pd
import matplotlib.pyplot as plt
import numpy as np
import seaborn as sns


subs = [[1, 1, 0],
        [0, 1, 0],
        [0, 1, 1]]
subs = np.array(subs)


S = nx.from_numpy_array(subs, create_using=nx.DiGraph)



pos = nx.spring_layout(S)
nx.draw_networkx_nodes(S, pos=pos)
nx.draw_networkx_edges(S, pos=pos)
nx.draw_networkx_labels(S, pos=pos)


subs@subs.T


for i in range(10):
    subs = subs@subs
subs


for i in range(10):
    subs = subs.T@subs
subs


for i in range(10):
    subs = subs@subs.T
subs


G = nx.krackhardt_kite_graph()


kite = nx.adjacency_matrix(G).todense()


kite.T@kite


kite@kite.T


for i in range(5):
    kite = kite@kite
kite


sns.heatmap(kite, cmap="coolwarm")


import pandas as pd


df = pd.read_csv("data/WK_Italy_1990.csv")
df


wk = nx.DiGraph()


[wk.add_edge(x,y) for x, y in zip(df.country, df.beaten_by)]


pos = nx.spring_layout(wk)
nx.draw_networkx_nodes(wk, pos=pos)
nx.draw_networkx_edges(wk, pos=pos)
nx.draw_networkx_labels(wk, pos=pos)


W = nx.adjacency_matrix(wk).todense()


W


nodelist = list(wk.nodes)


wkdf = pd.DataFrame(W, columns=nodelist, index=nodelist)
wkdf.to_csv("wkdf.csv")





nodelist= wk.nodes


W@W


alpha = W.T@W
alpha


# beta = nx.from_numpy_array(beta)
# pos = nx.spring_layout(beta)
# nx.draw_networkx_nodes(beta, pos=pos)
# nx.draw_networkx_edges(beta, pos=pos)
# nx.draw_networkx_labels(beta, pos=pos)


beta = W@W.T
beta


nodelist


pd.DataFrame(alpha, columns=nodelist, index=nodelist)


pd.DataFrame(beta, columns=nodelist, index=nodelist)


# beta = nx.from_numpy_array(beta)
# pos = nx.spring_layout(beta)
# nx.draw_networkx_nodes(beta, pos=pos)
# nx.draw_networkx_edges(beta, pos=pos)
# nx.draw_networkx_labels(beta, pos=pos)


W





x = np.ones(8)/8
y = np.ones(8)/8


x





x = np.ones(8)/8
for i in range(10):
    x = W.T@x
    xnorm = np.linalg.norm(x)
    x = x/xnorm
    print(x)





y = np.ones(8)/8
for i in range(10):
    y = W@y
    print(y)
    # ynorm = np.linalg.norm(y)
    # y = y/(xnorm+0.001)
    # print(y)


for i in range(10):
    y = W@y


y


y = np.ones(8)/8
r = W@y
r


r2 = W@r
r2


r3 = W@r2
r3



