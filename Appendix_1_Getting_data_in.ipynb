{
 "cells": [
  {
   "cell_type": "markdown",
   "id": "b7cddfbf-dbbd-4e47-8324-fed59b3e058a",
   "metadata": {},
   "source": [
    "# Appendix 1 Getting Data into NetworkX"
   ]
  },
  {
   "cell_type": "code",
   "execution_count": 20,
   "id": "e431a79c-a807-4dbe-a2a8-5379c8491889",
   "metadata": {},
   "outputs": [],
   "source": [
    "import networkx as nx\n",
    "import pandas as pd\n",
    "import seaborn as sns\n",
    "import json\n",
    "import numpy as np\n",
    "import matplotlib.pyplot as plt\n",
    "from src.helper import draw_spring"
   ]
  },
  {
   "cell_type": "markdown",
   "id": "69dacf62-8995-4795-882c-0ec68ac85154",
   "metadata": {},
   "source": [
    "The main tool used in this textbook is NetworkX. However, the purpose of the textbook is not to introduce this library, but to explore Network Analysis for law, so some details of how this package works are omitted from the main discussion. However it can be difficult to get data into NetworkX go get started, so here we will introduce some ways this can be done.\n",
    "\n",
    "## Starting from Excel\n",
    "\n",
    "Since Excel is what most people will be familiar with, here will start with this. \n",
    "Here is an Excel sheet recording the friendships between 6 individuals.\n",
    "\n",
    "<img src=\"images/ch5/Excel1.png\">"
   ]
  },
  {
   "cell_type": "markdown",
   "id": "a412f5c1-010f-4d18-ba5c-b7c4f7ff6a44",
   "metadata": {},
   "source": [
    "To be used in python it is best to save it as a \"csv\" file, pandas can also read an Excel sheet but this might be harder to do (at least you might need to install additional dependencies). \n",
    "\n",
    "<img src=\"images/ch5/Excel2.png\">"
   ]
  },
  {
   "cell_type": "markdown",
   "id": "01acea4d-d0cc-4349-9c2b-088172930ef1",
   "metadata": {},
   "source": [
    "Then we can read the csv file into a pandas dataframe. A csv file literally means \"comma separated values\". But really it does not have to be a comma. The delimiter separating the values can be something else. Excel defaults into using a semicolon, so we need to tell pandas taht the separator (\"sep\") is \";\"."
   ]
  },
  {
   "cell_type": "code",
   "execution_count": 2,
   "id": "745bbad9-574e-4fe2-9bab-b8f2ddd67fd1",
   "metadata": {},
   "outputs": [
    {
     "data": {
      "text/html": [
       "<div>\n",
       "<style scoped>\n",
       "    .dataframe tbody tr th:only-of-type {\n",
       "        vertical-align: middle;\n",
       "    }\n",
       "\n",
       "    .dataframe tbody tr th {\n",
       "        vertical-align: top;\n",
       "    }\n",
       "\n",
       "    .dataframe thead th {\n",
       "        text-align: right;\n",
       "    }\n",
       "</style>\n",
       "<table border=\"1\" class=\"dataframe\">\n",
       "  <thead>\n",
       "    <tr style=\"text-align: right;\">\n",
       "      <th></th>\n",
       "      <th>Names</th>\n",
       "      <th>Andrew</th>\n",
       "      <th>Bart</th>\n",
       "      <th>Caroline</th>\n",
       "      <th>Deborah</th>\n",
       "      <th>Edward</th>\n",
       "      <th>Fred</th>\n",
       "    </tr>\n",
       "  </thead>\n",
       "  <tbody>\n",
       "    <tr>\n",
       "      <th>0</th>\n",
       "      <td>Andrew</td>\n",
       "      <td>0</td>\n",
       "      <td>1</td>\n",
       "      <td>0</td>\n",
       "      <td>0</td>\n",
       "      <td>1</td>\n",
       "      <td>0</td>\n",
       "    </tr>\n",
       "    <tr>\n",
       "      <th>1</th>\n",
       "      <td>Bart</td>\n",
       "      <td>1</td>\n",
       "      <td>0</td>\n",
       "      <td>1</td>\n",
       "      <td>0</td>\n",
       "      <td>1</td>\n",
       "      <td>0</td>\n",
       "    </tr>\n",
       "    <tr>\n",
       "      <th>2</th>\n",
       "      <td>Caroline</td>\n",
       "      <td>0</td>\n",
       "      <td>1</td>\n",
       "      <td>0</td>\n",
       "      <td>1</td>\n",
       "      <td>0</td>\n",
       "      <td>0</td>\n",
       "    </tr>\n",
       "    <tr>\n",
       "      <th>3</th>\n",
       "      <td>Deborah</td>\n",
       "      <td>0</td>\n",
       "      <td>0</td>\n",
       "      <td>1</td>\n",
       "      <td>0</td>\n",
       "      <td>1</td>\n",
       "      <td>0</td>\n",
       "    </tr>\n",
       "    <tr>\n",
       "      <th>4</th>\n",
       "      <td>Edward</td>\n",
       "      <td>1</td>\n",
       "      <td>1</td>\n",
       "      <td>0</td>\n",
       "      <td>1</td>\n",
       "      <td>0</td>\n",
       "      <td>1</td>\n",
       "    </tr>\n",
       "    <tr>\n",
       "      <th>5</th>\n",
       "      <td>Fred</td>\n",
       "      <td>0</td>\n",
       "      <td>0</td>\n",
       "      <td>0</td>\n",
       "      <td>0</td>\n",
       "      <td>1</td>\n",
       "      <td>0</td>\n",
       "    </tr>\n",
       "  </tbody>\n",
       "</table>\n",
       "</div>"
      ],
      "text/plain": [
       "      Names  Andrew  Bart  Caroline  Deborah  Edward  Fred\n",
       "0    Andrew       0     1         0        0       1     0\n",
       "1      Bart       1     0         1        0       1     0\n",
       "2  Caroline       0     1         0        1       0     0\n",
       "3   Deborah       0     0         1        0       1     0\n",
       "4    Edward       1     1         0        1       0     1\n",
       "5      Fred       0     0         0        0       1     0"
      ]
     },
     "execution_count": 2,
     "metadata": {},
     "output_type": "execute_result"
    }
   ],
   "source": [
    "df_friends = pd.read_csv('data/friendship_data.csv', sep=\";\")\n",
    "df_friends"
   ]
  },
  {
   "cell_type": "markdown",
   "id": "f3de15fa-5409-4c20-b5bf-9f7fb0bda55a",
   "metadata": {},
   "source": [
    "We can directly see this with the \"shape\" attribute of the dataframe."
   ]
  },
  {
   "cell_type": "code",
   "execution_count": 3,
   "id": "7940847e-22a3-4c4f-af8a-70e2906f596b",
   "metadata": {},
   "outputs": [
    {
     "data": {
      "text/plain": [
       "(6, 7)"
      ]
     },
     "execution_count": 3,
     "metadata": {},
     "output_type": "execute_result"
    }
   ],
   "source": [
    "df_friends.shape"
   ]
  },
  {
   "cell_type": "markdown",
   "id": "af7c806c-7b5e-4f4d-a25f-aea5e0630d9e",
   "metadata": {},
   "source": [
    "You may note that this shows that there is a problem with our data, as an adjacency matrix must be $$ M \\times M $$ It must be a square matrix with the same number of rows and columns. \n",
    "What happens is that the \"Names\" column must become a row index and this can be done as shown below:"
   ]
  },
  {
   "cell_type": "code",
   "execution_count": 4,
   "id": "6830aa5f-22cf-4d4d-91fd-ddb9af6b3bcc",
   "metadata": {},
   "outputs": [
    {
     "data": {
      "text/html": [
       "<div>\n",
       "<style scoped>\n",
       "    .dataframe tbody tr th:only-of-type {\n",
       "        vertical-align: middle;\n",
       "    }\n",
       "\n",
       "    .dataframe tbody tr th {\n",
       "        vertical-align: top;\n",
       "    }\n",
       "\n",
       "    .dataframe thead th {\n",
       "        text-align: right;\n",
       "    }\n",
       "</style>\n",
       "<table border=\"1\" class=\"dataframe\">\n",
       "  <thead>\n",
       "    <tr style=\"text-align: right;\">\n",
       "      <th></th>\n",
       "      <th>Andrew</th>\n",
       "      <th>Bart</th>\n",
       "      <th>Caroline</th>\n",
       "      <th>Deborah</th>\n",
       "      <th>Edward</th>\n",
       "      <th>Fred</th>\n",
       "    </tr>\n",
       "    <tr>\n",
       "      <th>Names</th>\n",
       "      <th></th>\n",
       "      <th></th>\n",
       "      <th></th>\n",
       "      <th></th>\n",
       "      <th></th>\n",
       "      <th></th>\n",
       "    </tr>\n",
       "  </thead>\n",
       "  <tbody>\n",
       "    <tr>\n",
       "      <th>Andrew</th>\n",
       "      <td>0</td>\n",
       "      <td>1</td>\n",
       "      <td>0</td>\n",
       "      <td>0</td>\n",
       "      <td>1</td>\n",
       "      <td>0</td>\n",
       "    </tr>\n",
       "    <tr>\n",
       "      <th>Bart</th>\n",
       "      <td>1</td>\n",
       "      <td>0</td>\n",
       "      <td>1</td>\n",
       "      <td>0</td>\n",
       "      <td>1</td>\n",
       "      <td>0</td>\n",
       "    </tr>\n",
       "    <tr>\n",
       "      <th>Caroline</th>\n",
       "      <td>0</td>\n",
       "      <td>1</td>\n",
       "      <td>0</td>\n",
       "      <td>1</td>\n",
       "      <td>0</td>\n",
       "      <td>0</td>\n",
       "    </tr>\n",
       "    <tr>\n",
       "      <th>Deborah</th>\n",
       "      <td>0</td>\n",
       "      <td>0</td>\n",
       "      <td>1</td>\n",
       "      <td>0</td>\n",
       "      <td>1</td>\n",
       "      <td>0</td>\n",
       "    </tr>\n",
       "    <tr>\n",
       "      <th>Edward</th>\n",
       "      <td>1</td>\n",
       "      <td>1</td>\n",
       "      <td>0</td>\n",
       "      <td>1</td>\n",
       "      <td>0</td>\n",
       "      <td>1</td>\n",
       "    </tr>\n",
       "    <tr>\n",
       "      <th>Fred</th>\n",
       "      <td>0</td>\n",
       "      <td>0</td>\n",
       "      <td>0</td>\n",
       "      <td>0</td>\n",
       "      <td>1</td>\n",
       "      <td>0</td>\n",
       "    </tr>\n",
       "  </tbody>\n",
       "</table>\n",
       "</div>"
      ],
      "text/plain": [
       "          Andrew  Bart  Caroline  Deborah  Edward  Fred\n",
       "Names                                                  \n",
       "Andrew         0     1         0        0       1     0\n",
       "Bart           1     0         1        0       1     0\n",
       "Caroline       0     1         0        1       0     0\n",
       "Deborah        0     0         1        0       1     0\n",
       "Edward         1     1         0        1       0     1\n",
       "Fred           0     0         0        0       1     0"
      ]
     },
     "execution_count": 4,
     "metadata": {},
     "output_type": "execute_result"
    }
   ],
   "source": [
    "df_friends.set_index(\"Names\", inplace=True)\n",
    "df_friends"
   ]
  },
  {
   "cell_type": "markdown",
   "id": "612f92ea-c814-40d1-85b1-e1d0a27034a5",
   "metadata": {},
   "source": [
    "Now the matrix is $ M \\times M $."
   ]
  },
  {
   "cell_type": "code",
   "execution_count": 5,
   "id": "88aa323f-21de-4d8a-ad43-ca836d117b66",
   "metadata": {},
   "outputs": [
    {
     "data": {
      "text/plain": [
       "(6, 6)"
      ]
     },
     "execution_count": 5,
     "metadata": {},
     "output_type": "execute_result"
    }
   ],
   "source": [
    "df_friends.shape"
   ]
  },
  {
   "cell_type": "markdown",
   "id": "f15fff78-6754-45d8-9465-670fdd42d546",
   "metadata": {},
   "source": [
    "Then we are all set to just directly import the matrix into NetworkX using ```\n",
    "nx.from_pandas_adjacency\n",
    "```"
   ]
  },
  {
   "cell_type": "code",
   "execution_count": 6,
   "id": "84bdf145-71e3-4795-b1c5-4b4b259c80e6",
   "metadata": {},
   "outputs": [],
   "source": [
    "g_friends = nx.from_pandas_adjacency(df_friends)"
   ]
  },
  {
   "cell_type": "code",
   "execution_count": 10,
   "id": "e51d128a-8348-4a37-8630-cd14fb31881a",
   "metadata": {},
   "outputs": [
    {
     "data": {
      "image/png": "[encoded data removed]",
      "text/plain": [
       "<Figure size 576x576 with 1 Axes>"
      ]
     },
     "metadata": {},
     "output_type": "display_data"
    }
   ],
   "source": [
    "draw_spring(g_friends)"
   ]
  },
  {
   "cell_type": "markdown",
   "id": "bb0b96bb-2935-40b8-9267-33bbb18c8367",
   "metadata": {},
   "source": [
    "## Working with node-edge lists\n",
    "\n",
    "If you are working with node-edge lists, it is likely that the most reliable way to get data into networkX is through looping through the data structure. Lets see how this might look, going back do our dataframe of book reviews, which already has this format."
   ]
  },
  {
   "cell_type": "code",
   "execution_count": 13,
   "id": "21d5ca99-d157-4b9b-b04b-4085661a6ea9",
   "metadata": {},
   "outputs": [
    {
     "data": {
      "text/html": [
       "<div>\n",
       "<style scoped>\n",
       "    .dataframe tbody tr th:only-of-type {\n",
       "        vertical-align: middle;\n",
       "    }\n",
       "\n",
       "    .dataframe tbody tr th {\n",
       "        vertical-align: top;\n",
       "    }\n",
       "\n",
       "    .dataframe thead th {\n",
       "        text-align: right;\n",
       "    }\n",
       "</style>\n",
       "<table border=\"1\" class=\"dataframe\">\n",
       "  <thead>\n",
       "    <tr style=\"text-align: right;\">\n",
       "      <th></th>\n",
       "      <th>source</th>\n",
       "      <th>target</th>\n",
       "      <th>weight</th>\n",
       "    </tr>\n",
       "  </thead>\n",
       "  <tbody>\n",
       "    <tr>\n",
       "      <th>0</th>\n",
       "      <td>0</td>\n",
       "      <td>1</td>\n",
       "      <td>0.305785</td>\n",
       "    </tr>\n",
       "    <tr>\n",
       "      <th>1</th>\n",
       "      <td>0</td>\n",
       "      <td>2</td>\n",
       "      <td>0.351564</td>\n",
       "    </tr>\n",
       "    <tr>\n",
       "      <th>2</th>\n",
       "      <td>0</td>\n",
       "      <td>3</td>\n",
       "      <td>0.401144</td>\n",
       "    </tr>\n",
       "    <tr>\n",
       "      <th>3</th>\n",
       "      <td>0</td>\n",
       "      <td>4</td>\n",
       "      <td>0.858865</td>\n",
       "    </tr>\n",
       "    <tr>\n",
       "      <th>4</th>\n",
       "      <td>0</td>\n",
       "      <td>5</td>\n",
       "      <td>0.566387</td>\n",
       "    </tr>\n",
       "    <tr>\n",
       "      <th>5</th>\n",
       "      <td>0</td>\n",
       "      <td>6</td>\n",
       "      <td>0.303694</td>\n",
       "    </tr>\n",
       "    <tr>\n",
       "      <th>6</th>\n",
       "      <td>0</td>\n",
       "      <td>7</td>\n",
       "      <td>0.142796</td>\n",
       "    </tr>\n",
       "  </tbody>\n",
       "</table>\n",
       "</div>"
      ],
      "text/plain": [
       "   source  target    weight\n",
       "0       0       1  0.305785\n",
       "1       0       2  0.351564\n",
       "2       0       3  0.401144\n",
       "3       0       4  0.858865\n",
       "4       0       5  0.566387\n",
       "5       0       6  0.303694\n",
       "6       0       7  0.142796"
      ]
     },
     "execution_count": 13,
     "metadata": {},
     "output_type": "execute_result"
    }
   ],
   "source": [
    "df_docs = pd.read_csv(\"data/docsimilarity.csv\", index_col=0)\n",
    "df_docs.head(7)"
   ]
  },
  {
   "cell_type": "markdown",
   "id": "e4240bb6-9d82-498a-a16f-215c554fc832",
   "metadata": {},
   "source": [
    "first we use the ```nx.Graph()``` constructor to create an empty graph."
   ]
  },
  {
   "cell_type": "code",
   "execution_count": 14,
   "id": "df2257e4-03ed-4e52-978c-6c5ca50e3237",
   "metadata": {},
   "outputs": [],
   "source": [
    "G_test = nx.Graph()"
   ]
  },
  {
   "cell_type": "markdown",
   "id": "df82d253-5ddc-4e68-ae3c-57f1ab45af77",
   "metadata": {},
   "source": [
    "then we can use the graph method ```G_test.add_node()``` to add nodes. You can do this through looping: "
   ]
  },
  {
   "cell_type": "code",
   "execution_count": 15,
   "id": "6ba7ca5b-1fec-4098-ae15-1eed63acd5ec",
   "metadata": {},
   "outputs": [],
   "source": [
    "for node in df_docs.source:\n",
    "    G_test.add_node(node)"
   ]
  },
  {
   "cell_type": "markdown",
   "id": "8e4789dd-3cd3-47c1-b946-9bf3bfdef185",
   "metadata": {},
   "source": [
    "Or you can use list comprehensions"
   ]
  },
  {
   "cell_type": "code",
   "execution_count": 16,
   "id": "9fafc52e-e243-4d9d-84a1-bf6f91fdb617",
   "metadata": {},
   "outputs": [],
   "source": [
    "G_test = nx.Graph()\n",
    "[G_test.add_node(node) for node in df_docs.source];"
   ]
  },
  {
   "cell_type": "markdown",
   "id": "05646b44-900e-4cd2-8308-2ee844ae6ffe",
   "metadata": {},
   "source": [
    "Getting the edges in is tricky, as here you need to \"zip\" various lists into a \"tuple\"."
   ]
  },
  {
   "cell_type": "code",
   "execution_count": 17,
   "id": "d06b7bc0-073e-45af-8205-ed9582661630",
   "metadata": {},
   "outputs": [],
   "source": [
    "for node, edge, weight in zip(df_docs.source, df_docs.target, df_docs.weight):\n",
    "    G_test.add_edge(node, edge, weight=weight)"
   ]
  },
  {
   "cell_type": "markdown",
   "id": "e96d8e6f-1ecd-44e9-b51c-8ccce4ad3914",
   "metadata": {},
   "source": [
    "Here is the expected result"
   ]
  },
  {
   "cell_type": "code",
   "execution_count": 18,
   "id": "8208434e-03f6-4b76-9a65-7420e6aa7023",
   "metadata": {},
   "outputs": [
    {
     "data": {
      "image/png": "[encoded data removed]",
      "text/plain": [
       "<Figure size 576x576 with 1 Axes>"
      ]
     },
     "metadata": {},
     "output_type": "display_data"
    }
   ],
   "source": [
    "draw_spring(G_test)"
   ]
  },
  {
   "cell_type": "markdown",
   "id": "07ff4570-c825-47ce-9a8a-2ff025c2103d",
   "metadata": {},
   "source": [
    "## Working with JSON"
   ]
  },
  {
   "cell_type": "markdown",
   "id": "6a48ba78-86b9-4887-a21c-de6fcbeb2cad",
   "metadata": {},
   "source": [
    "Sometimes node-edge lists can be hard to work with, especially if one wants to have a lot of metadata, especially metadata that is large in size (like the text of a case). JSON is a more flexible way of storing these type of data. Literally JSON means \"Javascript Objection Notation\", and stores information about objects using pairs. JSON is virtually identical to the python dictionary format. \n",
    "\n",
    "Python will load a JSON file into a dictionary for inspection or manipulation. For this you need to use the json library.\n",
    "\n"
   ]
  },
  {
   "cell_type": "code",
   "execution_count": 21,
   "id": "b522c27f-4fe8-444b-80e7-1da5ee72f708",
   "metadata": {},
   "outputs": [],
   "source": [
    "f = open(\"data/g_docs.json\", \"r\")\n",
    "docs_dict = json.load(f)\n",
    "f.close()"
   ]
  },
  {
   "cell_type": "markdown",
   "id": "08010b70-a588-41ae-aeab-a462e05d9f63",
   "metadata": {},
   "source": [
    "Here we can see that the loaded JSON file is a dictionary."
   ]
  },
  {
   "cell_type": "code",
   "execution_count": 22,
   "id": "1dfcfe56-1a1f-4888-a872-c5275d345a89",
   "metadata": {},
   "outputs": [
    {
     "data": {
      "text/plain": [
       "dict"
      ]
     },
     "execution_count": 22,
     "metadata": {},
     "output_type": "execute_result"
    }
   ],
   "source": [
    "type(docs_dict)"
   ]
  },
  {
   "cell_type": "markdown",
   "id": "2ea8ff9b-f662-4c64-a75b-6108d1852977",
   "metadata": {},
   "source": [
    "Lets view it in its totality."
   ]
  },
  {
   "cell_type": "code",
   "execution_count": 23,
   "id": "c3f34c84-0ebf-41f4-b0a5-f1fd0115945f",
   "metadata": {},
   "outputs": [
    {
     "data": {
      "text/plain": [
       "{'directed': False,\n",
       " 'multigraph': False,\n",
       " 'graph': {},\n",
       " 'nodes': [{'id': 0},\n",
       "  {'id': 1},\n",
       "  {'id': 2},\n",
       "  {'id': 3},\n",
       "  {'id': 4},\n",
       "  {'id': 5},\n",
       "  {'id': 6},\n",
       "  {'id': 7},\n",
       "  {'id': 8}],\n",
       " 'links': [{'weight': 0.3057850860342909, 'source': 0, 'target': 1},\n",
       "  {'weight': 0.3515643806261561, 'source': 0, 'target': 2},\n",
       "  {'weight': 0.4011441744419861, 'source': 0, 'target': 3},\n",
       "  {'weight': 0.8588650335933432, 'source': 0, 'target': 4},\n",
       "  {'weight': 0.5663867925847853, 'source': 0, 'target': 5},\n",
       "  {'weight': 0.3036944274298017, 'source': 0, 'target': 6},\n",
       "  {'weight': 0.1427956434168483, 'source': 0, 'target': 7},\n",
       "  {'weight': 0.2663586423650602, 'source': 0, 'target': 8},\n",
       "  {'weight': 0.1887291756697731, 'source': 1, 'target': 2},\n",
       "  {'weight': 0.2301873550390033, 'source': 1, 'target': 3},\n",
       "  {'weight': 0.800124882934437, 'source': 1, 'target': 4},\n",
       "  {'weight': 0.4122354734424759, 'source': 1, 'target': 5},\n",
       "  {'weight': 0.5097321851655097, 'source': 1, 'target': 6},\n",
       "  {'weight': 0.3027866619120244, 'source': 1, 'target': 7},\n",
       "  {'weight': 0.1868838597034725, 'source': 1, 'target': 8},\n",
       "  {'weight': 0.2280158058874547, 'source': 2, 'target': 3},\n",
       "  {'weight': 0.7995610591992457, 'source': 2, 'target': 4},\n",
       "  {'weight': 0.366590703499365, 'source': 2, 'target': 5},\n",
       "  {'weight': 0.5195230803085847, 'source': 2, 'target': 6},\n",
       "  {'weight': 0.317271203011655, 'source': 2, 'target': 7},\n",
       "  {'weight': 0.1896235506799158, 'source': 2, 'target': 8},\n",
       "  {'weight': 0.7678964587257362, 'source': 3, 'target': 4},\n",
       "  {'weight': 0.3480240462634174, 'source': 3, 'target': 5},\n",
       "  {'weight': 0.5762447937744228, 'source': 3, 'target': 6},\n",
       "  {'weight': 0.3808681395940203, 'source': 3, 'target': 7},\n",
       "  {'weight': 0.2481169176073587, 'source': 3, 'target': 8},\n",
       "  {'weight': 0.6878902741436519, 'source': 4, 'target': 5},\n",
       "  {'weight': 0.9008941138337112, 'source': 4, 'target': 6},\n",
       "  {'weight': 0.8540864919561113, 'source': 4, 'target': 7},\n",
       "  {'weight': 0.8214267919513534, 'source': 4, 'target': 8},\n",
       "  {'weight': 0.6824646015295808, 'source': 5, 'target': 6},\n",
       "  {'weight': 0.5453013285723745, 'source': 5, 'target': 7},\n",
       "  {'weight': 0.4356888455303136, 'source': 5, 'target': 8},\n",
       "  {'weight': 0.3289244386028924, 'source': 6, 'target': 7},\n",
       "  {'weight': 0.4649224309916062, 'source': 6, 'target': 8},\n",
       "  {'weight': 0.2451832039590595, 'source': 7, 'target': 8}]}"
      ]
     },
     "execution_count": 23,
     "metadata": {},
     "output_type": "execute_result"
    }
   ],
   "source": [
    "docs_dict"
   ]
  },
  {
   "cell_type": "markdown",
   "id": "66acc750-a8a7-4c63-90dd-39fae3a9bf7e",
   "metadata": {},
   "source": [
    "First explore how the dictionary is nested. It is a single dictionary for the whole graph object. \n",
    "The first things we see are properties of the graph:\n",
    "\n",
    "1. directed\n",
    "2. multigraph\n",
    "3. graph \n",
    "4. nodes\n",
    "5. links\n",
    "\n"
   ]
  },
  {
   "cell_type": "code",
   "execution_count": 24,
   "id": "24955c52-ef69-4779-8ca9-de08edb5dde0",
   "metadata": {},
   "outputs": [
    {
     "data": {
      "text/plain": [
       "dict_keys(['directed', 'multigraph', 'graph', 'nodes', 'links'])"
      ]
     },
     "execution_count": 24,
     "metadata": {},
     "output_type": "execute_result"
    }
   ],
   "source": [
    "docs_dict.keys()"
   ]
  },
  {
   "cell_type": "markdown",
   "id": "7bce53b4-1371-4e0c-95f0-f9eacb16b10c",
   "metadata": {},
   "source": [
    "Directed and multigraph take in a boolean value depending on whether the graph is directed or not, multigraph or not."
   ]
  },
  {
   "cell_type": "code",
   "execution_count": 25,
   "id": "1e3ffe61-037d-424f-9dd1-26d77c65cc92",
   "metadata": {},
   "outputs": [
    {
     "name": "stdout",
     "output_type": "stream",
     "text": [
      "False\n",
      "False\n"
     ]
    }
   ],
   "source": [
    "print(docs_dict['directed'])\n",
    "print(docs_dict['multigraph'])"
   ]
  },
  {
   "cell_type": "markdown",
   "id": "3401e867-5ba0-493b-9ae2-287711c59f6b",
   "metadata": {},
   "source": [
    "The nodes key in turn contains a list of all the nodes in the network. Every node is itself a dictionary (or a JSON object) containing its own set of information. In practice this includes:\n",
    "\n",
    "1. node id\n",
    "2. Some nodes have \"type\" information.\n",
    "\n",
    "But other arbitrary information could be added, such as the text of the actual legal source.\n",
    "\n",
    "Notice the square brackets showing that we are dealing with a list when we query \"nodes\"."
   ]
  },
  {
   "cell_type": "code",
   "execution_count": 26,
   "id": "a806ce35-b94a-4fff-a87f-fe0fd3c611d0",
   "metadata": {},
   "outputs": [
    {
     "data": {
      "text/plain": [
       "[{'id': 0},\n",
       " {'id': 1},\n",
       " {'id': 2},\n",
       " {'id': 3},\n",
       " {'id': 4},\n",
       " {'id': 5},\n",
       " {'id': 6},\n",
       " {'id': 7},\n",
       " {'id': 8}]"
      ]
     },
     "execution_count": 26,
     "metadata": {},
     "output_type": "execute_result"
    }
   ],
   "source": [
    "docs_dict['nodes']"
   ]
  },
  {
   "cell_type": "markdown",
   "id": "73ace499-0bca-4597-8ca5-9ecdb7e5282f",
   "metadata": {},
   "source": [
    "Lets query the third node in our list"
   ]
  },
  {
   "cell_type": "code",
   "execution_count": 27,
   "id": "0b1f3907-f7e1-4460-b5f3-2f7ba76e7275",
   "metadata": {},
   "outputs": [
    {
     "data": {
      "text/plain": [
       "dict_keys(['id'])"
      ]
     },
     "execution_count": 27,
     "metadata": {},
     "output_type": "execute_result"
    }
   ],
   "source": [
    "docs_dict['nodes'][2].keys()"
   ]
  },
  {
   "cell_type": "markdown",
   "id": "2b245c15-40c4-4195-a0e5-76fa3878301f",
   "metadata": {},
   "source": [
    "The same goes for edge data, which will show necessarily the nodes at either side on the edge, as well as the weight, plus any other information one might want to add here."
   ]
  },
  {
   "cell_type": "code",
   "execution_count": 28,
   "id": "a37cb1f5-c1b3-402b-8379-3a3a7fa40f08",
   "metadata": {},
   "outputs": [
    {
     "data": {
      "text/plain": [
       "[{'weight': 0.3057850860342909, 'source': 0, 'target': 1},\n",
       " {'weight': 0.3515643806261561, 'source': 0, 'target': 2},\n",
       " {'weight': 0.4011441744419861, 'source': 0, 'target': 3},\n",
       " {'weight': 0.8588650335933432, 'source': 0, 'target': 4},\n",
       " {'weight': 0.5663867925847853, 'source': 0, 'target': 5},\n",
       " {'weight': 0.3036944274298017, 'source': 0, 'target': 6},\n",
       " {'weight': 0.1427956434168483, 'source': 0, 'target': 7},\n",
       " {'weight': 0.2663586423650602, 'source': 0, 'target': 8},\n",
       " {'weight': 0.1887291756697731, 'source': 1, 'target': 2},\n",
       " {'weight': 0.2301873550390033, 'source': 1, 'target': 3},\n",
       " {'weight': 0.800124882934437, 'source': 1, 'target': 4},\n",
       " {'weight': 0.4122354734424759, 'source': 1, 'target': 5},\n",
       " {'weight': 0.5097321851655097, 'source': 1, 'target': 6},\n",
       " {'weight': 0.3027866619120244, 'source': 1, 'target': 7},\n",
       " {'weight': 0.1868838597034725, 'source': 1, 'target': 8},\n",
       " {'weight': 0.2280158058874547, 'source': 2, 'target': 3},\n",
       " {'weight': 0.7995610591992457, 'source': 2, 'target': 4},\n",
       " {'weight': 0.366590703499365, 'source': 2, 'target': 5},\n",
       " {'weight': 0.5195230803085847, 'source': 2, 'target': 6},\n",
       " {'weight': 0.317271203011655, 'source': 2, 'target': 7},\n",
       " {'weight': 0.1896235506799158, 'source': 2, 'target': 8},\n",
       " {'weight': 0.7678964587257362, 'source': 3, 'target': 4},\n",
       " {'weight': 0.3480240462634174, 'source': 3, 'target': 5},\n",
       " {'weight': 0.5762447937744228, 'source': 3, 'target': 6},\n",
       " {'weight': 0.3808681395940203, 'source': 3, 'target': 7},\n",
       " {'weight': 0.2481169176073587, 'source': 3, 'target': 8},\n",
       " {'weight': 0.6878902741436519, 'source': 4, 'target': 5},\n",
       " {'weight': 0.9008941138337112, 'source': 4, 'target': 6},\n",
       " {'weight': 0.8540864919561113, 'source': 4, 'target': 7},\n",
       " {'weight': 0.8214267919513534, 'source': 4, 'target': 8},\n",
       " {'weight': 0.6824646015295808, 'source': 5, 'target': 6},\n",
       " {'weight': 0.5453013285723745, 'source': 5, 'target': 7},\n",
       " {'weight': 0.4356888455303136, 'source': 5, 'target': 8},\n",
       " {'weight': 0.3289244386028924, 'source': 6, 'target': 7},\n",
       " {'weight': 0.4649224309916062, 'source': 6, 'target': 8},\n",
       " {'weight': 0.2451832039590595, 'source': 7, 'target': 8}]"
      ]
     },
     "execution_count": 28,
     "metadata": {},
     "output_type": "execute_result"
    }
   ],
   "source": [
    "docs_dict['links']"
   ]
  }
 ],
 "metadata": {
  "kernelspec": {
   "display_name": "Python 3 (ipykernel)",
   "language": "python",
   "name": "python3"
  },
  "language_info": {
   "codemirror_mode": {
    "name": "ipython",
    "version": 3
   },
   "file_extension": ".py",
   "mimetype": "text/x-python",
   "name": "python",
   "nbconvert_exporter": "python",
   "pygments_lexer": "ipython3",
   "version": "3.9.12"
  }
 },
 "nbformat": 4,
 "nbformat_minor": 5
}
