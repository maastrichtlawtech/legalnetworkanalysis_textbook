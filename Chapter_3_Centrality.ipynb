{
 "cells": [
  {
   "cell_type": "code",
   "execution_count": 18,
   "id": "4f387f32-43f7-4df8-8370-930f345e745e",
   "metadata": {},
   "outputs": [],
   "source": [
    "import networkx as nx\n",
    "import numpy as np\n",
    "import seaborn as sns\n",
    "import pandas as pd\n",
    "import matplotlib.pyplot as plt\n",
    "from networkx.drawing.nx_pydot import graphviz_layout\n",
    "from src.helper import draw_spring, load_graph_from_json, score_normalize\n",
    "np.random.seed(123)"
   ]
  },
  {
   "cell_type": "markdown",
   "id": "b8b8170e-c608-4567-bb93-72d8f1b34594",
   "metadata": {
    "id": "2d6CqfvuvUR9",
    "tags": []
   },
   "source": [
    "# 3 Network Centrality\n",
    "\n",
    "As noted in Chapter 1, we can be interested in determining which nodes of a network are more important, more popular, or better connected. Network centrality measures aim to retrieve this information. \n",
    "\n",
    "There are a variety of network centrality measures, and although they overlap, they capture different ways in which a node may be regarded as central. Which centrality measure to use, depends on the research question one is interested in, on domain knowledge and sensitivity to context. \n",
    "\n",
    "The presentation that follows will present a range of centrality measures ranging from some very straightforward ones like degree centrality, to some more complex measures like Pagerank and HITS. The mathematics involved in this measures should be accessible to all readers (especially as ```numpy``` takes care of some otherwise intractable calculations).\n",
    "\n",
    "It will also try to give you insight into some considerations that count when choosing which measure to focus on. This will involve comparing the results of different measures on simple networks. \n",
    "\n",
    ">Please note that it is not possible to compare the results of different centrality measures unless they are \"normalized\" first. For more on normalization please see Appendix 3. \n",
    "\n"
   ]
  },
  {
   "cell_type": "markdown",
   "id": "5f69293f-5550-4993-909c-fb6ac764fe5f",
   "metadata": {
    "id": "cIBrct1euSlC"
   },
   "source": [
    "### 3.1 Degree and Degree Centrality\n",
    "\n",
    "A first approach to finding which nodes are more central relies on degree. Degree is a property of nodes that records how many neighbors a node has. One would expect more central nodes to have a higher degree value than other nodes. It is possible to calculate Degree for every node and to subsequently rank the results from the one with most neighbors to the one with the least. This already provides with a simple, but reliable, centrality measure.\n",
    " \n",
    "Degree provides for a discrete value. A node can have a degree score of 1, 5, 673, or any other value for that matter. Such a discrete value might not always provide insight. For instance, a degree score of 5 in a network of 6 nodes is very different from a degree score of 5 in a network of 200.000 nodes. For this reason the degree centrality measure typically contextualizes the degree score by divides the degree score by the number of nodes in the network minus 1.\n",
    "\n",
    "Degree centrality is the simplest of all the centrality scores, and it considers only the direct number of connections you have. It does not consider things like indirect connections, or the relative importance of those who connect to you. So for those we will have to look at other measures.\n"
   ]
  },
  {
   "cell_type": "markdown",
   "id": "31d81b66-309a-4cb2-b08e-b37a33bf5f2f",
   "metadata": {},
   "source": [
    "For an easy illustration of how the calculation of degree and centrality measures looks in practice, we turn to an example of a 1970s karate club. This network arises from a sociological study of a karate club that would break up, with some students following the club's president and others the club instructor. What we are going to do here is to guess, using degree centrality, who might these two high profile club members be based on the number of friendships each karate club member has. For this, we can calculate the Degree scores for each individual node and subsequently rank the scores in a descending order. We suspect that the individuals with the highest Degree scores will be the instructor and the president.\n",
    "\n",
    "<img src=\"images/shared/karate_generic.png\"/>\n"
   ]
  },
  {
   "cell_type": "code",
   "execution_count": 19,
   "id": "a6201a9b-320a-4c81-a188-5442cb9678ba",
   "metadata": {},
   "outputs": [
    {
     "data": {
      "text/html": [
       "<div>\n",
       "<style scoped>\n",
       "    .dataframe tbody tr th:only-of-type {\n",
       "        vertical-align: middle;\n",
       "    }\n",
       "\n",
       "    .dataframe tbody tr th {\n",
       "        vertical-align: top;\n",
       "    }\n",
       "\n",
       "    .dataframe thead th {\n",
       "        text-align: right;\n",
       "    }\n",
       "</style>\n",
       "<table border=\"1\" class=\"dataframe\">\n",
       "  <thead>\n",
       "    <tr style=\"text-align: right;\">\n",
       "      <th></th>\n",
       "      <th>degree</th>\n",
       "      <th>deg_centrality</th>\n",
       "    </tr>\n",
       "    <tr>\n",
       "      <th>node_id</th>\n",
       "      <th></th>\n",
       "      <th></th>\n",
       "    </tr>\n",
       "  </thead>\n",
       "  <tbody>\n",
       "    <tr>\n",
       "      <th>33</th>\n",
       "      <td>17</td>\n",
       "      <td>0.515152</td>\n",
       "    </tr>\n",
       "    <tr>\n",
       "      <th>0</th>\n",
       "      <td>16</td>\n",
       "      <td>0.484848</td>\n",
       "    </tr>\n",
       "    <tr>\n",
       "      <th>32</th>\n",
       "      <td>12</td>\n",
       "      <td>0.363636</td>\n",
       "    </tr>\n",
       "    <tr>\n",
       "      <th>2</th>\n",
       "      <td>10</td>\n",
       "      <td>0.303030</td>\n",
       "    </tr>\n",
       "    <tr>\n",
       "      <th>1</th>\n",
       "      <td>9</td>\n",
       "      <td>0.272727</td>\n",
       "    </tr>\n",
       "    <tr>\n",
       "      <th>3</th>\n",
       "      <td>6</td>\n",
       "      <td>0.181818</td>\n",
       "    </tr>\n",
       "    <tr>\n",
       "      <th>31</th>\n",
       "      <td>6</td>\n",
       "      <td>0.181818</td>\n",
       "    </tr>\n",
       "    <tr>\n",
       "      <th>23</th>\n",
       "      <td>5</td>\n",
       "      <td>0.151515</td>\n",
       "    </tr>\n",
       "    <tr>\n",
       "      <th>8</th>\n",
       "      <td>5</td>\n",
       "      <td>0.151515</td>\n",
       "    </tr>\n",
       "    <tr>\n",
       "      <th>13</th>\n",
       "      <td>5</td>\n",
       "      <td>0.151515</td>\n",
       "    </tr>\n",
       "    <tr>\n",
       "      <th>27</th>\n",
       "      <td>4</td>\n",
       "      <td>0.121212</td>\n",
       "    </tr>\n",
       "    <tr>\n",
       "      <th>29</th>\n",
       "      <td>4</td>\n",
       "      <td>0.121212</td>\n",
       "    </tr>\n",
       "    <tr>\n",
       "      <th>30</th>\n",
       "      <td>4</td>\n",
       "      <td>0.121212</td>\n",
       "    </tr>\n",
       "    <tr>\n",
       "      <th>7</th>\n",
       "      <td>4</td>\n",
       "      <td>0.121212</td>\n",
       "    </tr>\n",
       "    <tr>\n",
       "      <th>6</th>\n",
       "      <td>4</td>\n",
       "      <td>0.121212</td>\n",
       "    </tr>\n",
       "    <tr>\n",
       "      <th>5</th>\n",
       "      <td>4</td>\n",
       "      <td>0.121212</td>\n",
       "    </tr>\n",
       "    <tr>\n",
       "      <th>10</th>\n",
       "      <td>3</td>\n",
       "      <td>0.090909</td>\n",
       "    </tr>\n",
       "    <tr>\n",
       "      <th>28</th>\n",
       "      <td>3</td>\n",
       "      <td>0.090909</td>\n",
       "    </tr>\n",
       "    <tr>\n",
       "      <th>4</th>\n",
       "      <td>3</td>\n",
       "      <td>0.090909</td>\n",
       "    </tr>\n",
       "    <tr>\n",
       "      <th>19</th>\n",
       "      <td>3</td>\n",
       "      <td>0.090909</td>\n",
       "    </tr>\n",
       "    <tr>\n",
       "      <th>25</th>\n",
       "      <td>3</td>\n",
       "      <td>0.090909</td>\n",
       "    </tr>\n",
       "    <tr>\n",
       "      <th>24</th>\n",
       "      <td>3</td>\n",
       "      <td>0.090909</td>\n",
       "    </tr>\n",
       "    <tr>\n",
       "      <th>26</th>\n",
       "      <td>2</td>\n",
       "      <td>0.060606</td>\n",
       "    </tr>\n",
       "    <tr>\n",
       "      <th>18</th>\n",
       "      <td>2</td>\n",
       "      <td>0.060606</td>\n",
       "    </tr>\n",
       "    <tr>\n",
       "      <th>22</th>\n",
       "      <td>2</td>\n",
       "      <td>0.060606</td>\n",
       "    </tr>\n",
       "    <tr>\n",
       "      <th>21</th>\n",
       "      <td>2</td>\n",
       "      <td>0.060606</td>\n",
       "    </tr>\n",
       "    <tr>\n",
       "      <th>20</th>\n",
       "      <td>2</td>\n",
       "      <td>0.060606</td>\n",
       "    </tr>\n",
       "    <tr>\n",
       "      <th>16</th>\n",
       "      <td>2</td>\n",
       "      <td>0.060606</td>\n",
       "    </tr>\n",
       "    <tr>\n",
       "      <th>15</th>\n",
       "      <td>2</td>\n",
       "      <td>0.060606</td>\n",
       "    </tr>\n",
       "    <tr>\n",
       "      <th>14</th>\n",
       "      <td>2</td>\n",
       "      <td>0.060606</td>\n",
       "    </tr>\n",
       "    <tr>\n",
       "      <th>12</th>\n",
       "      <td>2</td>\n",
       "      <td>0.060606</td>\n",
       "    </tr>\n",
       "    <tr>\n",
       "      <th>9</th>\n",
       "      <td>2</td>\n",
       "      <td>0.060606</td>\n",
       "    </tr>\n",
       "    <tr>\n",
       "      <th>17</th>\n",
       "      <td>2</td>\n",
       "      <td>0.060606</td>\n",
       "    </tr>\n",
       "    <tr>\n",
       "      <th>11</th>\n",
       "      <td>1</td>\n",
       "      <td>0.030303</td>\n",
       "    </tr>\n",
       "  </tbody>\n",
       "</table>\n",
       "</div>"
      ],
      "text/plain": [
       "         degree  deg_centrality\n",
       "node_id                        \n",
       "33           17        0.515152\n",
       "0            16        0.484848\n",
       "32           12        0.363636\n",
       "2            10        0.303030\n",
       "1             9        0.272727\n",
       "3             6        0.181818\n",
       "31            6        0.181818\n",
       "23            5        0.151515\n",
       "8             5        0.151515\n",
       "13            5        0.151515\n",
       "27            4        0.121212\n",
       "29            4        0.121212\n",
       "30            4        0.121212\n",
       "7             4        0.121212\n",
       "6             4        0.121212\n",
       "5             4        0.121212\n",
       "10            3        0.090909\n",
       "28            3        0.090909\n",
       "4             3        0.090909\n",
       "19            3        0.090909\n",
       "25            3        0.090909\n",
       "24            3        0.090909\n",
       "26            2        0.060606\n",
       "18            2        0.060606\n",
       "22            2        0.060606\n",
       "21            2        0.060606\n",
       "20            2        0.060606\n",
       "16            2        0.060606\n",
       "15            2        0.060606\n",
       "14            2        0.060606\n",
       "12            2        0.060606\n",
       "9             2        0.060606\n",
       "17            2        0.060606\n",
       "11            1        0.030303"
      ]
     },
     "execution_count": 19,
     "metadata": {},
     "output_type": "execute_result"
    }
   ],
   "source": [
    "g_karate = nx.karate_club_graph()\n",
    "degree = nx.degree(g_karate)\n",
    "nodeid = list(dict(degree).keys())\n",
    "degscore = list(dict(degree).values())\n",
    "centrality = nx.degree_centrality(g_karate)\n",
    "centscore = list(dict(centrality).values())\n",
    "resdf = pd.DataFrame({\"node_id\":nodeid, \"degree\":degscore, \"deg_centrality\":centscore})\n",
    "resdf.set_index(\"node_id\", inplace=True)\n",
    "resdf.sort_values('degree', ascending=False)"
   ]
  },
  {
   "cell_type": "markdown",
   "id": "448b2834-53ef-4874-bbc5-5812b225d976",
   "metadata": {},
   "source": [
    "This is in fact the case. The instructor is node 33 and the president is node 0."
   ]
  },
  {
   "cell_type": "markdown",
   "id": "e234517c-77b4-4313-97b6-1464cebae751",
   "metadata": {},
   "source": [
    "We can do a similar exercise for a simplified network of some train stations in the Netherlands.\n",
    "\n",
    "<img src=\"images/shared/trains_generic.png\"/>\n"
   ]
  },
  {
   "cell_type": "markdown",
   "id": "810bf354-5b1a-4561-b805-66f5a27a62a2",
   "metadata": {
    "id": "5XlVuMkF_WLn"
   },
   "source": [
    "We can calculate the degree for each station. There are 20 train stations in this dataset. When we ask NetworkX to calculate the results, we can see that Utrecht has the highest degree (degree=12)."
   ]
  },
  {
   "cell_type": "code",
   "execution_count": 20,
   "id": "9f9cb983-ac68-4275-9dbe-23d3bdf25df9",
   "metadata": {
    "colab": {
     "base_uri": "https://localhost:8080/"
    },
    "id": "xuRA8mgY-WPu",
    "outputId": "b0c32602-8b11-439b-9c5d-7466ae017f4c"
   },
   "outputs": [
    {
     "ename": "NameError",
     "evalue": "name 'g_trains' is not defined",
     "output_type": "error",
     "traceback": [
      "\u001b[0;31m---------------------------------------------------------------------------\u001b[0m",
      "\u001b[0;31mNameError\u001b[0m                                 Traceback (most recent call last)",
      "Cell \u001b[0;32mIn[20], line 1\u001b[0m\n\u001b[0;32m----> 1\u001b[0m degree \u001b[38;5;241m=\u001b[39m nx\u001b[38;5;241m.\u001b[39mdegree(g_trains)\n\u001b[1;32m      2\u001b[0m nodeid \u001b[38;5;241m=\u001b[39m \u001b[38;5;28mlist\u001b[39m(\u001b[38;5;28mdict\u001b[39m(degree)\u001b[38;5;241m.\u001b[39mkeys())\n\u001b[1;32m      3\u001b[0m degscore \u001b[38;5;241m=\u001b[39m \u001b[38;5;28mlist\u001b[39m(\u001b[38;5;28mdict\u001b[39m(degree)\u001b[38;5;241m.\u001b[39mvalues())\n",
      "\u001b[0;31mNameError\u001b[0m: name 'g_trains' is not defined"
     ]
    }
   ],
   "source": [
    "degree = nx.degree(g_trains)\n",
    "nodeid = list(dict(degree).keys())\n",
    "degscore = list(dict(degree).values())\n",
    "centrality = nx.degree_centrality(g_trains)\n",
    "centscore = list(dict(centrality).values())\n",
    "resdf = pd.DataFrame({\"node_id\":nodeid, \"degree\":degscore, \"deg_centrality\":centscore})\n",
    "resdf.set_index(\"node_id\", inplace=True)\n",
    "resdf.sort_values('degree', ascending=False)"
   ]
  },
  {
   "cell_type": "markdown",
   "id": "4e6b669f-33dd-418a-8f4a-69bacc05c49c",
   "metadata": {
    "id": "annIPi6QUXec"
   },
   "source": [
    "#### A) Undirected degree centrality\n",
    "\n",
    "The idea of degree and degree centrality is straightforward enough. But now lets introduce some notation and try to do the calculations \"by hand\". This will help us when we move to slightly more complex metrics.\n",
    "\n",
    "In terms of notation, the degree centrality of a node can be represented by the following formula:\n",
    "\n",
    "$$ \\frac{degree(n)}{|N|-1} \\mid n \\in N $$\n",
    "\n",
    "Here the large N refers to the set of all the nodes in the network. The small n refers to any particular node, whereas $ degree $ is a function that takes a node n, and returns how many edges link to that node. Here the $ \\mid n \\in N $ further specifies that n is a node belonging to the set of nodes in the network N. This part might have been omitted in a more economical representation of the formula. \n",
    "\n",
    "Remember the degree score is divided by the total number of nodes in the network in order to contextualize the score. Why 1 is substracted from this value might be puzzling. The subtraction is done to unbias the calculation by removing the node being considered from the total number of nodes. For all but the smallest networks this operation has very little practical difference, and some practical implementations of the algorithm will not bother to subtract 1.\n",
    "\n",
    "The vertical bars in $ |N| $ refer to the cardinality of the nodes in the network. In set theory, cardinality is simply the number of items a set has. So the cardinality of the set of colors blue, green, yellow is 3. The cardinality of the set of days in the week is 7, etc. Mathematical notation, however, is contextual. The vertical bars around N are sometimes used to mean something else , so one must interpret them in the context of what is being discussed (sometimes, the formula might simply write \"N\", on the assumption that it is obvious that it refers to the number of nodes in the Network of which \"n\" is but one)."
   ]
  },
  {
   "cell_type": "markdown",
   "id": "752a47e9-94f2-4e4f-8a80-785337ba1a86",
   "metadata": {
    "id": "gJGmhPk1_ut0"
   },
   "source": [
    "Now we can put this in practice and apply the formula by hand. For example looking back at the trains network, we can see that Maastricht has a degree of 1: there is only one station that links to Maastricht, in this case Roermond. So the calculation is simply: \n",
    "\n",
    "$$ \\frac{degree(Maastricht)}{|N|-1} $$\n",
    "\n",
    "or \n",
    "\n",
    "$$ \\frac{1}{20-1} = 0.052 $$\n",
    "\n",
    "What is the degree of Eindhoven? It is connected to Tilburg, Venlo, Utrecht, Schipol, and Weert, so it has a degree of 5. This means that its centrality score should be:\n",
    "\n",
    "$$ \\frac{degree(Eindhoven)}{|N|-1} $$\n",
    "\n",
    "or \n",
    "\n",
    "$$ \\frac{5}{20-1} = 0.26 $$\n",
    "\n",
    "You can check above, and see that this is the same result that networkx gives you."
   ]
  },
  {
   "cell_type": "markdown",
   "id": "705be5b8-ea71-4c3b-8fd8-9bd693d2af2d",
   "metadata": {
    "id": "guUSXNH_Oygs"
   },
   "source": [
    "#### B) Directed (in-degree and out-degree) centrality\n",
    "\n",
    "Degree centrality considers the number of neighbors a node has, in relation to the total number of nodes. In directed networks, one can differentiate between in-degree (the number of nodes that point to a given node) and out-degree (the number of nodes that a given node points out to). In our case law network, we might expect that the number of incoming reference to a case is a good indicator or precedent value. Or we might be looking for cases that give an overview of existing case law, in which case we might want to look at the out-degree scores of the nodes, where higher scores indicate more references to other cases.\n",
    "\n",
    "It can be useful to have a list of cases ordered by their \"importance\" (degree or centrality) in terms of incoming or outgoing edges. We illustrate with the case law example, where we can find the in-degree scores for the individual nodes. We can calculate the degree, in-degree, or out-degree centrality of all nodes in our case law network (ranked or unranked), but with a network of 1,614 the list can be rather long. \n",
    "\n",
    "Lets first print out the results sorted by in degree."
   ]
  },
  {
   "cell_type": "code",
   "execution_count": null,
   "id": "36d8588a-a0b0-4ebe-984e-42babd3042f2",
   "metadata": {
    "colab": {
     "base_uri": "https://localhost:8080/",
     "height": 238
    },
    "id": "FIBkU8u_gD0d",
    "outputId": "921d3c5c-dea6-4f82-a809-391bbc9ba590"
   },
   "outputs": [
    {
     "data": {
      "text/html": [
       "<div>\n",
       "<style scoped>\n",
       "    .dataframe tbody tr th:only-of-type {\n",
       "        vertical-align: middle;\n",
       "    }\n",
       "\n",
       "    .dataframe tbody tr th {\n",
       "        vertical-align: top;\n",
       "    }\n",
       "\n",
       "    .dataframe thead th {\n",
       "        text-align: right;\n",
       "    }\n",
       "</style>\n",
       "<table border=\"1\" class=\"dataframe\">\n",
       "  <thead>\n",
       "    <tr style=\"text-align: right;\">\n",
       "      <th></th>\n",
       "      <th>indegree</th>\n",
       "      <th>outdegree</th>\n",
       "      <th>indeg_centrality</th>\n",
       "      <th>outdeg_centrality</th>\n",
       "    </tr>\n",
       "    <tr>\n",
       "      <th>node_id</th>\n",
       "      <th></th>\n",
       "      <th></th>\n",
       "      <th></th>\n",
       "      <th></th>\n",
       "    </tr>\n",
       "  </thead>\n",
       "  <tbody>\n",
       "    <tr>\n",
       "      <th>61992CJ0091</th>\n",
       "      <td>46</td>\n",
       "      <td>7</td>\n",
       "      <td>0.028518</td>\n",
       "      <td>0.004340</td>\n",
       "    </tr>\n",
       "    <tr>\n",
       "      <th>62003CJ0210</th>\n",
       "      <td>41</td>\n",
       "      <td>31</td>\n",
       "      <td>0.025418</td>\n",
       "      <td>0.019219</td>\n",
       "    </tr>\n",
       "    <tr>\n",
       "      <th>62001CJ0491</th>\n",
       "      <td>40</td>\n",
       "      <td>40</td>\n",
       "      <td>0.024799</td>\n",
       "      <td>0.024799</td>\n",
       "    </tr>\n",
       "    <tr>\n",
       "      <th>61994CJ0178</th>\n",
       "      <td>31</td>\n",
       "      <td>5</td>\n",
       "      <td>0.019219</td>\n",
       "      <td>0.003100</td>\n",
       "    </tr>\n",
       "    <tr>\n",
       "      <th>62008CJ0040</th>\n",
       "      <td>30</td>\n",
       "      <td>16</td>\n",
       "      <td>0.018599</td>\n",
       "      <td>0.009919</td>\n",
       "    </tr>\n",
       "    <tr>\n",
       "      <th>...</th>\n",
       "      <td>...</td>\n",
       "      <td>...</td>\n",
       "      <td>...</td>\n",
       "      <td>...</td>\n",
       "    </tr>\n",
       "    <tr>\n",
       "      <th>62011CJ0332</th>\n",
       "      <td>0</td>\n",
       "      <td>1</td>\n",
       "      <td>0.000000</td>\n",
       "      <td>0.000620</td>\n",
       "    </tr>\n",
       "    <tr>\n",
       "      <th>62011CJ0419</th>\n",
       "      <td>0</td>\n",
       "      <td>1</td>\n",
       "      <td>0.000000</td>\n",
       "      <td>0.000620</td>\n",
       "    </tr>\n",
       "    <tr>\n",
       "      <th>62011CJ0215</th>\n",
       "      <td>0</td>\n",
       "      <td>1</td>\n",
       "      <td>0.000000</td>\n",
       "      <td>0.000620</td>\n",
       "    </tr>\n",
       "    <tr>\n",
       "      <th>62011CJ0133</th>\n",
       "      <td>0</td>\n",
       "      <td>2</td>\n",
       "      <td>0.000000</td>\n",
       "      <td>0.001240</td>\n",
       "    </tr>\n",
       "    <tr>\n",
       "      <th>62004CO0420</th>\n",
       "      <td>0</td>\n",
       "      <td>1</td>\n",
       "      <td>0.000000</td>\n",
       "      <td>0.000620</td>\n",
       "    </tr>\n",
       "  </tbody>\n",
       "</table>\n",
       "<p>1614 rows × 4 columns</p>\n",
       "</div>"
      ],
      "text/plain": [
       "             indegree  outdegree  indeg_centrality  outdeg_centrality\n",
       "node_id                                                              \n",
       "61992CJ0091        46          7          0.028518           0.004340\n",
       "62003CJ0210        41         31          0.025418           0.019219\n",
       "62001CJ0491        40         40          0.024799           0.024799\n",
       "61994CJ0178        31          5          0.019219           0.003100\n",
       "62008CJ0040        30         16          0.018599           0.009919\n",
       "...               ...        ...               ...                ...\n",
       "62011CJ0332         0          1          0.000000           0.000620\n",
       "62011CJ0419         0          1          0.000000           0.000620\n",
       "62011CJ0215         0          1          0.000000           0.000620\n",
       "62011CJ0133         0          2          0.000000           0.001240\n",
       "62004CO0420         0          1          0.000000           0.000620\n",
       "\n",
       "[1614 rows x 4 columns]"
      ]
     },
     "execution_count": 6,
     "metadata": {},
     "output_type": "execute_result"
    }
   ],
   "source": [
    "g_consprot = load_graph_from_json(\"data/g_consprot.json\")\n",
    "indegree = g_consprot.in_degree(g_consprot)\n",
    "outdegree = g_consprot.out_degree(g_consprot)\n",
    "nodeid = list(dict(indegree).keys())\n",
    "indegscore = list(dict(indegree).values())\n",
    "outdegscore = list(dict(outdegree).values())\n",
    "\n",
    "incentrality = nx.in_degree_centrality(g_consprot)\n",
    "incentscore = list(dict(incentrality).values())\n",
    "outcentrality = nx.out_degree_centrality(g_consprot)\n",
    "outcentscore = list(dict(outcentrality).values())\n",
    "\n",
    "resdf = pd.DataFrame({\"node_id\":nodeid, \n",
    "                      \"indegree\":indegscore,\n",
    "                      \"outdegree\": outdegscore,\n",
    "                      \"indeg_centrality\":incentscore,\n",
    "                      \"outdeg_centrality\":outcentscore})\n",
    "resdf.set_index(\"node_id\", inplace=True)\n",
    "resdf.sort_values('indegree', ascending=False)\n"
   ]
  },
  {
   "cell_type": "markdown",
   "id": "ee6f407b-0202-4e0a-b382-8a4e61e8d15b",
   "metadata": {
    "id": "EApkmsi1hc5Q"
   },
   "source": [
    "Now lets do the same for out degree."
   ]
  },
  {
   "cell_type": "code",
   "execution_count": null,
   "id": "bdc302ed-a909-4196-8b98-209a3837c6b8",
   "metadata": {
    "colab": {
     "base_uri": "https://localhost:8080/",
     "height": 238
    },
    "id": "ldhCiuwfhdTU",
    "outputId": "05664032-b57f-48c0-f537-a7397e8d0adc"
   },
   "outputs": [
    {
     "data": {
      "text/html": [
       "<div>\n",
       "<style scoped>\n",
       "    .dataframe tbody tr th:only-of-type {\n",
       "        vertical-align: middle;\n",
       "    }\n",
       "\n",
       "    .dataframe tbody tr th {\n",
       "        vertical-align: top;\n",
       "    }\n",
       "\n",
       "    .dataframe thead th {\n",
       "        text-align: right;\n",
       "    }\n",
       "</style>\n",
       "<table border=\"1\" class=\"dataframe\">\n",
       "  <thead>\n",
       "    <tr style=\"text-align: right;\">\n",
       "      <th></th>\n",
       "      <th>indegree</th>\n",
       "      <th>outdegree</th>\n",
       "      <th>indeg_centrality</th>\n",
       "      <th>outdeg_centrality</th>\n",
       "    </tr>\n",
       "    <tr>\n",
       "      <th>node_id</th>\n",
       "      <th></th>\n",
       "      <th></th>\n",
       "      <th></th>\n",
       "      <th></th>\n",
       "    </tr>\n",
       "  </thead>\n",
       "  <tbody>\n",
       "    <tr>\n",
       "      <th>62001CJ0491</th>\n",
       "      <td>40</td>\n",
       "      <td>40</td>\n",
       "      <td>0.024799</td>\n",
       "      <td>0.024799</td>\n",
       "    </tr>\n",
       "    <tr>\n",
       "      <th>62003CJ0210</th>\n",
       "      <td>41</td>\n",
       "      <td>31</td>\n",
       "      <td>0.025418</td>\n",
       "      <td>0.019219</td>\n",
       "    </tr>\n",
       "    <tr>\n",
       "      <th>62006CJ0244</th>\n",
       "      <td>9</td>\n",
       "      <td>27</td>\n",
       "      <td>0.005580</td>\n",
       "      <td>0.016739</td>\n",
       "    </tr>\n",
       "    <tr>\n",
       "      <th>62012CJ0470</th>\n",
       "      <td>15</td>\n",
       "      <td>24</td>\n",
       "      <td>0.009299</td>\n",
       "      <td>0.014879</td>\n",
       "    </tr>\n",
       "    <tr>\n",
       "      <th>62014CJ0377</th>\n",
       "      <td>2</td>\n",
       "      <td>22</td>\n",
       "      <td>0.001240</td>\n",
       "      <td>0.013639</td>\n",
       "    </tr>\n",
       "    <tr>\n",
       "      <th>...</th>\n",
       "      <td>...</td>\n",
       "      <td>...</td>\n",
       "      <td>...</td>\n",
       "      <td>...</td>\n",
       "    </tr>\n",
       "    <tr>\n",
       "      <th>62009CJ0185</th>\n",
       "      <td>1</td>\n",
       "      <td>0</td>\n",
       "      <td>0.000620</td>\n",
       "      <td>0.000000</td>\n",
       "    </tr>\n",
       "    <tr>\n",
       "      <th>61996CJ0180</th>\n",
       "      <td>2</td>\n",
       "      <td>0</td>\n",
       "      <td>0.001240</td>\n",
       "      <td>0.000000</td>\n",
       "    </tr>\n",
       "    <tr>\n",
       "      <th>62005CJ0152</th>\n",
       "      <td>4</td>\n",
       "      <td>0</td>\n",
       "      <td>0.002480</td>\n",
       "      <td>0.000000</td>\n",
       "    </tr>\n",
       "    <tr>\n",
       "      <th>62004CJ0375</th>\n",
       "      <td>1</td>\n",
       "      <td>0</td>\n",
       "      <td>0.000620</td>\n",
       "      <td>0.000000</td>\n",
       "    </tr>\n",
       "    <tr>\n",
       "      <th>61974CJ0008</th>\n",
       "      <td>10</td>\n",
       "      <td>0</td>\n",
       "      <td>0.006200</td>\n",
       "      <td>0.000000</td>\n",
       "    </tr>\n",
       "  </tbody>\n",
       "</table>\n",
       "<p>1614 rows × 4 columns</p>\n",
       "</div>"
      ],
      "text/plain": [
       "             indegree  outdegree  indeg_centrality  outdeg_centrality\n",
       "node_id                                                              \n",
       "62001CJ0491        40         40          0.024799           0.024799\n",
       "62003CJ0210        41         31          0.025418           0.019219\n",
       "62006CJ0244         9         27          0.005580           0.016739\n",
       "62012CJ0470        15         24          0.009299           0.014879\n",
       "62014CJ0377         2         22          0.001240           0.013639\n",
       "...               ...        ...               ...                ...\n",
       "62009CJ0185         1          0          0.000620           0.000000\n",
       "61996CJ0180         2          0          0.001240           0.000000\n",
       "62005CJ0152         4          0          0.002480           0.000000\n",
       "62004CJ0375         1          0          0.000620           0.000000\n",
       "61974CJ0008        10          0          0.006200           0.000000\n",
       "\n",
       "[1614 rows x 4 columns]"
      ]
     },
     "execution_count": 7,
     "metadata": {},
     "output_type": "execute_result"
    }
   ],
   "source": [
    "resdf.sort_values('outdegree', ascending=False)"
   ]
  },
  {
   "cell_type": "markdown",
   "id": "c4c368bd-5363-4835-9489-aea1d5279f95",
   "metadata": {
    "id": "OrcmUMaG7Lut"
   },
   "source": [
    "We can once more check manually what is going on. For this, we take the  in-degree and divide it by the number of nodes in the network. For example:\n",
    "\n",
    "$$ \\frac{indegree(62003CJ0210)}{|N|-1} $$\n",
    "\n",
    "or \n",
    "\n",
    "$$ \\frac{41}{1614-1} = 0.025 $$\n",
    "\n",
    "GIving us the same result as seen above"
   ]
  },
  {
   "cell_type": "markdown",
   "id": "bf9aa8a2-8374-42a7-a374-4add1b0101d3",
   "metadata": {
    "id": "DmzlOjOz64CL"
   },
   "source": [
    "### 3.2 Closeness Centrality\n",
    "\n",
    "Degree, in-degree, and out-degree (centrality) consider the direct neighbors of a node, but not indirect neighbors. For instance, if A is connected to B and B is connected to C, the indirect relationship between A and C -through B- is not taken into consideration in the degree based measures we have explored. \n",
    "\n",
    "Depending on the task at hand, this can be an important oversight. For example if we want to make a model of corporations that are linked through supply chains, we should not be interested only in direct suppliers, but in suppliers that are to some degree downstream or upstream from the company under study. \n",
    "\n",
    "Closeness centrality is a measure that takes such indirect relationships into consideration. While it is a bit more complicated than degree centrality, it is also very easy to understand and to calculate. The only difficulty here is is that it relies on shortest path information, and getting the shortest path between two nodes can be a non-trivial problem. From a user perspective this is not a significant issue, as ```networkx``` will readily provide this info. However finding shortest paths in a very complex networks might be computationally expensive.\n",
    "\n",
    "Closeness centrality expresses the average closeness between a target node $ u $ and  all other nodes it can reach $ v $, when taking the shortest path between the node under examination and the reachable nodes (this shortest path is often called the 'geodesic path'). The greater the average closeness of one node to all other nodes using the shortest paths, the more central the node is. Remember here that closeness is the reciprocal of the distance thus \n",
    "\n",
    "$$ closeness = \\frac{1}{distance} $$\n",
    "\n",
    " The details on this algorithm are provided below.\n",
    "\n",
    "The importance of closeness centrality becomes most evident when we have nodes that have a \"tail\" behind them. They have one direct neighbor, but many indirect neighbors standing in line behind them. This is literally what we see when do the analysis for the kite graph, with the tail of the kite being constituted by nodes 7, 8 and 9. Lets first recall the structure of this graph:\n",
    "\n",
    "<img src=\"images/shared/kite_generic.png\"/>\n"
   ]
  },
  {
   "cell_type": "markdown",
   "id": "119da53c-e0a7-48ff-b915-faa2d89437b0",
   "metadata": {
    "id": "TcF3M0AL1Vic"
   },
   "source": [
    "In terms of degree, node 3 is the clear winner in the first position. Node 7 is far behind on the 8th position.\n"
   ]
  },
  {
   "cell_type": "code",
   "execution_count": null,
   "id": "600d3bf8-56e3-4ed4-8e17-674de0561b06",
   "metadata": {},
   "outputs": [
    {
     "data": {
      "text/html": [
       "<div>\n",
       "<style scoped>\n",
       "    .dataframe tbody tr th:only-of-type {\n",
       "        vertical-align: middle;\n",
       "    }\n",
       "\n",
       "    .dataframe tbody tr th {\n",
       "        vertical-align: top;\n",
       "    }\n",
       "\n",
       "    .dataframe thead th {\n",
       "        text-align: right;\n",
       "    }\n",
       "</style>\n",
       "<table border=\"1\" class=\"dataframe\">\n",
       "  <thead>\n",
       "    <tr style=\"text-align: right;\">\n",
       "      <th></th>\n",
       "      <th>degree</th>\n",
       "      <th>deg_centrality</th>\n",
       "    </tr>\n",
       "    <tr>\n",
       "      <th>node_id</th>\n",
       "      <th></th>\n",
       "      <th></th>\n",
       "    </tr>\n",
       "  </thead>\n",
       "  <tbody>\n",
       "    <tr>\n",
       "      <th>3</th>\n",
       "      <td>6</td>\n",
       "      <td>0.666667</td>\n",
       "    </tr>\n",
       "    <tr>\n",
       "      <th>5</th>\n",
       "      <td>5</td>\n",
       "      <td>0.555556</td>\n",
       "    </tr>\n",
       "    <tr>\n",
       "      <th>6</th>\n",
       "      <td>5</td>\n",
       "      <td>0.555556</td>\n",
       "    </tr>\n",
       "    <tr>\n",
       "      <th>0</th>\n",
       "      <td>4</td>\n",
       "      <td>0.444444</td>\n",
       "    </tr>\n",
       "    <tr>\n",
       "      <th>1</th>\n",
       "      <td>4</td>\n",
       "      <td>0.444444</td>\n",
       "    </tr>\n",
       "    <tr>\n",
       "      <th>2</th>\n",
       "      <td>3</td>\n",
       "      <td>0.333333</td>\n",
       "    </tr>\n",
       "    <tr>\n",
       "      <th>4</th>\n",
       "      <td>3</td>\n",
       "      <td>0.333333</td>\n",
       "    </tr>\n",
       "    <tr>\n",
       "      <th>7</th>\n",
       "      <td>3</td>\n",
       "      <td>0.333333</td>\n",
       "    </tr>\n",
       "    <tr>\n",
       "      <th>8</th>\n",
       "      <td>2</td>\n",
       "      <td>0.222222</td>\n",
       "    </tr>\n",
       "    <tr>\n",
       "      <th>9</th>\n",
       "      <td>1</td>\n",
       "      <td>0.111111</td>\n",
       "    </tr>\n",
       "  </tbody>\n",
       "</table>\n",
       "</div>"
      ],
      "text/plain": [
       "         degree  deg_centrality\n",
       "node_id                        \n",
       "3             6        0.666667\n",
       "5             5        0.555556\n",
       "6             5        0.555556\n",
       "0             4        0.444444\n",
       "1             4        0.444444\n",
       "2             3        0.333333\n",
       "4             3        0.333333\n",
       "7             3        0.333333\n",
       "8             2        0.222222\n",
       "9             1        0.111111"
      ]
     },
     "execution_count": 9,
     "metadata": {},
     "output_type": "execute_result"
    }
   ],
   "source": [
    "degree = nx.degree(g_kite)\n",
    "nodeid = list(dict(degree).keys())\n",
    "degscore = list(dict(degree).values())\n",
    "degcentrality = nx.degree_centrality(g_kite)\n",
    "degcentscore = list(dict(degcentrality).values())\n",
    "df_reskite1 = pd.DataFrame({\"node_id\":nodeid, \n",
    "                      \"degree\":degscore, \n",
    "                      \"deg_centrality\":degcentscore})\n",
    "df_reskite1.set_index(\"node_id\", inplace=True)\n",
    "df_reskite1.sort_values('degree', ascending=False)"
   ]
  },
  {
   "cell_type": "markdown",
   "id": "50f1c30c-a32e-41c4-bc03-128b6ba9abd0",
   "metadata": {
    "id": "TcF3M0AL1Vic"
   },
   "source": [
    "However one might think that node 7 is undervalued. It has only 3 direct neighbors, but it actually has many indirect neighbors, including nodes 8 and 9, that can only be reached by passing through 7. Lets see how 7 does when use this second form of centrality score."
   ]
  },
  {
   "cell_type": "code",
   "execution_count": null,
   "id": "3e1ad2ac-9d23-45df-b45c-63311fdc33c5",
   "metadata": {
    "colab": {
     "base_uri": "https://localhost:8080/"
    },
    "id": "-hwv1Uid1JyN",
    "outputId": "da98ccef-1437-4760-b6c7-a30c82556079"
   },
   "outputs": [
    {
     "data": {
      "text/html": [
       "<div>\n",
       "<style scoped>\n",
       "    .dataframe tbody tr th:only-of-type {\n",
       "        vertical-align: middle;\n",
       "    }\n",
       "\n",
       "    .dataframe tbody tr th {\n",
       "        vertical-align: top;\n",
       "    }\n",
       "\n",
       "    .dataframe thead th {\n",
       "        text-align: right;\n",
       "    }\n",
       "</style>\n",
       "<table border=\"1\" class=\"dataframe\">\n",
       "  <thead>\n",
       "    <tr style=\"text-align: right;\">\n",
       "      <th></th>\n",
       "      <th>degree</th>\n",
       "      <th>deg_centrality</th>\n",
       "      <th>deg_norm</th>\n",
       "      <th>closeness_score</th>\n",
       "      <th>closeness_norm</th>\n",
       "    </tr>\n",
       "    <tr>\n",
       "      <th>node_id</th>\n",
       "      <th></th>\n",
       "      <th></th>\n",
       "      <th></th>\n",
       "      <th></th>\n",
       "      <th></th>\n",
       "    </tr>\n",
       "  </thead>\n",
       "  <tbody>\n",
       "    <tr>\n",
       "      <th>5</th>\n",
       "      <td>5</td>\n",
       "      <td>0.555556</td>\n",
       "      <td>0.138889</td>\n",
       "      <td>0.642857</td>\n",
       "      <td>0.121674</td>\n",
       "    </tr>\n",
       "    <tr>\n",
       "      <th>6</th>\n",
       "      <td>5</td>\n",
       "      <td>0.555556</td>\n",
       "      <td>0.138889</td>\n",
       "      <td>0.642857</td>\n",
       "      <td>0.121674</td>\n",
       "    </tr>\n",
       "    <tr>\n",
       "      <th>3</th>\n",
       "      <td>6</td>\n",
       "      <td>0.666667</td>\n",
       "      <td>0.166667</td>\n",
       "      <td>0.600000</td>\n",
       "      <td>0.113562</td>\n",
       "    </tr>\n",
       "    <tr>\n",
       "      <th>7</th>\n",
       "      <td>3</td>\n",
       "      <td>0.333333</td>\n",
       "      <td>0.083333</td>\n",
       "      <td>0.600000</td>\n",
       "      <td>0.113562</td>\n",
       "    </tr>\n",
       "    <tr>\n",
       "      <th>0</th>\n",
       "      <td>4</td>\n",
       "      <td>0.444444</td>\n",
       "      <td>0.111111</td>\n",
       "      <td>0.529412</td>\n",
       "      <td>0.100202</td>\n",
       "    </tr>\n",
       "    <tr>\n",
       "      <th>1</th>\n",
       "      <td>4</td>\n",
       "      <td>0.444444</td>\n",
       "      <td>0.111111</td>\n",
       "      <td>0.529412</td>\n",
       "      <td>0.100202</td>\n",
       "    </tr>\n",
       "    <tr>\n",
       "      <th>2</th>\n",
       "      <td>3</td>\n",
       "      <td>0.333333</td>\n",
       "      <td>0.083333</td>\n",
       "      <td>0.500000</td>\n",
       "      <td>0.094635</td>\n",
       "    </tr>\n",
       "    <tr>\n",
       "      <th>4</th>\n",
       "      <td>3</td>\n",
       "      <td>0.333333</td>\n",
       "      <td>0.083333</td>\n",
       "      <td>0.500000</td>\n",
       "      <td>0.094635</td>\n",
       "    </tr>\n",
       "    <tr>\n",
       "      <th>8</th>\n",
       "      <td>2</td>\n",
       "      <td>0.222222</td>\n",
       "      <td>0.055556</td>\n",
       "      <td>0.428571</td>\n",
       "      <td>0.081116</td>\n",
       "    </tr>\n",
       "    <tr>\n",
       "      <th>9</th>\n",
       "      <td>1</td>\n",
       "      <td>0.111111</td>\n",
       "      <td>0.027778</td>\n",
       "      <td>0.310345</td>\n",
       "      <td>0.058739</td>\n",
       "    </tr>\n",
       "  </tbody>\n",
       "</table>\n",
       "</div>"
      ],
      "text/plain": [
       "         degree  deg_centrality  deg_norm  closeness_score  closeness_norm\n",
       "node_id                                                                   \n",
       "5             5        0.555556  0.138889         0.642857        0.121674\n",
       "6             5        0.555556  0.138889         0.642857        0.121674\n",
       "3             6        0.666667  0.166667         0.600000        0.113562\n",
       "7             3        0.333333  0.083333         0.600000        0.113562\n",
       "0             4        0.444444  0.111111         0.529412        0.100202\n",
       "1             4        0.444444  0.111111         0.529412        0.100202\n",
       "2             3        0.333333  0.083333         0.500000        0.094635\n",
       "4             3        0.333333  0.083333         0.500000        0.094635\n",
       "8             2        0.222222  0.055556         0.428571        0.081116\n",
       "9             1        0.111111  0.027778         0.310345        0.058739"
      ]
     },
     "execution_count": 10,
     "metadata": {},
     "output_type": "execute_result"
    }
   ],
   "source": [
    "degree = nx.degree(g_kite)\n",
    "nodeid = list(dict(degree).keys())\n",
    "degscore = list(dict(degree).values())\n",
    "degcentrality = nx.degree_centrality(g_kite)\n",
    "degcentscore = list(dict(degcentrality).values())\n",
    "closenesscent = nx.closeness_centrality(g_kite)\n",
    "closescores = closenesscent.values()\n",
    "\n",
    "\n",
    "df_reskite2 = pd.DataFrame({\"node_id\":nodeid, \n",
    "                      \"degree\":degscore, \n",
    "                      \"deg_centrality\":degcentscore,\n",
    "                        \"deg_norm\":score_normalize(degcentscore),\n",
    "                     \"closeness_score\":closescores,\n",
    "                        \"closeness_norm\": score_normalize(closescores)})\n",
    "df_reskite2.set_index(\"node_id\", inplace=True)\n",
    "df_reskite2.sort_values('closeness_norm', ascending=False)"
   ]
  },
  {
   "cell_type": "markdown",
   "id": "0a1fbf57-3b72-455b-88fe-343c9f3665ff",
   "metadata": {
    "id": "pQiJwguM6j_e"
   },
   "source": [
    "Things change quite a bit if we look at closeness centrality. Now node 7 moves up from being in the 8th position to being tied for 3rd! \n",
    "\n",
    "In fact other scores also change.  Node 3 is no longer the winner. Under closeness node 3 is penalized for having long paths for nodes 8 and 9. Nodes 5 and 6 obtain better scores. They have less nodes directly linking to them, but they are closer to the other nodes, which is what is relevant for closeness centrality.\n",
    "\n",
    "One might intuitively say that node 7 is still underperforming in relation of its real importance. If we cut out node 7, the network becomes disconnected. This is not so if you cut any node from 0 to 6. This will come back when we consider betweenness centrality.\n",
    "\n",
    "So which one is better? Degree centrality or closeness? What is crucial to note for now is how different they are. Domain knowledge is needed to see which one matters most.\n"
   ]
  },
  {
   "cell_type": "markdown",
   "id": "3db76851-f84c-425d-8bdb-c2c7fd39f2f8",
   "metadata": {},
   "source": [
    "Here we can compare the relative performance of these two measures directly. \n",
    "\n",
    "<img src=\"images/ch3/degree_vs_closeness.png\"/>\n",
    "\n"
   ]
  },
  {
   "cell_type": "markdown",
   "id": "227f3f7e-a229-4b69-9741-5267828a1142",
   "metadata": {
    "id": "nN3I1AID6j_h"
   },
   "source": [
    "Now lets try to unpack the algorithm in more detail.\n",
    "\n",
    "\n",
    "The only real difficulty in closeness centrality is getting the shortest paths. While this is a non-trivial, and computationally expensive task, from the user persepctive, the ```networkx``` library can calculate shortest paths for us. Here we get the number of steps from node 8 to every other node."
   ]
  },
  {
   "cell_type": "code",
   "execution_count": null,
   "id": "eb16cfd5-ec71-4552-a6fc-f8f5401f237f",
   "metadata": {
    "colab": {
     "base_uri": "https://localhost:8080/"
    },
    "id": "u3Buy4sR6j_j",
    "outputId": "fe2f4c3c-899e-4d58-b4f3-d390df9d71c6"
   },
   "outputs": [
    {
     "data": {
      "text/plain": [
       "{8: 0, 7: 1, 9: 1, 5: 2, 6: 2, 0: 3, 2: 3, 3: 3, 1: 3, 4: 3}"
      ]
     },
     "execution_count": 71,
     "metadata": {},
     "output_type": "execute_result"
    }
   ],
   "source": [
    "nx.single_source_shortest_path_length(g_kite, source = 8)"
   ]
  },
  {
   "cell_type": "markdown",
   "id": "cf3f9115-e092-4e09-a386-f1f85096ec99",
   "metadata": {
    "id": "rs9idHSW6j_k"
   },
   "source": [
    "Or if you just want to see the itinerary, and not the number of steps:"
   ]
  },
  {
   "cell_type": "code",
   "execution_count": null,
   "id": "8836b06b-767d-4d16-b0b7-1edb9ec62012",
   "metadata": {
    "colab": {
     "base_uri": "https://localhost:8080/"
    },
    "id": "YH17EOne6j_l",
    "outputId": "cfe0276c-8bac-4fd7-94ed-14f14848dd08",
    "scrolled": true
   },
   "outputs": [
    {
     "data": {
      "text/plain": [
       "[8, 7, 6]"
      ]
     },
     "execution_count": 21,
     "metadata": {},
     "output_type": "execute_result"
    }
   ],
   "source": [
    "nx.shortest_path(g_kite, source = 8, target= 6 )"
   ]
  },
  {
   "cell_type": "markdown",
   "id": "8c4df33d-0713-4b55-93d7-12c6dad3b6d4",
   "metadata": {},
   "source": [
    "If you have the itinerary, you can use ```len``` to get the number of steps. Because the itinerary counts the origin node, you should subtract 1 from the result.\n",
    "\n",
    "Now having the shortest path score, let's move to calculate closeness centrality. The formula here is:\n",
    "\n",
    "$$ \\frac{|V|-1}{\\sum_{V_1}^{V_n}spath(v,u)} $$\n",
    "\n",
    "Compared to degree centrality, this formula can appear intimidating at first sight, but it is in fact very straightforward.\n",
    "\n",
    "In this formula, the number of nodes $ v $ that can reach a certain specific node $ u $ minus 1 is expressed by $ |V|-1 $. This is divided by the sum of minimum path lengths between each of those nodes $ v $ and $ u $.\n",
    "\n",
    "The top part of the formula expresses the number (cardinality) of nodes that can reach node $ u $ (minus 1), whereas $ spath(v, u) $ in the bottom part of the formula is a function that returns the shortest path between any node $ v $ in $ V $ and $ u $. It is implicit here that nodes $ v $ are part of the set of nodes that can reach $ u $, called $ V $ (in this context, it is customary to denote sets with capital letters, and elements of that set with the same letter uncapitalized) \n",
    "\n",
    "The number of steps for every $ v $ paired with $ u $ are added up and then that is used to divide the total number of nodes $ v $ that can reach $ u $ (that is, the cardinality of the set V).\n",
    "\n",
    "(Note that sums are normally expressed by a sigma notation rather than by sequences of the sort a+b+c+d. The $ \\Sigma $ means 'sum', the subscript denotes the element where the sum begins, and the superscript the element where it ends. So in order to express a sum through the sequence a, b, c and d, we can just write:\n",
    "\n",
    "$$ \\sum_{a}^{d} $$ \n"
   ]
  },
  {
   "cell_type": "markdown",
   "id": "8ff319dc-7d71-4ea2-b6d5-72f0d62a77b9",
   "metadata": {
    "id": "UqEdhz065EXN"
   },
   "source": [
    "#### A) Closeness with weights (distances)\n",
    "\n",
    "We previously explained that edges can have weights and that networks can be fully connected. A network of document similarity scores will tipically have both of these features: similarity scores provide the weight, and every document is compared to every other document, resulting in a fully connected network. \n",
    "\n",
    "What would be the expected result of running the closeness centrality algorithm, on this network without specifying any weight information? The result would be that all nodes are equally, and maximally, close to each other, all getting a closeness centrality score of 1. We can see this in the example below:"
   ]
  },
  {
   "cell_type": "code",
   "execution_count": null,
   "id": "99b43382-ade0-486d-ab86-aeed8ef3541b",
   "metadata": {
    "colab": {
     "base_uri": "https://localhost:8080/"
    },
    "id": "tI4judhE5BD2",
    "outputId": "f36ba920-60d5-4fdd-c114-f6b0b1833ee0"
   },
   "outputs": [
    {
     "name": "stdout",
     "output_type": "stream",
     "text": [
      "for node 8 closeness score is 1.0\n",
      "for node 7 closeness score is 1.0\n",
      "for node 6 closeness score is 1.0\n",
      "for node 5 closeness score is 1.0\n",
      "for node 4 closeness score is 1.0\n",
      "for node 3 closeness score is 1.0\n",
      "for node 2 closeness score is 1.0\n",
      "for node 1 closeness score is 1.0\n",
      "for node 0 closeness score is 1.0\n"
     ]
    }
   ],
   "source": [
    "g_docs = load_graph_from_json(\"data/g_docs.json\")\n",
    "res = nx.closeness_centrality(g_docs)\n",
    "res_view = [ (v,k) for k,v in res.items() ]\n",
    "res_view.sort(reverse=True)\n",
    "for v,k in res_view:\n",
    "    print(f\"for node {k} closeness score is {np.round(v,2)}\")"
   ]
  },
  {
   "cell_type": "markdown",
   "id": "e465cb1c-0159-4877-8d8e-ab73b40911c4",
   "metadata": {
    "id": "ikd4je4K5oZM"
   },
   "source": [
    "To avoid this uninformative result, it is possible to adjust the closeness to consider the weights, with the weights indicating document similarity (the higher the weight, the more similar the document).\n",
    "\n",
    "Adding weight information does not require us to change the formula in any substantial way. The only thing that changes is that the function returning the shortest path now considers not only discrete steps, but weighted steps, which we may signal by adding the $ w $ subscript to the formula: \n",
    "\n",
    "$$ \\frac{|V|-1}{\\sum_{V_1}^{V_n}spath_w(v,u)} $$\n",
    "\n",
    "Weighted shortest paths were discussed in Chapter 2, section E.\n",
    "\n",
    "Redeploying our measure, now with weights, provides more informative results that we can see below:\n",
    "\n"
   ]
  },
  {
   "cell_type": "code",
   "execution_count": null,
   "id": "69d7c307-f7c0-4f7f-aa9a-e5a0773cdbaf",
   "metadata": {
    "colab": {
     "base_uri": "https://localhost:8080/"
    },
    "id": "zvIveIjU4463",
    "outputId": "cc68dad5-776c-4f07-813f-5392844020ed"
   },
   "outputs": [
    {
     "name": "stdout",
     "output_type": "stream",
     "text": [
      "for node 8 closeness score is 2.8\n",
      "for node 1 closeness score is 2.72\n",
      "for node 2 closeness score is 2.7\n",
      "for node 7 closeness score is 2.57\n",
      "for node 3 closeness score is 2.52\n",
      "for node 0 closeness score is 2.5\n",
      "for node 5 closeness score is 1.98\n",
      "for node 6 closeness score is 1.87\n",
      "for node 4 closeness score is 1.23\n"
     ]
    }
   ],
   "source": [
    "res = nx.closeness_centrality(g_docs, distance='weight')\n",
    "res_view = [ (v,k) for k,v in res.items() ]\n",
    "res_view.sort(reverse=True)\n",
    "for v,k in res_view:\n",
    "    print(f\"for node {k} closeness score is {np.round(v,2)}\")"
   ]
  },
  {
   "cell_type": "markdown",
   "id": "db29cb32-161a-47d0-92ca-2f4db2e27c65",
   "metadata": {},
   "source": [
    "It is good to know that closeness centrality takes into consideration how well-connected a node is (the numerator of the formula increases when more nodes can reach the node of interest). Consider the following example, where nodes D and E have a single very short path between them. This path is very short, but it is penalized by the very small numerator, as D and E can only be reached by one other node."
   ]
  },
  {
   "cell_type": "code",
   "execution_count": null,
   "id": "e94bb345-bef1-4741-b1fb-20ba39f6d093",
   "metadata": {},
   "outputs": [
    {
     "data": {
      "image/png": "[encoded data removed]",
      "text/plain": [
       "<Figure size 800x800 with 1 Axes>"
      ]
     },
     "metadata": {},
     "output_type": "display_data"
    }
   ],
   "source": [
    "g_disconnected2 = nx.Graph()\n",
    "g_disconnected2.add_nodes_from(['A','B','C','D','E','F','G'])\n",
    "g_disconnected2.add_edges_from([('A','B'),('B','C'), ('C','A'), ('A','F'),('A','G'),('D','E')])\n",
    "draw_spring(g_disconnected2)"
   ]
  },
  {
   "cell_type": "code",
   "execution_count": null,
   "id": "e1acf9fd-d9b7-4b0d-a652-d4b4d16aeb32",
   "metadata": {},
   "outputs": [
    {
     "data": {
      "text/plain": [
       "{'A': 0.6666666666666666,\n",
       " 'B': 0.4444444444444444,\n",
       " 'C': 0.4444444444444444,\n",
       " 'D': 0.16666666666666666,\n",
       " 'E': 0.16666666666666666,\n",
       " 'F': 0.38095238095238093,\n",
       " 'G': 0.38095238095238093}"
      ]
     },
     "execution_count": 76,
     "metadata": {},
     "output_type": "execute_result"
    }
   ],
   "source": [
    "nx.closeness_centrality(g_disconnected2)"
   ]
  },
  {
   "cell_type": "markdown",
   "id": "002852fc-b768-412d-b9f4-0c6d70549008",
   "metadata": {
    "id": "rr1ANN3HJIhD",
    "tags": []
   },
   "source": [
    "## 3.3 Eigenvector Centrality\n",
    "\n",
    "Another approach to determine the centrality of a node is to consider how likely it is to reach that node if one would randomly 'walk' through the network. If a node would be reached more frequently than other nodes, this could signal that the node is more central and consequently more relevant. \n",
    "\n",
    "Eigenvector centrality is based on this 'random walker' idea. It simulates a random walker moving from node to node, each time with equal probability of going to the adjacent node. The idea is that if the walk goes on for very long, the probability of seeing the walker at a particular node will stabilize, giving you the Eigenvector Centrality value. \n",
    "\n",
    "To illustrate, we calculate the Eigenvector Centrality scores for the train stations network. "
   ]
  },
  {
   "cell_type": "code",
   "execution_count": null,
   "id": "d7dd2576-5e10-497b-9b7f-7edfe8aa1d8e",
   "metadata": {
    "colab": {
     "base_uri": "https://localhost:8080/",
     "height": 677
    },
    "id": "wKT-NZYb2n9I",
    "outputId": "227fd566-910f-44f7-f210-fc3b5d4713ca"
   },
   "outputs": [
    {
     "data": {
      "text/html": [
       "<div>\n",
       "<style scoped>\n",
       "    .dataframe tbody tr th:only-of-type {\n",
       "        vertical-align: middle;\n",
       "    }\n",
       "\n",
       "    .dataframe tbody tr th {\n",
       "        vertical-align: top;\n",
       "    }\n",
       "\n",
       "    .dataframe thead th {\n",
       "        text-align: right;\n",
       "    }\n",
       "</style>\n",
       "<table border=\"1\" class=\"dataframe\">\n",
       "  <thead>\n",
       "    <tr style=\"text-align: right;\">\n",
       "      <th></th>\n",
       "      <th>station</th>\n",
       "      <th>score</th>\n",
       "    </tr>\n",
       "  </thead>\n",
       "  <tbody>\n",
       "    <tr>\n",
       "      <th>1</th>\n",
       "      <td>Utrecht</td>\n",
       "      <td>0.569051</td>\n",
       "    </tr>\n",
       "    <tr>\n",
       "      <th>0</th>\n",
       "      <td>Amsterdam</td>\n",
       "      <td>0.389746</td>\n",
       "    </tr>\n",
       "    <tr>\n",
       "      <th>9</th>\n",
       "      <td>Groningen</td>\n",
       "      <td>0.267149</td>\n",
       "    </tr>\n",
       "    <tr>\n",
       "      <th>15</th>\n",
       "      <td>Zwolle</td>\n",
       "      <td>0.267149</td>\n",
       "    </tr>\n",
       "    <tr>\n",
       "      <th>19</th>\n",
       "      <td>Schiphol</td>\n",
       "      <td>0.264338</td>\n",
       "    </tr>\n",
       "    <tr>\n",
       "      <th>4</th>\n",
       "      <td>Eindhoven</td>\n",
       "      <td>0.254248</td>\n",
       "    </tr>\n",
       "    <tr>\n",
       "      <th>14</th>\n",
       "      <td>The Hague</td>\n",
       "      <td>0.246852</td>\n",
       "    </tr>\n",
       "    <tr>\n",
       "      <th>6</th>\n",
       "      <td>Venlo</td>\n",
       "      <td>0.216722</td>\n",
       "    </tr>\n",
       "    <tr>\n",
       "      <th>13</th>\n",
       "      <td>Rotterdam</td>\n",
       "      <td>0.174007</td>\n",
       "    </tr>\n",
       "    <tr>\n",
       "      <th>7</th>\n",
       "      <td>Nijmegen</td>\n",
       "      <td>0.171231</td>\n",
       "    </tr>\n",
       "    <tr>\n",
       "      <th>2</th>\n",
       "      <td>Gouda</td>\n",
       "      <td>0.161922</td>\n",
       "    </tr>\n",
       "    <tr>\n",
       "      <th>11</th>\n",
       "      <td>Putten</td>\n",
       "      <td>0.124004</td>\n",
       "    </tr>\n",
       "    <tr>\n",
       "      <th>12</th>\n",
       "      <td>Gelderlmalsen</td>\n",
       "      <td>0.124004</td>\n",
       "    </tr>\n",
       "    <tr>\n",
       "      <th>10</th>\n",
       "      <td>Groningen</td>\n",
       "      <td>0.124004</td>\n",
       "    </tr>\n",
       "    <tr>\n",
       "      <th>3</th>\n",
       "      <td>Weert</td>\n",
       "      <td>0.058312</td>\n",
       "    </tr>\n",
       "    <tr>\n",
       "      <th>16</th>\n",
       "      <td>Tilburg</td>\n",
       "      <td>0.058312</td>\n",
       "    </tr>\n",
       "    <tr>\n",
       "      <th>5</th>\n",
       "      <td>Roermond</td>\n",
       "      <td>0.013341</td>\n",
       "    </tr>\n",
       "    <tr>\n",
       "      <th>17</th>\n",
       "      <td>Roosendaal</td>\n",
       "      <td>0.013341</td>\n",
       "    </tr>\n",
       "    <tr>\n",
       "      <th>8</th>\n",
       "      <td>Maastricht</td>\n",
       "      <td>0.002907</td>\n",
       "    </tr>\n",
       "    <tr>\n",
       "      <th>18</th>\n",
       "      <td>Middelburg</td>\n",
       "      <td>0.002907</td>\n",
       "    </tr>\n",
       "  </tbody>\n",
       "</table>\n",
       "</div>"
      ],
      "text/plain": [
       "          station     score\n",
       "1         Utrecht  0.569051\n",
       "0       Amsterdam  0.389746\n",
       "9       Groningen  0.267149\n",
       "15         Zwolle  0.267149\n",
       "19       Schiphol  0.264338\n",
       "4       Eindhoven  0.254248\n",
       "14      The Hague  0.246852\n",
       "6           Venlo  0.216722\n",
       "13      Rotterdam  0.174007\n",
       "7        Nijmegen  0.171231\n",
       "2           Gouda  0.161922\n",
       "11         Putten  0.124004\n",
       "12  Gelderlmalsen  0.124004\n",
       "10     Groningen   0.124004\n",
       "3           Weert  0.058312\n",
       "16        Tilburg  0.058312\n",
       "5        Roermond  0.013341\n",
       "17     Roosendaal  0.013341\n",
       "8      Maastricht  0.002907\n",
       "18     Middelburg  0.002907"
      ]
     },
     "execution_count": 77,
     "metadata": {},
     "output_type": "execute_result"
    }
   ],
   "source": [
    "res = nx.eigenvector_centrality(g_trains)\n",
    "resdf = pd.DataFrame({\"station\":res.keys(), \"score\":res.values()})\n",
    "resdf.set_index(\"station\")\n",
    "resdf.sort_values('score', ascending=False)"
   ]
  },
  {
   "cell_type": "markdown",
   "id": "ddcd47f4-e3ef-4db2-af6c-fe35bdd163e0",
   "metadata": {},
   "source": [
    "Recall that degree centrality favors the number of direct neighbors one has, closeness centrality takes into account indirect networks, including thus nodes that are in a \"tail\" formation behind a node. \n",
    "\n",
    "Eigenvector centrality takes into consideration the probabilities that one may move from one appear in one node, and this is a function of how well connected that node is, and also of how well connected the nodes around it are. By virtue of this, one added value of eigenvector centrality is that it takes into consideration the relative importance of nodes. In other words: A node gets a high eigenvector centrality score if it is linked to other nodes which also have a high eigenvector centrality score. Intuitively, consider that \"famous\" may be defined (at least partly) in terms of having many friends who are also \"famous\". \n",
    "\n",
    "Lets go back to the kite and remember that:\n",
    "* Degree centrality prefers node 3, and puts node 7 far on the back.\n",
    "* Closeness prefer both 5 and 6, and puts node 7 in 4th place\n",
    "Now we will see that\n",
    "* Eigenvector centrality also prefers node 3, and also puts node 7 far on the back.\n",
    "\n",
    "Note why this might be so. Node 3 not only has high degree, but it is also close to nodes 5, 6, 0 and 1, which also have high degree. By contrast node 7 is \"friends\" with 5 and 6, but also with the unpopular 8, so it cannot rank as high.\n",
    "\n",
    "An advantage of eigenvector centrality (and measures similar to it computationally like pagerank or HITS) is that it relies on matrix multiplications instead of shortest path calculations. Because modern computers are highly optimized to perform matrix multiplications, eigenvector centrality (and similar measures) may perform better in large networks than simpler measures like closeness or betweeness.\n",
    "\n",
    "<img src=\"images/shared/kite_generic.png\"/>\n"
   ]
  },
  {
   "cell_type": "markdown",
   "id": "fdff3351-fc86-40c8-8e24-4bcc555516dc",
   "metadata": {},
   "source": [
    "We can see the scores here."
   ]
  },
  {
   "cell_type": "code",
   "execution_count": null,
   "id": "886e12fa-5b71-4382-b245-261b0aa032aa",
   "metadata": {},
   "outputs": [
    {
     "data": {
      "text/html": [
       "<div>\n",
       "<style scoped>\n",
       "    .dataframe tbody tr th:only-of-type {\n",
       "        vertical-align: middle;\n",
       "    }\n",
       "\n",
       "    .dataframe tbody tr th {\n",
       "        vertical-align: top;\n",
       "    }\n",
       "\n",
       "    .dataframe thead th {\n",
       "        text-align: right;\n",
       "    }\n",
       "</style>\n",
       "<table border=\"1\" class=\"dataframe\">\n",
       "  <thead>\n",
       "    <tr style=\"text-align: right;\">\n",
       "      <th></th>\n",
       "      <th>degree</th>\n",
       "      <th>deg_centrality</th>\n",
       "      <th>closeness_cent</th>\n",
       "      <th>eig_centrality</th>\n",
       "    </tr>\n",
       "    <tr>\n",
       "      <th>node_id</th>\n",
       "      <th></th>\n",
       "      <th></th>\n",
       "      <th></th>\n",
       "      <th></th>\n",
       "    </tr>\n",
       "  </thead>\n",
       "  <tbody>\n",
       "    <tr>\n",
       "      <th>3</th>\n",
       "      <td>6</td>\n",
       "      <td>0.666667</td>\n",
       "      <td>0.600000</td>\n",
       "      <td>0.481020</td>\n",
       "    </tr>\n",
       "    <tr>\n",
       "      <th>5</th>\n",
       "      <td>5</td>\n",
       "      <td>0.555556</td>\n",
       "      <td>0.642857</td>\n",
       "      <td>0.397691</td>\n",
       "    </tr>\n",
       "    <tr>\n",
       "      <th>6</th>\n",
       "      <td>5</td>\n",
       "      <td>0.555556</td>\n",
       "      <td>0.642857</td>\n",
       "      <td>0.397691</td>\n",
       "    </tr>\n",
       "    <tr>\n",
       "      <th>0</th>\n",
       "      <td>4</td>\n",
       "      <td>0.444444</td>\n",
       "      <td>0.529412</td>\n",
       "      <td>0.352209</td>\n",
       "    </tr>\n",
       "    <tr>\n",
       "      <th>1</th>\n",
       "      <td>4</td>\n",
       "      <td>0.444444</td>\n",
       "      <td>0.529412</td>\n",
       "      <td>0.352209</td>\n",
       "    </tr>\n",
       "    <tr>\n",
       "      <th>2</th>\n",
       "      <td>3</td>\n",
       "      <td>0.333333</td>\n",
       "      <td>0.500000</td>\n",
       "      <td>0.285835</td>\n",
       "    </tr>\n",
       "    <tr>\n",
       "      <th>4</th>\n",
       "      <td>3</td>\n",
       "      <td>0.333333</td>\n",
       "      <td>0.500000</td>\n",
       "      <td>0.285835</td>\n",
       "    </tr>\n",
       "    <tr>\n",
       "      <th>7</th>\n",
       "      <td>3</td>\n",
       "      <td>0.333333</td>\n",
       "      <td>0.600000</td>\n",
       "      <td>0.195862</td>\n",
       "    </tr>\n",
       "    <tr>\n",
       "      <th>8</th>\n",
       "      <td>2</td>\n",
       "      <td>0.222222</td>\n",
       "      <td>0.428571</td>\n",
       "      <td>0.048075</td>\n",
       "    </tr>\n",
       "    <tr>\n",
       "      <th>9</th>\n",
       "      <td>1</td>\n",
       "      <td>0.111111</td>\n",
       "      <td>0.310345</td>\n",
       "      <td>0.011164</td>\n",
       "    </tr>\n",
       "  </tbody>\n",
       "</table>\n",
       "</div>"
      ],
      "text/plain": [
       "         degree  deg_centrality  closeness_cent  eig_centrality\n",
       "node_id                                                        \n",
       "3             6        0.666667        0.600000        0.481020\n",
       "5             5        0.555556        0.642857        0.397691\n",
       "6             5        0.555556        0.642857        0.397691\n",
       "0             4        0.444444        0.529412        0.352209\n",
       "1             4        0.444444        0.529412        0.352209\n",
       "2             3        0.333333        0.500000        0.285835\n",
       "4             3        0.333333        0.500000        0.285835\n",
       "7             3        0.333333        0.600000        0.195862\n",
       "8             2        0.222222        0.428571        0.048075\n",
       "9             1        0.111111        0.310345        0.011164"
      ]
     },
     "execution_count": 79,
     "metadata": {},
     "output_type": "execute_result"
    }
   ],
   "source": [
    "degree = nx.degree(g_kite)\n",
    "nodeid = list(dict(degree).keys())\n",
    "degscore = list(dict(degree).values())\n",
    "degcentrality = nx.degree_centrality(g_kite)\n",
    "degcentscore = list(dict(degcentrality).values())\n",
    "closenesscent = nx.closeness_centrality(g_kite)\n",
    "closescores = closenesscent.values()\n",
    "eigcentrality = nx.eigenvector_centrality(g_kite)\n",
    "eigscore = list(dict(eigcentrality).values())\n",
    "reskite3 = pd.DataFrame({\"node_id\":nodeid, \n",
    "                      \"degree\":degscore, \n",
    "                      \"deg_centrality\":degcentscore,\n",
    "                         \"closeness_cent\": closescores,\n",
    "                        \"eig_centrality\":eigscore})\n",
    "reskite3.set_index(\"node_id\", inplace=True)\n",
    "reskite3.sort_values('eig_centrality', ascending=False)"
   ]
  },
  {
   "cell_type": "markdown",
   "id": "16164188-5c22-4571-a76b-2012d32bb63c",
   "metadata": {
    "id": "WNHyFRCTtHnJ"
   },
   "source": [
    "The mathematics of Eigenvector Centrality are complicated, in particular for non-technical persons. We are not going to present it in full, but we will, in the next example, sketch an idea of how Eigenvector Centrality works and some ways of arriving at it. \n",
    "\n",
    "In its simplest form, Eigenvector Centrality is what you get by repeatedly multiplying: \n",
    "\n",
    "* an **adjacency matrix** by \n",
    "* a **vector of probabilities** associated with each node.\n",
    "\n",
    "Let us use a small network to illustrate. Imagine we have four nodes \"a\", \"b\", \"c\" and \"d\", and we are making a network of their linkages. We begin representing this network as a $ 4 \\times 4 $ adjacency matrix \"A\" (it is customary to represent matrices with capital letters). In this matrix a 1 indicates there is a connection between a node in the rows and another in the columns, and a 0 means that there is no connection. If one picks node \"a\" in the rows, we see that it connects to \"b\" and \"d\" in the columns. If we read the row of node \"b\", we see that it connects with \"a\" and \"d\" in the columns. And so on. \n",
    "\n",
    "$$ A = \\begin{pmatrix}\n",
    "0 & 1 & 1 & 0 \\\\ \n",
    "1 & 0 & 1 & 1 \\\\ \n",
    "1 & 1 & 0 & 1 \\\\ \n",
    "0 & 1 & 1 & 0 \\\\ \n",
    "\\end{pmatrix} $$\n",
    "\n",
    "For the vector of initial probabilities \"v\" we can just assume that one is equally likely to be in each of the four rows of the matrix.\n",
    "\n",
    "$$ v = \\begin{pmatrix}{0.25,0.25,0.25,0.25}\\end{pmatrix} $$\n",
    "\n",
    "The basic idea is that if one multiplies \"A\" and \"v\" one will \"apply\" the structure of the contingency matrix to the vector, or \"scale\" the vector by the matrix. In such multiplication, we will have a transition or \"walk\" from the equal probability starting point $ v = \\begin{pmatrix}{0.25,0.25,0.25,0.25}\\end{pmatrix} $ to some other state. If one does this multiple times, updating the value of \"v\" in every iteration, it is possible that the values will \"converge\" or stabilize, which means they will not change much from multiplication to multiplication. The now fixed values of v, represent the probability that the random walker will be in a particular row of the matrix (or node of the network) after an indeterminate number of walks. \n",
    "\n",
    "In mathematical notation this repeated updating by matrix - vector multiplication may be expressed in this manner (note that $ := $ here emphasizes that we are assigning a value, and not asserting an equality).\n",
    "\n",
    "$$ v_{i+1}:= Av_{i} $$\n",
    "\n",
    "This is done for values of $ i = {1, 2, 3, 4, ...} $ until it is the case that the values of $ v $ do not change from multiplication to multiplication. We may express this as an approximate equality because one may be satisfied with very small variations in the score of v, instead of requiring it to be be exactly the same.\n",
    "\n",
    "$$ v_{i+1} \\approx v_{i} $$\n",
    "\n",
    "Once we are satisfied with the result the vector should be \"normalized\" by dividing it by its norm. This is done because what interests us is the relative magnitude associated with each node, and not absolute values, which can be very large due to the repeated multiplication (There may be technical reasons to normalize after each iteration of the multiplication, instead of just at the end, this may avoid numbers becoming too large and difficult to calculate).\n",
    "\n",
    "$$ \\frac{v}{||v||} $$\n",
    "\n",
    "Why is this called Eigenvector Centrality? Because a property of the adjacency matrix, namely, the Eigenvector associated with its highest Eigenvalue, will give the same results as the method presented above."
   ]
  },
  {
   "cell_type": "markdown",
   "id": "3ba2d08b-28c3-45f0-b036-7ce9e5ed7def",
   "metadata": {
    "id": "qOxI2n_rqKIz"
   },
   "source": [
    "Let us put the procedure in practice. We first create the adjacency matrix of the kite graph."
   ]
  },
  {
   "cell_type": "code",
   "execution_count": null,
   "id": "a87ed570-263f-4c51-8b53-3507e0ebfa5d",
   "metadata": {
    "colab": {
     "base_uri": "https://localhost:8080/"
    },
    "id": "qCbAouh65Jbq",
    "outputId": "e641c25e-702d-4afb-8dcf-cce906900162"
   },
   "outputs": [
    {
     "data": {
      "text/plain": [
       "array([[0, 1, 1, 1, 0, 1, 0, 0, 0, 0],\n",
       "       [1, 0, 0, 1, 1, 0, 1, 0, 0, 0],\n",
       "       [1, 0, 0, 1, 0, 1, 0, 0, 0, 0],\n",
       "       [1, 1, 1, 0, 1, 1, 1, 0, 0, 0],\n",
       "       [0, 1, 0, 1, 0, 0, 1, 0, 0, 0],\n",
       "       [1, 0, 1, 1, 0, 0, 1, 1, 0, 0],\n",
       "       [0, 1, 0, 1, 1, 1, 0, 1, 0, 0],\n",
       "       [0, 0, 0, 0, 0, 1, 1, 0, 1, 0],\n",
       "       [0, 0, 0, 0, 0, 0, 0, 1, 0, 1],\n",
       "       [0, 0, 0, 0, 0, 0, 0, 0, 1, 0]])"
      ]
     },
     "execution_count": 80,
     "metadata": {},
     "output_type": "execute_result"
    }
   ],
   "source": [
    "A = nx.adjacency_matrix(g_kite)\n",
    "A.todense()"
   ]
  },
  {
   "cell_type": "markdown",
   "id": "c05b3aca-6a8f-40ad-abe1-1ef58d4b10e6",
   "metadata": {
    "id": "PMwb2Rk45UBM"
   },
   "source": [
    "The next step is to have an initial vector of probabilities. Each element of this vector should be 1/10 or 0.1. Remember that probabilities have to sum to 1, and if it is equally probable that one may be in each of the 10 nodes of the kite graph, then we have a 0.1 probability for each."
   ]
  },
  {
   "cell_type": "code",
   "execution_count": null,
   "id": "37d5f2ce-cbbe-4152-9a88-eae07317fe66",
   "metadata": {
    "colab": {
     "base_uri": "https://localhost:8080/"
    },
    "id": "qrwIMFdv5Thg",
    "outputId": "d003f914-e81d-41bc-c2b4-c4d2dfc6f5e2"
   },
   "outputs": [
    {
     "data": {
      "text/plain": [
       "array([0.1, 0.1, 0.1, 0.1, 0.1, 0.1, 0.1, 0.1, 0.1, 0.1])"
      ]
     },
     "execution_count": 81,
     "metadata": {},
     "output_type": "execute_result"
    }
   ],
   "source": [
    "v = (np.ones(10)/10)\n",
    "v"
   ]
  },
  {
   "cell_type": "markdown",
   "id": "a2538108-4530-41bd-b7ab-88328fcdc61a",
   "metadata": {
    "id": "rAsD-0RS5jsU"
   },
   "source": [
    "Finally we repeatedly multiply the adjacency matrix by the vector of probabilities and normalize the results. We will just do it 100 times. In more complicated scenarios, more repetitions might be required to do the trick. Note that in ```numpy``` the operator ```@``` is used to express matrix multiplication.\n",
    "\n",
    "After the multiplications are done, we normalize the results by dividing the results vector by its norm."
   ]
  },
  {
   "cell_type": "code",
   "execution_count": null,
   "id": "a8f1b01d-e935-4256-9a3f-440b76fc1a5b",
   "metadata": {
    "colab": {
     "base_uri": "https://localhost:8080/"
    },
    "id": "5dGEUbIEpd11",
    "outputId": "1aadb947-0efb-4732-8a08-c3580c02bc10"
   },
   "outputs": [
    {
     "data": {
      "text/plain": [
       "array([0.3522094 , 0.3522094 , 0.28583499, 0.48102086, 0.28583499,\n",
       "       0.39769064, 0.39769064, 0.19586058, 0.04807349, 0.01116326])"
      ]
     },
     "execution_count": 82,
     "metadata": {},
     "output_type": "execute_result"
    }
   ],
   "source": [
    "for i in range(0,100):\n",
    "    v = A@v\n",
    "mynorm = np.linalg.norm(v)\n",
    "res = v / mynorm\n",
    "res"
   ]
  },
  {
   "cell_type": "markdown",
   "id": "8546515b-54c5-4bca-8d0b-d0fa7f20d7f6",
   "metadata": {
    "id": "JXTHVWhPqG72"
   },
   "source": [
    "NetworkX gives the results directly:\n"
   ]
  },
  {
   "cell_type": "code",
   "execution_count": null,
   "id": "7dc8e3a5-8ee0-4f03-af27-f3620c58e92f",
   "metadata": {
    "colab": {
     "base_uri": "https://localhost:8080/"
    },
    "id": "vjKx9ZbyXaAz",
    "outputId": "1a95c0f0-8f97-4628-a283-c38f2683225c"
   },
   "outputs": [
    {
     "data": {
      "text/plain": [
       "{0: 0.35220898139203594,\n",
       " 1: 0.35220898139203594,\n",
       " 2: 0.28583473531632414,\n",
       " 3: 0.48102048812210046,\n",
       " 4: 0.28583473531632414,\n",
       " 5: 0.3976910106255469,\n",
       " 6: 0.3976910106255469,\n",
       " 7: 0.19586185175360382,\n",
       " 8: 0.048074775014202945,\n",
       " 9: 0.01116405857582424}"
      ]
     },
     "execution_count": 83,
     "metadata": {},
     "output_type": "execute_result"
    }
   ],
   "source": [
    "nx.eigenvector_centrality(g_kite)"
   ]
  },
  {
   "cell_type": "markdown",
   "id": "a09efa0b-c7ed-4efb-ae4a-a0b4635aa194",
   "metadata": {
    "id": "upyc9QBzpGbq"
   },
   "source": [
    "Finally let us approach it from the perspective of eigenvalues and eigenvectors. \n",
    "\n",
    "Eigenvalues and eigenvectors are a property of certain matrices, which often very difficult to get by hand, but which ```numpy``` can provide on command.\n",
    "\n",
    "Eigenvectors are just vectors, that when multiplied by the matrix ($ matrix \\times vector $), scale, but do not rotate. \n",
    "\n",
    "Every eigenvector will have an eigenvalue -just a number- associated with it, which records how much the vector is scaled. Here we are interested in the eigenvector that is associated with the largest eigenvalue\n",
    "\n",
    "The largest eigenvalue here is 4.3. This is in index position 0 of the numpy array (arrays like a python list, start from zero). "
   ]
  },
  {
   "cell_type": "code",
   "execution_count": null,
   "id": "d72fa087-c009-47a7-bd59-d231fbba9151",
   "metadata": {
    "colab": {
     "base_uri": "https://localhost:8080/"
    },
    "id": "Ubxpn_Z9oBJV",
    "outputId": "c4b3e21e-c9f4-418e-abcf-c6d1eb372262"
   },
   "outputs": [
    {
     "data": {
      "text/plain": [
       "array([ 4.30640379,  1.60639741,  1.41421356,  0.64036468, -0.40434195,\n",
       "       -0.816375  , -2.        , -1.41421356, -1.46406328, -1.86838565])"
      ]
     },
     "execution_count": 84,
     "metadata": {},
     "output_type": "execute_result"
    }
   ],
   "source": [
    "vals, vecs = np.linalg.eig(A.todense())\n",
    "vals"
   ]
  },
  {
   "cell_type": "markdown",
   "id": "0c7fd40b-1d8c-4f50-8cd4-288608711c4e",
   "metadata": {
    "id": "7bmAykie6_aM"
   },
   "source": [
    "If we see the eigenvector that is in position 0 (corresponding to the largest eigenvalue that we recall was in index position 0), we again get the result we are looking for. (For all but the smallest networks it can be difficult to visually inspect which value is the largest, here we can use ```numpy.argmax``` to return the position of this value).\n"
   ]
  },
  {
   "cell_type": "code",
   "execution_count": null,
   "id": "f868569b-8a3b-4468-83bb-ef726dae1fb4",
   "metadata": {
    "colab": {
     "base_uri": "https://localhost:8080/"
    },
    "id": "jyUFbr45Wl-B",
    "outputId": "a17d6f1e-23b7-4ba4-a306-a20f32ffa418"
   },
   "outputs": [
    {
     "data": {
      "text/plain": [
       "array([0.3522094 , 0.3522094 , 0.28583499, 0.48102086, 0.28583499,\n",
       "       0.39769064, 0.39769064, 0.19586058, 0.04807349, 0.01116326])"
      ]
     },
     "execution_count": 85,
     "metadata": {},
     "output_type": "execute_result"
    }
   ],
   "source": [
    "vecs[:,0]"
   ]
  },
  {
   "cell_type": "markdown",
   "id": "a6c1efd5-4fcc-4ae0-bfb9-d57515aed730",
   "metadata": {},
   "source": [
    "Note what is going on here code wise. ```vecs``` gives us all the eigenvectors. "
   ]
  },
  {
   "cell_type": "code",
   "execution_count": null,
   "id": "b34f95f5-76a6-4779-82c3-80861099e694",
   "metadata": {},
   "outputs": [
    {
     "data": {
      "text/plain": [
       "array([[ 3.52209397e-01,  1.89445487e-01, -3.53553391e-01,\n",
       "         2.50475739e-01,  5.05030447e-01,  7.62482192e-02,\n",
       "         5.00000000e-01, -3.53553391e-01,  1.27468135e-01,\n",
       "        -1.42542367e-02],\n",
       "       [ 3.52209397e-01,  1.89445487e-01,  3.53553391e-01,\n",
       "         2.50475739e-01,  5.05030447e-01,  7.62482192e-02,\n",
       "        -5.00000000e-01,  3.53553391e-01,  1.27468135e-01,\n",
       "        -1.42542367e-02],\n",
       "       [ 2.85834991e-01,  1.16760682e-01, -5.00000000e-01,\n",
       "         9.77805840e-02, -3.42822530e-01, -3.38990557e-01,\n",
       "        -9.34646417e-16,  5.00000000e-01,  4.02146483e-01,\n",
       "        -3.06688753e-02],\n",
       "       [ 4.81020858e-01,  1.68769387e-01, -7.50920951e-18,\n",
       "         1.21495199e-01, -2.55950827e-01, -1.05180509e-01,\n",
       "         6.94235091e-16,  1.19307444e-15, -6.96430792e-01,\n",
       "         4.04703757e-01],\n",
       "       [ 2.85834991e-01,  1.16760682e-01,  5.00000000e-01,\n",
       "         9.77805840e-02, -3.42822530e-01, -3.38990557e-01,\n",
       "         1.75730461e-16, -5.00000000e-01,  4.02146483e-01,\n",
       "        -3.06688753e-02],\n",
       "       [ 3.97690636e-01, -1.70650816e-01, -3.53553391e-01,\n",
       "        -3.09355706e-01, -1.10462089e-01,  3.05675707e-01,\n",
       "        -5.00000000e-01, -3.53553391e-01, -1.98052427e-02,\n",
       "        -3.33148234e-01],\n",
       "       [ 3.97690636e-01, -1.70650816e-01,  3.53553391e-01,\n",
       "        -3.09355706e-01, -1.10462089e-01,  3.05675707e-01,\n",
       "         5.00000000e-01,  3.53553391e-01, -1.98052427e-02,\n",
       "        -3.33148234e-01],\n",
       "       [ 1.95860583e-01, -5.78457769e-01, -8.58277705e-18,\n",
       "        -3.58496284e-01,  2.48869455e-01, -1.87298866e-01,\n",
       "         7.23263638e-16, -8.09955171e-16,  2.15617545e-01,\n",
       "         5.95816968e-01],\n",
       "       [ 4.80734850e-02, -5.87931432e-01, -1.89368195e-16,\n",
       "         3.89143053e-01,  1.20295815e-01, -4.58445302e-01,\n",
       "        -4.20199958e-16,  1.21715294e-15, -2.76067245e-01,\n",
       "        -4.46919404e-01],\n",
       "       [ 1.11632553e-02, -3.65993762e-01,  2.01965286e-17,\n",
       "         6.07689751e-01, -2.97510100e-01,  5.61562150e-01,\n",
       "         6.63303195e-16, -8.26248383e-16,  1.88562372e-01,\n",
       "         2.39200833e-01]])"
      ]
     },
     "execution_count": 86,
     "metadata": {},
     "output_type": "execute_result"
    }
   ],
   "source": [
    "vecs"
   ]
  },
  {
   "cell_type": "markdown",
   "id": "2e8f5b10-eb4c-445c-98b2-e6ed6a27ac26",
   "metadata": {},
   "source": [
    "Each of the eigenvectors (associated with every eigenvalue) is in a column. Using ```vecs[:,0]``` tell us \"give me all the rows, under column zero."
   ]
  },
  {
   "cell_type": "code",
   "execution_count": null,
   "id": "6e85af44-0dc2-4a06-b366-54c4710781d0",
   "metadata": {},
   "outputs": [
    {
     "data": {
      "text/plain": [
       "array([0.3522094 , 0.3522094 , 0.28583499, 0.48102086, 0.28583499,\n",
       "       0.39769064, 0.39769064, 0.19586058, 0.04807349, 0.01116326])"
      ]
     },
     "execution_count": 87,
     "metadata": {},
     "output_type": "execute_result"
    }
   ],
   "source": [
    "vecs[:,0]"
   ]
  },
  {
   "cell_type": "markdown",
   "id": "c6f491b1-b14a-4aa1-8297-d56da8d92d8e",
   "metadata": {
    "id": "8QrkjS9cU8KY"
   },
   "source": [
    "## 3.4 PageRank\n",
    "\n",
    "PageRank is a variant of the Eigenvector centrality which is applicable to directed networks. Like Eigenvector Centrality it considers not only the ammount of links one receives, but also the popularity of those linking to us. It is also based on the \"random walk idea\": the pagerank score corresponds to the likelihood of a user ending up on that page by randomly clicking from link to link. PageRank used to form the basis for the Google search engine algorithm. Here we can see how it might work in a simplified citation network of the American case Obergefell v. Hodges.\n",
    "\n",
    "<img src=\"images/ch3/obergefell.png\"/>\n"
   ]
  },
  {
   "cell_type": "code",
   "execution_count": null,
   "id": "7b9b2195-ba09-489d-ba42-d468205bd00f",
   "metadata": {},
   "outputs": [
    {
     "data": {
      "text/html": [
       "<div>\n",
       "<style scoped>\n",
       "    .dataframe tbody tr th:only-of-type {\n",
       "        vertical-align: middle;\n",
       "    }\n",
       "\n",
       "    .dataframe tbody tr th {\n",
       "        vertical-align: top;\n",
       "    }\n",
       "\n",
       "    .dataframe thead th {\n",
       "        text-align: right;\n",
       "    }\n",
       "</style>\n",
       "<table border=\"1\" class=\"dataframe\">\n",
       "  <thead>\n",
       "    <tr style=\"text-align: right;\">\n",
       "      <th></th>\n",
       "      <th>pagerank_score</th>\n",
       "    </tr>\n",
       "  </thead>\n",
       "  <tbody>\n",
       "    <tr>\n",
       "      <th>Obergefell_v_Hodges</th>\n",
       "      <td>0.039186</td>\n",
       "    </tr>\n",
       "    <tr>\n",
       "      <th>Lawrence_v_Texas</th>\n",
       "      <td>0.043595</td>\n",
       "    </tr>\n",
       "    <tr>\n",
       "      <th>Bowers_v_Hardwick</th>\n",
       "      <td>0.043595</td>\n",
       "    </tr>\n",
       "    <tr>\n",
       "      <th>Zablocki_v_Redhail</th>\n",
       "      <td>0.043595</td>\n",
       "    </tr>\n",
       "    <tr>\n",
       "      <th>Turner_v_Safley</th>\n",
       "      <td>0.043595</td>\n",
       "    </tr>\n",
       "    <tr>\n",
       "      <th>Windsor_v_United_States</th>\n",
       "      <td>0.043595</td>\n",
       "    </tr>\n",
       "    <tr>\n",
       "      <th>PPvCasey</th>\n",
       "      <td>0.052265</td>\n",
       "    </tr>\n",
       "    <tr>\n",
       "      <th>Roe_v_Wade</th>\n",
       "      <td>0.062706</td>\n",
       "    </tr>\n",
       "    <tr>\n",
       "      <th>Griswold_v_Connecticut</th>\n",
       "      <td>0.085926</td>\n",
       "    </tr>\n",
       "    <tr>\n",
       "      <th>Lochner_v_New_York</th>\n",
       "      <td>0.057998</td>\n",
       "    </tr>\n",
       "    <tr>\n",
       "      <th>NAACP_v_State_of_Alabama</th>\n",
       "      <td>0.116520</td>\n",
       "    </tr>\n",
       "    <tr>\n",
       "      <th>Union_Pacific_Railroad_v_Botsford</th>\n",
       "      <td>0.057998</td>\n",
       "    </tr>\n",
       "    <tr>\n",
       "      <th>Loving_v_Virginia</th>\n",
       "      <td>0.161302</td>\n",
       "    </tr>\n",
       "    <tr>\n",
       "      <th>Baker_v_Nelson</th>\n",
       "      <td>0.043595</td>\n",
       "    </tr>\n",
       "    <tr>\n",
       "      <th>County_of_Sacramento_vs._Lewis</th>\n",
       "      <td>0.052265</td>\n",
       "    </tr>\n",
       "    <tr>\n",
       "      <th>Romer_v_Evans</th>\n",
       "      <td>0.052265</td>\n",
       "    </tr>\n",
       "  </tbody>\n",
       "</table>\n",
       "</div>"
      ],
      "text/plain": [
       "                                   pagerank_score\n",
       "Obergefell_v_Hodges                      0.039186\n",
       "Lawrence_v_Texas                         0.043595\n",
       "Bowers_v_Hardwick                        0.043595\n",
       "Zablocki_v_Redhail                       0.043595\n",
       "Turner_v_Safley                          0.043595\n",
       "Windsor_v_United_States                  0.043595\n",
       "PPvCasey                                 0.052265\n",
       "Roe_v_Wade                               0.062706\n",
       "Griswold_v_Connecticut                   0.085926\n",
       "Lochner_v_New_York                       0.057998\n",
       "NAACP_v_State_of_Alabama                 0.116520\n",
       "Union_Pacific_Railroad_v_Botsford        0.057998\n",
       "Loving_v_Virginia                        0.161302\n",
       "Baker_v_Nelson                           0.043595\n",
       "County_of_Sacramento_vs._Lewis           0.052265\n",
       "Romer_v_Evans                            0.052265"
      ]
     },
     "execution_count": 17,
     "metadata": {},
     "output_type": "execute_result"
    }
   ],
   "source": [
    "g_ob = load_graph_from_json(\"data/obergefell.json\")\n",
    "resdict = nx.pagerank(g_ob, alpha=0.90)\n",
    "pd.DataFrame.from_dict(resdict, orient=\"index\", columns=[\"pagerank_score\"])\n"
   ]
  },
  {
   "cell_type": "markdown",
   "id": "49be9369-3828-4502-bb42-62f6edc69df5",
   "metadata": {},
   "source": [
    "PageRank incorporates a \"teleportation\" factor: As a random walker moves through the network, it may get stuck on a node or nodes that has only incoming links to it, and no outgoing links. For example, Loving v. Virginia or Lochner v. New York. The teleportation factors implies a random chance of teleporting anywhere else in the network and thus avoiding such dead ends.\n"
   ]
  },
  {
   "cell_type": "markdown",
   "id": "3354f720-f3a2-48b3-aab3-145e673b337a",
   "metadata": {},
   "source": [
    "To correct for this, the standard pagerank model gives a small random percentage of \"teleporting\" to any node in the network. The default value for this in NetworkX is 0.15. "
   ]
  },
  {
   "cell_type": "markdown",
   "id": "1406de51-5f7e-4df0-a270-b31966defbbe",
   "metadata": {},
   "source": [
    "The details are as follows: \n",
    "\n",
    "The first thing PageRank needs, is to transform the adjacency matrix into a transition matrix. While an adjacency matrix will record a 1 if there is a connection between a node in the rows and a node in the column, the transition matrix will record the probability of jumping from a node in the rows to another one in the columns in such a way that the probabilities all sum to 1. \n",
    "\n",
    "Imagine once more we have four metro stations A, B, C, D, that are connected as follows:\n",
    "\n",
    "$$ A = \\pmatrix{\n",
    "0 & 1 & 0 & 1 \\\\ \n",
    "1 & 0 & 0 & 1 \\\\ \n",
    "1 & 1 & 0 & 1 \\\\ \n",
    "0 & 1 & 1 & 0 \\\\ \n",
    "} $$\n",
    "\n",
    "If we are in station A (first row), we can jump to station B or D. If we are in station B (second row) we can jump to station A and D. Granting equal probability of making that jump, we now weight the connection in terms of probabilities as in this manner:\n",
    "\n",
    "$$ T = \\pmatrix{\n",
    "0 & 0.5 & 0 & 0.5 \\\\ \n",
    "0.5 & 0 & 0 & 0.5 \\\\ \n",
    "\\frac{1}{3} & \\frac{1}{3} & 0 & \\frac{1}{3} \\\\ \n",
    "0 & 0.5 & 0.5 & 0 \\\\ \n",
    "} $$\n",
    "\n",
    "Note that each row will sum to 1 as per the rules of probability.\n",
    "\n",
    "Just like with Eigenvector centrality, the next thing needed is a vector that reflects the probability of being in each of the nodes of the network. There are four nodes, so a vector with equal probability will be a vector of 0.25s.\n",
    "\n",
    "$$ v = \\pmatrix{\n",
    "0.25 & 0.25 & 0.25 & 0.25 \\\\ \n",
    "} $$\n",
    "\n",
    "In principle what needs to be done next is to multiply the vector of probabilities by the transition matrix many times. \n",
    "\n",
    "$$ v := T^T \\times v $$\n",
    "\n",
    "However, if this algorithm is used, nodes that are sinks (have no outgoing links) or which form a closed circuit will trap all the pagerank scores. So something needs to be changed. What happens is that the transition matrix T is modified by adding a teleportation factor Beta to it, so that for every node there is a 1-Beta chance of getting out. It is standard to put Beta at 0.85. \n",
    "\n",
    "In NetworkX the transition matrix so modified is called the google matrix, and so we are going to denote it with the letter G.\n",
    "\n",
    "$$ G = T * Beta + [(1-Beta)/n]_{nxn} $$\n",
    "\n",
    "Now we can go ahead and repeatedly multiply G and the vector of probabilities.\n",
    "\n",
    "$$ v := G^T \\times v $$\n",
    "\n",
    "Just like with Eigenvector Centrality, eventually the values of v will not change much from multiplication to multiplication, leading us to our score (unnormalized).\n",
    "\n",
    "Pagerank is presented as a percentage, so then we normalize this value by dividing it for its sum:\n",
    "\n",
    "$$ pagerank = \\frac{v}{\\sum v} $$\n",
    "\n",
    "\n",
    "This is how we can get the scores using a for loop."
   ]
  },
  {
   "cell_type": "code",
   "execution_count": null,
   "id": "9557cd42-ed1d-4882-be07-c4f59c731c67",
   "metadata": {},
   "outputs": [],
   "source": [
    "\n",
    "A = nx.google_matrix(g_ob).T\n",
    "v = np.ones(16)/16\n",
    "\n",
    "for i in range(0, 100):\n",
    "    v = A @ v.reshape(16,-1)\n",
    "    vnorm = np.linalg.norm(v)\n",
    "    v = v/vnorm\n",
    "\n",
    "result = np.ravel(v/sum(v))\n",
    "    \n"
   ]
  },
  {
   "cell_type": "code",
   "execution_count": null,
   "id": "212a6f81-14b3-4f72-a145-b54a0b21d069",
   "metadata": {},
   "outputs": [
    {
     "data": {
      "text/html": [
       "<div>\n",
       "<style scoped>\n",
       "    .dataframe tbody tr th:only-of-type {\n",
       "        vertical-align: middle;\n",
       "    }\n",
       "\n",
       "    .dataframe tbody tr th {\n",
       "        vertical-align: top;\n",
       "    }\n",
       "\n",
       "    .dataframe thead th {\n",
       "        text-align: right;\n",
       "    }\n",
       "</style>\n",
       "<table border=\"1\" class=\"dataframe\">\n",
       "  <thead>\n",
       "    <tr style=\"text-align: right;\">\n",
       "      <th></th>\n",
       "      <th>official</th>\n",
       "      <th>unofficial</th>\n",
       "    </tr>\n",
       "    <tr>\n",
       "      <th>nodes</th>\n",
       "      <th></th>\n",
       "      <th></th>\n",
       "    </tr>\n",
       "  </thead>\n",
       "  <tbody>\n",
       "    <tr>\n",
       "      <th>Obergefell_v_Hodges</th>\n",
       "      <td>0.040254</td>\n",
       "      <td>0.040254</td>\n",
       "    </tr>\n",
       "    <tr>\n",
       "      <th>Lawrence_v_Texas</th>\n",
       "      <td>0.044531</td>\n",
       "      <td>0.044531</td>\n",
       "    </tr>\n",
       "    <tr>\n",
       "      <th>Bowers_v_Hardwick</th>\n",
       "      <td>0.044531</td>\n",
       "      <td>0.044531</td>\n",
       "    </tr>\n",
       "    <tr>\n",
       "      <th>Zablocki_v_Redhail</th>\n",
       "      <td>0.044531</td>\n",
       "      <td>0.044531</td>\n",
       "    </tr>\n",
       "    <tr>\n",
       "      <th>Turner_v_Safley</th>\n",
       "      <td>0.044531</td>\n",
       "      <td>0.044531</td>\n",
       "    </tr>\n",
       "    <tr>\n",
       "      <th>Windsor_v_United_States</th>\n",
       "      <td>0.044531</td>\n",
       "      <td>0.044531</td>\n",
       "    </tr>\n",
       "    <tr>\n",
       "      <th>PPvCasey</th>\n",
       "      <td>0.052871</td>\n",
       "      <td>0.052871</td>\n",
       "    </tr>\n",
       "    <tr>\n",
       "      <th>Roe_v_Wade</th>\n",
       "      <td>0.062724</td>\n",
       "      <td>0.062724</td>\n",
       "    </tr>\n",
       "    <tr>\n",
       "      <th>Griswold_v_Connecticut</th>\n",
       "      <td>0.084773</td>\n",
       "      <td>0.084773</td>\n",
       "    </tr>\n",
       "    <tr>\n",
       "      <th>Lochner_v_New_York</th>\n",
       "      <td>0.058026</td>\n",
       "      <td>0.058026</td>\n",
       "    </tr>\n",
       "    <tr>\n",
       "      <th>NAACP_v_State_of_Alabama</th>\n",
       "      <td>0.112311</td>\n",
       "      <td>0.112311</td>\n",
       "    </tr>\n",
       "    <tr>\n",
       "      <th>Union_Pacific_Railroad_v_Botsford</th>\n",
       "      <td>0.058026</td>\n",
       "      <td>0.058026</td>\n",
       "    </tr>\n",
       "    <tr>\n",
       "      <th>Loving_v_Virginia</th>\n",
       "      <td>0.158085</td>\n",
       "      <td>0.158085</td>\n",
       "    </tr>\n",
       "    <tr>\n",
       "      <th>Baker_v_Nelson</th>\n",
       "      <td>0.044531</td>\n",
       "      <td>0.044531</td>\n",
       "    </tr>\n",
       "    <tr>\n",
       "      <th>County_of_Sacramento_vs._Lewis</th>\n",
       "      <td>0.052871</td>\n",
       "      <td>0.052871</td>\n",
       "    </tr>\n",
       "    <tr>\n",
       "      <th>Romer_v_Evans</th>\n",
       "      <td>0.052871</td>\n",
       "      <td>0.052871</td>\n",
       "    </tr>\n",
       "  </tbody>\n",
       "</table>\n",
       "</div>"
      ],
      "text/plain": [
       "                                   official  unofficial\n",
       "nodes                                                  \n",
       "Obergefell_v_Hodges                0.040254    0.040254\n",
       "Lawrence_v_Texas                   0.044531    0.044531\n",
       "Bowers_v_Hardwick                  0.044531    0.044531\n",
       "Zablocki_v_Redhail                 0.044531    0.044531\n",
       "Turner_v_Safley                    0.044531    0.044531\n",
       "Windsor_v_United_States            0.044531    0.044531\n",
       "PPvCasey                           0.052871    0.052871\n",
       "Roe_v_Wade                         0.062724    0.062724\n",
       "Griswold_v_Connecticut             0.084773    0.084773\n",
       "Lochner_v_New_York                 0.058026    0.058026\n",
       "NAACP_v_State_of_Alabama           0.112311    0.112311\n",
       "Union_Pacific_Railroad_v_Botsford  0.058026    0.058026\n",
       "Loving_v_Virginia                  0.158085    0.158085\n",
       "Baker_v_Nelson                     0.044531    0.044531\n",
       "County_of_Sacramento_vs._Lewis     0.052871    0.052871\n",
       "Romer_v_Evans                      0.052871    0.052871"
      ]
     },
     "execution_count": 51,
     "metadata": {},
     "output_type": "execute_result"
    }
   ],
   "source": [
    "official_pr = nx.pagerank(g_ob)\n",
    "resdf = pd.DataFrame({\"nodes\":official_pr.keys(), \"official\": official_pr.values(), \"unofficial\":result})\n",
    "resdf.set_index(\"nodes\")"
   ]
  },
  {
   "cell_type": "markdown",
   "id": "5e2c09cd-e4c8-4507-8c86-bd54a0f37c68",
   "metadata": {},
   "source": [
    "And as expected, the eigenvalues associated with the largest eigenvector give us the same result."
   ]
  },
  {
   "cell_type": "code",
   "execution_count": null,
   "id": "945082fa-d60f-422e-b18e-71ff3d76ada5",
   "metadata": {},
   "outputs": [],
   "source": [
    "A = nx.google_matrix(g_ob).T\n",
    "vals, vecs = np.linalg.eig(A)\n",
    "argmax = np.argmax(vals)\n",
    "eigresult = np.ravel(vecs[:,argmax])\n",
    "eigresult = eigresult/np.sum(eigresult)\n"
   ]
  },
  {
   "cell_type": "code",
   "execution_count": null,
   "id": "b4c84821-26ed-4219-91fe-e0bbc69892f6",
   "metadata": {},
   "outputs": [
    {
     "data": {
      "text/html": [
       "<div>\n",
       "<style scoped>\n",
       "    .dataframe tbody tr th:only-of-type {\n",
       "        vertical-align: middle;\n",
       "    }\n",
       "\n",
       "    .dataframe tbody tr th {\n",
       "        vertical-align: top;\n",
       "    }\n",
       "\n",
       "    .dataframe thead th {\n",
       "        text-align: right;\n",
       "    }\n",
       "</style>\n",
       "<table border=\"1\" class=\"dataframe\">\n",
       "  <thead>\n",
       "    <tr style=\"text-align: right;\">\n",
       "      <th></th>\n",
       "      <th>official</th>\n",
       "      <th>unofficial</th>\n",
       "      <th>eigen</th>\n",
       "    </tr>\n",
       "    <tr>\n",
       "      <th>nodes</th>\n",
       "      <th></th>\n",
       "      <th></th>\n",
       "      <th></th>\n",
       "    </tr>\n",
       "  </thead>\n",
       "  <tbody>\n",
       "    <tr>\n",
       "      <th>Obergefell_v_Hodges</th>\n",
       "      <td>0.040254</td>\n",
       "      <td>0.040254</td>\n",
       "      <td>0.040254+0.000000j</td>\n",
       "    </tr>\n",
       "    <tr>\n",
       "      <th>Lawrence_v_Texas</th>\n",
       "      <td>0.044531</td>\n",
       "      <td>0.044531</td>\n",
       "      <td>0.044531+0.000000j</td>\n",
       "    </tr>\n",
       "    <tr>\n",
       "      <th>Bowers_v_Hardwick</th>\n",
       "      <td>0.044531</td>\n",
       "      <td>0.044531</td>\n",
       "      <td>0.044531+0.000000j</td>\n",
       "    </tr>\n",
       "    <tr>\n",
       "      <th>Zablocki_v_Redhail</th>\n",
       "      <td>0.044531</td>\n",
       "      <td>0.044531</td>\n",
       "      <td>0.044531+0.000000j</td>\n",
       "    </tr>\n",
       "    <tr>\n",
       "      <th>Turner_v_Safley</th>\n",
       "      <td>0.044531</td>\n",
       "      <td>0.044531</td>\n",
       "      <td>0.044531+0.000000j</td>\n",
       "    </tr>\n",
       "    <tr>\n",
       "      <th>Windsor_v_United_States</th>\n",
       "      <td>0.044531</td>\n",
       "      <td>0.044531</td>\n",
       "      <td>0.044531+0.000000j</td>\n",
       "    </tr>\n",
       "    <tr>\n",
       "      <th>PPvCasey</th>\n",
       "      <td>0.052871</td>\n",
       "      <td>0.052871</td>\n",
       "      <td>0.052871+0.000000j</td>\n",
       "    </tr>\n",
       "    <tr>\n",
       "      <th>Roe_v_Wade</th>\n",
       "      <td>0.062724</td>\n",
       "      <td>0.062724</td>\n",
       "      <td>0.062724+0.000000j</td>\n",
       "    </tr>\n",
       "    <tr>\n",
       "      <th>Griswold_v_Connecticut</th>\n",
       "      <td>0.084773</td>\n",
       "      <td>0.084773</td>\n",
       "      <td>0.084773+0.000000j</td>\n",
       "    </tr>\n",
       "    <tr>\n",
       "      <th>Lochner_v_New_York</th>\n",
       "      <td>0.058026</td>\n",
       "      <td>0.058026</td>\n",
       "      <td>0.058026+0.000000j</td>\n",
       "    </tr>\n",
       "    <tr>\n",
       "      <th>NAACP_v_State_of_Alabama</th>\n",
       "      <td>0.112311</td>\n",
       "      <td>0.112311</td>\n",
       "      <td>0.112311+0.000000j</td>\n",
       "    </tr>\n",
       "    <tr>\n",
       "      <th>Union_Pacific_Railroad_v_Botsford</th>\n",
       "      <td>0.058026</td>\n",
       "      <td>0.058026</td>\n",
       "      <td>0.058026+0.000000j</td>\n",
       "    </tr>\n",
       "    <tr>\n",
       "      <th>Loving_v_Virginia</th>\n",
       "      <td>0.158085</td>\n",
       "      <td>0.158085</td>\n",
       "      <td>0.158085+0.000000j</td>\n",
       "    </tr>\n",
       "    <tr>\n",
       "      <th>Baker_v_Nelson</th>\n",
       "      <td>0.044531</td>\n",
       "      <td>0.044531</td>\n",
       "      <td>0.044531+0.000000j</td>\n",
       "    </tr>\n",
       "    <tr>\n",
       "      <th>County_of_Sacramento_vs._Lewis</th>\n",
       "      <td>0.052871</td>\n",
       "      <td>0.052871</td>\n",
       "      <td>0.052871+0.000000j</td>\n",
       "    </tr>\n",
       "    <tr>\n",
       "      <th>Romer_v_Evans</th>\n",
       "      <td>0.052871</td>\n",
       "      <td>0.052871</td>\n",
       "      <td>0.052871+0.000000j</td>\n",
       "    </tr>\n",
       "  </tbody>\n",
       "</table>\n",
       "</div>"
      ],
      "text/plain": [
       "                                   official  unofficial               eigen\n",
       "nodes                                                                      \n",
       "Obergefell_v_Hodges                0.040254    0.040254  0.040254+0.000000j\n",
       "Lawrence_v_Texas                   0.044531    0.044531  0.044531+0.000000j\n",
       "Bowers_v_Hardwick                  0.044531    0.044531  0.044531+0.000000j\n",
       "Zablocki_v_Redhail                 0.044531    0.044531  0.044531+0.000000j\n",
       "Turner_v_Safley                    0.044531    0.044531  0.044531+0.000000j\n",
       "Windsor_v_United_States            0.044531    0.044531  0.044531+0.000000j\n",
       "PPvCasey                           0.052871    0.052871  0.052871+0.000000j\n",
       "Roe_v_Wade                         0.062724    0.062724  0.062724+0.000000j\n",
       "Griswold_v_Connecticut             0.084773    0.084773  0.084773+0.000000j\n",
       "Lochner_v_New_York                 0.058026    0.058026  0.058026+0.000000j\n",
       "NAACP_v_State_of_Alabama           0.112311    0.112311  0.112311+0.000000j\n",
       "Union_Pacific_Railroad_v_Botsford  0.058026    0.058026  0.058026+0.000000j\n",
       "Loving_v_Virginia                  0.158085    0.158085  0.158085+0.000000j\n",
       "Baker_v_Nelson                     0.044531    0.044531  0.044531+0.000000j\n",
       "County_of_Sacramento_vs._Lewis     0.052871    0.052871  0.052871+0.000000j\n",
       "Romer_v_Evans                      0.052871    0.052871  0.052871+0.000000j"
      ]
     },
     "execution_count": 54,
     "metadata": {},
     "output_type": "execute_result"
    }
   ],
   "source": [
    "pd.DataFrame({\"nodes\":official_pr.keys(), \"official\": official_pr.values(), \"unofficial\":result, \"eigen\":eigresult}).set_index(\"nodes\")"
   ]
  },
  {
   "cell_type": "markdown",
   "id": "4bbdcf1b-0458-4929-8511-d6d4a6661a77",
   "metadata": {
    "id": "-HGtIH_hHW91"
   },
   "source": [
    "## 3.5 Betweenness Centrality\n",
    "\n",
    "So far we have been thinking of centrality in relation to the number of neighbors a node has. \n",
    "1. Degree centrality simply focuses on the number of direct neighbors a node has.\n",
    "2. Closeness centrality takes into account not just direct neighbors, but also indirectly linked nodes.\n",
    "3. Eigenvector centrality and Pagerank consider the connectedness or \"fame\" of the neighbors.\n",
    "\n",
    "Now we will introduce a different focus. We will consider as most important not just nodes that have a lot of neighbors, but nodes that are \"mediators\", or \"brokers\" in the network. These are nodes that hold the network together. If they are deleted, this will cause severe disruption in the network, possibly disconnecting parts of the network. Betweenness centrality considers this broker status. To illustrate how betweenness centrality can be determined or explained, we start with the example of actual political brokerage. The \"Florentine Families\" graph is a study of marriage alliances between families in Renaissance Florence. However, the visualization of the graph does not immediately allow us to see the dominance of the Medici.\n",
    "\n",
    "<img src=\"images/shared/florentine_generic.png\"/>\n"
   ]
  },
  {
   "cell_type": "markdown",
   "id": "453906bc-b3a2-460c-a567-e6a35c83d8c5",
   "metadata": {},
   "source": [
    "Conventional centrality measures will show that the Medici have a stronger political situation, but they are not really dominant. The closeness score for Medici is 0.0899, but Strozzi, Barbadori, Ridolfi, Tornabuouni, Albizzi and Guadagni are not far behind. Once we factor in betweenness, the scores for the aforementioned families drop significantly and we get far better impression of the dominance of the Medici."
   ]
  },
  {
   "cell_type": "code",
   "execution_count": null,
   "id": "f4841de7-d2d1-4a17-969a-68a73a365369",
   "metadata": {},
   "outputs": [
    {
     "data": {
      "text/html": [
       "<div>\n",
       "<style scoped>\n",
       "    .dataframe tbody tr th:only-of-type {\n",
       "        vertical-align: middle;\n",
       "    }\n",
       "\n",
       "    .dataframe tbody tr th {\n",
       "        vertical-align: top;\n",
       "    }\n",
       "\n",
       "    .dataframe thead th {\n",
       "        text-align: right;\n",
       "    }\n",
       "</style>\n",
       "<table border=\"1\" class=\"dataframe\">\n",
       "  <thead>\n",
       "    <tr style=\"text-align: right;\">\n",
       "      <th></th>\n",
       "      <th>families</th>\n",
       "      <th>closeness_norm</th>\n",
       "      <th>betweenness_norm</th>\n",
       "    </tr>\n",
       "  </thead>\n",
       "  <tbody>\n",
       "    <tr>\n",
       "      <th>0</th>\n",
       "      <td>Acciaiuoli</td>\n",
       "      <td>0.059170</td>\n",
       "      <td>0.000000</td>\n",
       "    </tr>\n",
       "    <tr>\n",
       "      <th>1</th>\n",
       "      <td>Medici</td>\n",
       "      <td>0.089939</td>\n",
       "      <td>0.304487</td>\n",
       "    </tr>\n",
       "    <tr>\n",
       "      <th>2</th>\n",
       "      <td>Castellani</td>\n",
       "      <td>0.062458</td>\n",
       "      <td>0.032051</td>\n",
       "    </tr>\n",
       "    <tr>\n",
       "      <th>3</th>\n",
       "      <td>Peruzzi</td>\n",
       "      <td>0.059170</td>\n",
       "      <td>0.012821</td>\n",
       "    </tr>\n",
       "    <tr>\n",
       "      <th>4</th>\n",
       "      <td>Strozzi</td>\n",
       "      <td>0.070265</td>\n",
       "      <td>0.059829</td>\n",
       "    </tr>\n",
       "    <tr>\n",
       "      <th>5</th>\n",
       "      <td>Barbadori</td>\n",
       "      <td>0.070265</td>\n",
       "      <td>0.054487</td>\n",
       "    </tr>\n",
       "    <tr>\n",
       "      <th>6</th>\n",
       "      <td>Ridolfi</td>\n",
       "      <td>0.080303</td>\n",
       "      <td>0.066239</td>\n",
       "    </tr>\n",
       "    <tr>\n",
       "      <th>7</th>\n",
       "      <td>Tornabuoni</td>\n",
       "      <td>0.077534</td>\n",
       "      <td>0.053419</td>\n",
       "    </tr>\n",
       "    <tr>\n",
       "      <th>8</th>\n",
       "      <td>Albizzi</td>\n",
       "      <td>0.077534</td>\n",
       "      <td>0.123932</td>\n",
       "    </tr>\n",
       "    <tr>\n",
       "      <th>9</th>\n",
       "      <td>Salviati</td>\n",
       "      <td>0.062458</td>\n",
       "      <td>0.083333</td>\n",
       "    </tr>\n",
       "    <tr>\n",
       "      <th>10</th>\n",
       "      <td>Pazzi</td>\n",
       "      <td>0.045887</td>\n",
       "      <td>0.000000</td>\n",
       "    </tr>\n",
       "    <tr>\n",
       "      <th>11</th>\n",
       "      <td>Bischeri</td>\n",
       "      <td>0.064242</td>\n",
       "      <td>0.060897</td>\n",
       "    </tr>\n",
       "    <tr>\n",
       "      <th>12</th>\n",
       "      <td>Guadagni</td>\n",
       "      <td>0.074949</td>\n",
       "      <td>0.148504</td>\n",
       "    </tr>\n",
       "    <tr>\n",
       "      <th>13</th>\n",
       "      <td>Ginori</td>\n",
       "      <td>0.053535</td>\n",
       "      <td>0.000000</td>\n",
       "    </tr>\n",
       "    <tr>\n",
       "      <th>14</th>\n",
       "      <td>Lamberteschi</td>\n",
       "      <td>0.052290</td>\n",
       "      <td>0.000000</td>\n",
       "    </tr>\n",
       "  </tbody>\n",
       "</table>\n",
       "</div>"
      ],
      "text/plain": [
       "        families  closeness_norm  betweenness_norm\n",
       "0     Acciaiuoli        0.059170          0.000000\n",
       "1         Medici        0.089939          0.304487\n",
       "2     Castellani        0.062458          0.032051\n",
       "3        Peruzzi        0.059170          0.012821\n",
       "4        Strozzi        0.070265          0.059829\n",
       "5      Barbadori        0.070265          0.054487\n",
       "6        Ridolfi        0.080303          0.066239\n",
       "7     Tornabuoni        0.077534          0.053419\n",
       "8        Albizzi        0.077534          0.123932\n",
       "9       Salviati        0.062458          0.083333\n",
       "10         Pazzi        0.045887          0.000000\n",
       "11      Bischeri        0.064242          0.060897\n",
       "12      Guadagni        0.074949          0.148504\n",
       "13        Ginori        0.053535          0.000000\n",
       "14  Lamberteschi        0.052290          0.000000"
      ]
     },
     "execution_count": 95,
     "metadata": {},
     "output_type": "execute_result"
    }
   ],
   "source": [
    "closeness_arr = np.array([x for x in nx.closeness_centrality(g_florentine).values()])\n",
    "closeness_sum = np.sum(closeness_arr)\n",
    "closeness_norm = closeness_arr/closeness_sum\n",
    "betweenness_arr = np.array([x for x in nx.betweenness_centrality(g_florentine).values()])\n",
    "betweenness_sum = np.sum(betweenness_arr)\n",
    "betweenness_norm = betweenness_arr/betweenness_sum\n",
    "\n",
    "\n",
    "df_medici = pd.DataFrame({'families':nx.closeness_centrality(g_florentine).keys(), \n",
    "                       'closeness_norm': closeness_norm,\n",
    "                      'betweenness_norm': betweenness_norm})\n",
    "df_medici"
   ]
  },
  {
   "cell_type": "markdown",
   "id": "b119addc-dbb2-430a-aef1-2dd4ed4665c8",
   "metadata": {},
   "source": [
    "Here we can see the massive contrast. The blue bars highlight the closeness centrality, and the red bars betweenness centrality. (If a blue bar exceeds a red bar, this indicates the extent to which the closeness centrality score is higher than the betweenness centrality score.)"
   ]
  },
  {
   "cell_type": "code",
   "execution_count": null,
   "id": "cb24c67c-c6a8-45e0-b5b4-a29b93c10787",
   "metadata": {},
   "outputs": [
    {
     "data": {
      "text/plain": [
       "<Axes: xlabel='betweenness_norm', ylabel='families'>"
      ]
     },
     "execution_count": 96,
     "metadata": {},
     "output_type": "execute_result"
    },
    {
     "data": {
      "image/png": "[encoded data removed]",
      "text/plain": [
       "<Figure size 800x800 with 1 Axes>"
      ]
     },
     "metadata": {},
     "output_type": "display_data"
    }
   ],
   "source": [
    "plt.figure(figsize=(8,8))\n",
    "sns.barplot(y = df_medici.families, x = df_medici.closeness_norm, color='blue', alpha =0.5)\n",
    "sns.barplot(y = df_medici.families, x = df_medici.betweenness_norm, color='red', alpha = 0.5)"
   ]
  },
  {
   "cell_type": "markdown",
   "id": "02d77c62-31d0-4894-8aba-412c0544e7a1",
   "metadata": {},
   "source": [
    "Finally, let's see what happens when we remove the Medici family from the graph. As we can see, the graph suddenly becomes disconnected."
   ]
  },
  {
   "cell_type": "code",
   "execution_count": null,
   "id": "66857ec3-6948-4857-8f28-8de31c55b7fe",
   "metadata": {},
   "outputs": [
    {
     "data": {
      "image/png": "[encoded data removed]",
      "text/plain": [
       "<Figure size 800x800 with 1 Axes>"
      ]
     },
     "metadata": {},
     "output_type": "display_data"
    }
   ],
   "source": [
    "g_subflorentine = g_florentine.subgraph([x for x in g_florentine.nodes if not x==\"Medici\"])\n",
    "draw_spring(g_subflorentine, node_color=\"orange\")"
   ]
  },
  {
   "cell_type": "markdown",
   "id": "c38ae7a2-bad5-4656-a322-2f4dd9a2aef2",
   "metadata": {},
   "source": [
    "We can perform a similar analysis for the subgraph of our CJEU case law network. We start with a comparison between the closeness and betweenness centrality scores of the cases. We first display the network."
   ]
  },
  {
   "cell_type": "code",
   "execution_count": 22,
   "id": "0fd02d88-9e5f-4753-9e54-c293bd1ff9a4",
   "metadata": {},
   "outputs": [
    {
     "data": {
      "image/png": "[encoded data removed]",
      "text/plain": [
       "<Figure size 800x800 with 1 Axes>"
      ]
     },
     "metadata": {},
     "output_type": "display_data"
    }
   ],
   "source": [
    "g_consprot2 = load_graph_from_json(\"data/g_consprot2.json\")\n",
    "draw_spring(g_consprot2)"
   ]
  },
  {
   "cell_type": "markdown",
   "id": "79dd5035-443b-4fe6-9cd9-76335c003b40",
   "metadata": {},
   "source": [
    "Like in the Medici family example, we compare the closeness and betweenness centrality scores..."
   ]
  },
  {
   "cell_type": "code",
   "execution_count": null,
   "id": "5e07f35f-c63d-4b62-b4c7-53db1bdec089",
   "metadata": {},
   "outputs": [
    {
     "data": {
      "text/html": [
       "<div>\n",
       "<style scoped>\n",
       "    .dataframe tbody tr th:only-of-type {\n",
       "        vertical-align: middle;\n",
       "    }\n",
       "\n",
       "    .dataframe tbody tr th {\n",
       "        vertical-align: top;\n",
       "    }\n",
       "\n",
       "    .dataframe thead th {\n",
       "        text-align: right;\n",
       "    }\n",
       "</style>\n",
       "<table border=\"1\" class=\"dataframe\">\n",
       "  <thead>\n",
       "    <tr style=\"text-align: right;\">\n",
       "      <th></th>\n",
       "      <th>cases</th>\n",
       "      <th>closeness_norm</th>\n",
       "      <th>betweenness_norm</th>\n",
       "    </tr>\n",
       "  </thead>\n",
       "  <tbody>\n",
       "    <tr>\n",
       "      <th>0</th>\n",
       "      <td>62008CJ0040</td>\n",
       "      <td>0.205323</td>\n",
       "      <td>0.000000</td>\n",
       "    </tr>\n",
       "    <tr>\n",
       "      <th>1</th>\n",
       "      <td>62009CJ0324</td>\n",
       "      <td>0.000000</td>\n",
       "      <td>0.000000</td>\n",
       "    </tr>\n",
       "    <tr>\n",
       "      <th>2</th>\n",
       "      <td>61994CJ0178</td>\n",
       "      <td>0.000000</td>\n",
       "      <td>0.000000</td>\n",
       "    </tr>\n",
       "    <tr>\n",
       "      <th>3</th>\n",
       "      <td>62010CO0076</td>\n",
       "      <td>0.142586</td>\n",
       "      <td>0.214286</td>\n",
       "    </tr>\n",
       "    <tr>\n",
       "      <th>4</th>\n",
       "      <td>61989CJ0241</td>\n",
       "      <td>0.000000</td>\n",
       "      <td>0.000000</td>\n",
       "    </tr>\n",
       "    <tr>\n",
       "      <th>5</th>\n",
       "      <td>62013CJ0026</td>\n",
       "      <td>0.000000</td>\n",
       "      <td>0.000000</td>\n",
       "    </tr>\n",
       "    <tr>\n",
       "      <th>6</th>\n",
       "      <td>61984CJ0178</td>\n",
       "      <td>0.039924</td>\n",
       "      <td>0.000000</td>\n",
       "    </tr>\n",
       "    <tr>\n",
       "      <th>7</th>\n",
       "      <td>62004CJ0033</td>\n",
       "      <td>0.000000</td>\n",
       "      <td>0.000000</td>\n",
       "    </tr>\n",
       "    <tr>\n",
       "      <th>8</th>\n",
       "      <td>62012CJ0470</td>\n",
       "      <td>0.039924</td>\n",
       "      <td>0.047619</td>\n",
       "    </tr>\n",
       "    <tr>\n",
       "      <th>9</th>\n",
       "      <td>62001CJ0491</td>\n",
       "      <td>0.079848</td>\n",
       "      <td>0.000000</td>\n",
       "    </tr>\n",
       "    <tr>\n",
       "      <th>10</th>\n",
       "      <td>62006CJ0244</td>\n",
       "      <td>0.000000</td>\n",
       "      <td>0.000000</td>\n",
       "    </tr>\n",
       "    <tr>\n",
       "      <th>11</th>\n",
       "      <td>62000CO0345</td>\n",
       "      <td>0.000000</td>\n",
       "      <td>0.000000</td>\n",
       "    </tr>\n",
       "    <tr>\n",
       "      <th>12</th>\n",
       "      <td>62008CJ0317</td>\n",
       "      <td>0.039924</td>\n",
       "      <td>0.000000</td>\n",
       "    </tr>\n",
       "    <tr>\n",
       "      <th>13</th>\n",
       "      <td>62007CJ0487</td>\n",
       "      <td>0.039924</td>\n",
       "      <td>0.000000</td>\n",
       "    </tr>\n",
       "    <tr>\n",
       "      <th>14</th>\n",
       "      <td>61992CJ0091</td>\n",
       "      <td>0.000000</td>\n",
       "      <td>0.000000</td>\n",
       "    </tr>\n",
       "    <tr>\n",
       "      <th>15</th>\n",
       "      <td>62014CJ0169</td>\n",
       "      <td>0.000000</td>\n",
       "      <td>0.000000</td>\n",
       "    </tr>\n",
       "    <tr>\n",
       "      <th>16</th>\n",
       "      <td>62008CJ0484</td>\n",
       "      <td>0.159696</td>\n",
       "      <td>0.000000</td>\n",
       "    </tr>\n",
       "    <tr>\n",
       "      <th>17</th>\n",
       "      <td>62003CJ0402</td>\n",
       "      <td>0.053232</td>\n",
       "      <td>0.000000</td>\n",
       "    </tr>\n",
       "    <tr>\n",
       "      <th>18</th>\n",
       "      <td>62003CJ0211</td>\n",
       "      <td>0.000000</td>\n",
       "      <td>0.000000</td>\n",
       "    </tr>\n",
       "    <tr>\n",
       "      <th>19</th>\n",
       "      <td>62011CJ0415</td>\n",
       "      <td>0.039924</td>\n",
       "      <td>0.047619</td>\n",
       "    </tr>\n",
       "    <tr>\n",
       "      <th>20</th>\n",
       "      <td>62007CJ0343</td>\n",
       "      <td>0.000000</td>\n",
       "      <td>0.000000</td>\n",
       "    </tr>\n",
       "    <tr>\n",
       "      <th>21</th>\n",
       "      <td>62011CJ0092</td>\n",
       "      <td>0.039924</td>\n",
       "      <td>0.142857</td>\n",
       "    </tr>\n",
       "    <tr>\n",
       "      <th>22</th>\n",
       "      <td>62002CJ0434</td>\n",
       "      <td>0.000000</td>\n",
       "      <td>0.000000</td>\n",
       "    </tr>\n",
       "    <tr>\n",
       "      <th>23</th>\n",
       "      <td>62010CJ0618</td>\n",
       "      <td>0.119772</td>\n",
       "      <td>0.547619</td>\n",
       "    </tr>\n",
       "    <tr>\n",
       "      <th>24</th>\n",
       "      <td>62003CJ0210</td>\n",
       "      <td>0.000000</td>\n",
       "      <td>0.000000</td>\n",
       "    </tr>\n",
       "  </tbody>\n",
       "</table>\n",
       "</div>"
      ],
      "text/plain": [
       "          cases  closeness_norm  betweenness_norm\n",
       "0   62008CJ0040        0.205323          0.000000\n",
       "1   62009CJ0324        0.000000          0.000000\n",
       "2   61994CJ0178        0.000000          0.000000\n",
       "3   62010CO0076        0.142586          0.214286\n",
       "4   61989CJ0241        0.000000          0.000000\n",
       "5   62013CJ0026        0.000000          0.000000\n",
       "6   61984CJ0178        0.039924          0.000000\n",
       "7   62004CJ0033        0.000000          0.000000\n",
       "8   62012CJ0470        0.039924          0.047619\n",
       "9   62001CJ0491        0.079848          0.000000\n",
       "10  62006CJ0244        0.000000          0.000000\n",
       "11  62000CO0345        0.000000          0.000000\n",
       "12  62008CJ0317        0.039924          0.000000\n",
       "13  62007CJ0487        0.039924          0.000000\n",
       "14  61992CJ0091        0.000000          0.000000\n",
       "15  62014CJ0169        0.000000          0.000000\n",
       "16  62008CJ0484        0.159696          0.000000\n",
       "17  62003CJ0402        0.053232          0.000000\n",
       "18  62003CJ0211        0.000000          0.000000\n",
       "19  62011CJ0415        0.039924          0.047619\n",
       "20  62007CJ0343        0.000000          0.000000\n",
       "21  62011CJ0092        0.039924          0.142857\n",
       "22  62002CJ0434        0.000000          0.000000\n",
       "23  62010CJ0618        0.119772          0.547619\n",
       "24  62003CJ0210        0.000000          0.000000"
      ]
     },
     "execution_count": 99,
     "metadata": {},
     "output_type": "execute_result"
    }
   ],
   "source": [
    "closeness_arr = np.array([x for x in nx.closeness_centrality(g_consprot2).values()])\n",
    "closeness_sum = np.sum(closeness_arr)\n",
    "closeness_norm = closeness_arr/closeness_sum\n",
    "betweenness_arr = np.array([x for x in nx.betweenness_centrality(g_consprot2).values()])\n",
    "betweenness_sum = np.sum(betweenness_arr)\n",
    "betweenness_norm = betweenness_arr/betweenness_sum\n",
    "\n",
    "\n",
    "df_consprot = pd.DataFrame({'cases':nx.closeness_centrality(g_consprot2).keys(), \n",
    "                       'closeness_norm': closeness_norm,\n",
    "                      'betweenness_norm': betweenness_norm})\n",
    "df_consprot"
   ]
  },
  {
   "cell_type": "markdown",
   "id": "377b2b1a-d09c-4303-9727-c92c380a8c4c",
   "metadata": {},
   "source": [
    "... and we visualize for each decision their closeness centrality (blue bars) and betweenness centrality (red bars) scores. From the visualization we can infer that the decision which has the highest 'broker' score also has a high closeness centrality score, and that decisions with a high closeness centrality score do not necessarily have a high betweenness centrality."
   ]
  },
  {
   "cell_type": "code",
   "execution_count": null,
   "id": "e6baedb0-7434-469e-82f5-b6d798d985b6",
   "metadata": {},
   "outputs": [
    {
     "data": {
      "text/plain": [
       "<Axes: xlabel='betweenness_norm', ylabel='cases'>"
      ]
     },
     "execution_count": 100,
     "metadata": {},
     "output_type": "execute_result"
    },
    {
     "data": {
      "image/png": "[encoded data removed]",
      "text/plain": [
       "<Figure size 800x800 with 1 Axes>"
      ]
     },
     "metadata": {},
     "output_type": "display_data"
    }
   ],
   "source": [
    "plt.figure(figsize=(8,8))\n",
    "sns.barplot(y = df_consprot.cases, x = df_consprot.closeness_norm, color='blue', alpha =0.5)\n",
    "sns.barplot(y = df_consprot.cases, x = df_consprot.betweenness_norm, color='red', alpha = 0.5)"
   ]
  },
  {
   "cell_type": "markdown",
   "id": "d72b30e2-e7be-4ae5-b48e-408ce686b5fb",
   "metadata": {},
   "source": [
    "The case with CELEX number C2010CJ0618 is hte decision with the highest betweenness centrality score. Removing these decisions, like in the Medici family example, significantly changes the structure of the network."
   ]
  },
  {
   "cell_type": "code",
   "execution_count": 23,
   "id": "eac7ccf9-f74d-4b18-b4b2-2dda65d9d1cd",
   "metadata": {},
   "outputs": [
    {
     "data": {
      "image/png": "[encoded data removed]",
      "text/plain": [
       "<Figure size 1200x1200 with 2 Axes>"
      ]
     },
     "metadata": {},
     "output_type": "display_data"
    }
   ],
   "source": [
    "fig, ax = plt.subplots(nrows=1, ncols=2, figsize=(12,12))\n",
    "\n",
    "pos = nx.spring_layout(g_consprot2, seed =123)\n",
    "nx.draw_networkx_nodes(g_consprot2, pos=pos, node_color=\"green\", ax=ax[0])\n",
    "nx.draw_networkx_edges(g_consprot2, pos=pos, ax=ax[0])\n",
    "nx.draw_networkx_labels(g_consprot2, pos=pos, ax=ax[0])\n",
    "\n",
    "g_consprot3 = g_consprot2.subgraph([x for x in g_consprot2.nodes if x not in [\"62010CJ0618\", \"62010CJ0076\", \"62011CJ0092\"]])\n",
    "pos = nx.spring_layout(g_consprot3, seed =123)\n",
    "nx.draw_networkx_nodes(g_consprot3, pos=pos, node_color=\"orange\", ax=ax[1])\n",
    "nx.draw_networkx_edges(g_consprot3, pos=pos, ax=ax[1])\n",
    "nx.draw_networkx_labels(g_consprot3, pos=pos, ax=ax[1]);"
   ]
  },
  {
   "cell_type": "markdown",
   "id": "b8e54b19-eb94-4a5f-817d-5e68aa2d2c10",
   "metadata": {
    "id": "-HGtIH_hHW91"
   },
   "source": [
    "How can betweenness centrality be explained in more mathematical terms? Betweenness centrality focuses on the number of shortest paths that pass through a node v. First take any pair of nodes s, t. We can obtain the length of all the shortest paths between s and t using a shortest path function that we here call 'spath'.\n",
    "\n",
    "$$ spath(s, t) $$\n",
    "\n",
    "We can also get the length of all the shortest paths between s and t that pass through our node of interest, v.\n",
    "\n",
    "$$ spaths(s, t \\mid v) $$ \n",
    "(The bar there just says \"on condition that they pass through v\".)\n",
    "\n",
    "Subsequently we can calculate the proportion or ratio of shortest paths that pass through v compared to the total number of shortest paths:\n",
    "\n",
    "$$ \\frac{spaths(s, t \\mid v)}{spath(s, t)} $$\n",
    "\n",
    "This will do it for a pair of nodes s, t. But we need to do this for every pair of nodes s, t, and sum the results:\n",
    "\n",
    "$$ \\sum_{s,t \\in V} \\frac{spaths(s, t \\mid v)}{spath(s, t)} $$\n",
    "(The $ \\Sigma $ is effectively saying, \"do this for every pair of nodes s, t in V, adding up the results along the way\".)"
   ]
  },
  {
   "cell_type": "markdown",
   "id": "d1b755ba-38f8-494b-b45c-f2b5c00800fb",
   "metadata": {},
   "source": [
    "## 3.6 Hyperlink-Induced Topic Search (HITS)\n",
    "\n",
    "HITS is an algorithm for identifying centrality in directed networks. It produces two scores:\n",
    "\n",
    "* The authority score keeps track of how effective are nodes in receiving citations or references from other nodes. \n",
    "\n",
    "* The hub score keeps track how effective are nodes in making citations to other nodes.\n",
    "\n",
    "So far this may look like in-degree and out-degree. The key difference is that the HITS algorithm does not merely count neighbors, but like Eigenvector Centrality and PageRank works recursively. A node receives a high hub score by citing  highly ranked authorities and a high authority score by being cited by highly ranked hubs and these scores are updated progressively through various iterations. \n",
    "\n",
    "Below we apply the algorithm to the obergefell network and we can see what one should expect, that Obergefell is the key hub, and that Loving v. Virginia the key authority. NetworkX provides us with the option of returning HITS results normalized or unnormalized. The normalized results are clearly more informative. Normalization here means showing each score as the proportion of the total scores, so that the scores would sum to 1 (or function as a percentage if multiplied by a 100). Appendix 3 provides more insight into normalization."
   ]
  },
  {
   "cell_type": "code",
   "execution_count": 24,
   "id": "46702f7b-0951-4027-9e42-c0586ebb9ee7",
   "metadata": {},
   "outputs": [
    {
     "data": {
      "text/html": [
       "<div>\n",
       "<style scoped>\n",
       "    .dataframe tbody tr th:only-of-type {\n",
       "        vertical-align: middle;\n",
       "    }\n",
       "\n",
       "    .dataframe tbody tr th {\n",
       "        vertical-align: top;\n",
       "    }\n",
       "\n",
       "    .dataframe thead th {\n",
       "        text-align: right;\n",
       "    }\n",
       "</style>\n",
       "<table border=\"1\" class=\"dataframe\">\n",
       "  <thead>\n",
       "    <tr style=\"text-align: right;\">\n",
       "      <th></th>\n",
       "      <th>nodes</th>\n",
       "      <th>hubs</th>\n",
       "      <th>authorities</th>\n",
       "      <th>hubs_normalized</th>\n",
       "      <th>authorities_normalized</th>\n",
       "    </tr>\n",
       "  </thead>\n",
       "  <tbody>\n",
       "    <tr>\n",
       "      <th>0</th>\n",
       "      <td>Obergefell_v_Hodges</td>\n",
       "      <td>-2.77</td>\n",
       "      <td>0.00</td>\n",
       "      <td>0.53</td>\n",
       "      <td>0.00</td>\n",
       "    </tr>\n",
       "    <tr>\n",
       "      <th>1</th>\n",
       "      <td>Lawrence_v_Texas</td>\n",
       "      <td>0.00</td>\n",
       "      <td>-0.31</td>\n",
       "      <td>0.00</td>\n",
       "      <td>0.11</td>\n",
       "    </tr>\n",
       "    <tr>\n",
       "      <th>2</th>\n",
       "      <td>Bowers_v_Hardwick</td>\n",
       "      <td>0.00</td>\n",
       "      <td>-0.31</td>\n",
       "      <td>-0.00</td>\n",
       "      <td>0.11</td>\n",
       "    </tr>\n",
       "    <tr>\n",
       "      <th>3</th>\n",
       "      <td>Zablocki_v_Redhail</td>\n",
       "      <td>-0.47</td>\n",
       "      <td>-0.31</td>\n",
       "      <td>0.09</td>\n",
       "      <td>0.11</td>\n",
       "    </tr>\n",
       "    <tr>\n",
       "      <th>4</th>\n",
       "      <td>Turner_v_Safley</td>\n",
       "      <td>-0.47</td>\n",
       "      <td>-0.31</td>\n",
       "      <td>0.09</td>\n",
       "      <td>0.11</td>\n",
       "    </tr>\n",
       "    <tr>\n",
       "      <th>5</th>\n",
       "      <td>Windsor_v_United_States</td>\n",
       "      <td>-0.47</td>\n",
       "      <td>-0.31</td>\n",
       "      <td>0.09</td>\n",
       "      <td>0.11</td>\n",
       "    </tr>\n",
       "    <tr>\n",
       "      <th>6</th>\n",
       "      <td>PPvCasey</td>\n",
       "      <td>-0.48</td>\n",
       "      <td>0.00</td>\n",
       "      <td>0.09</td>\n",
       "      <td>0.00</td>\n",
       "    </tr>\n",
       "    <tr>\n",
       "      <th>7</th>\n",
       "      <td>Roe_v_Wade</td>\n",
       "      <td>-0.55</td>\n",
       "      <td>-0.05</td>\n",
       "      <td>0.11</td>\n",
       "      <td>0.02</td>\n",
       "    </tr>\n",
       "    <tr>\n",
       "      <th>8</th>\n",
       "      <td>Griswold_v_Connecticut</td>\n",
       "      <td>-0.00</td>\n",
       "      <td>-0.43</td>\n",
       "      <td>-0.00</td>\n",
       "      <td>0.15</td>\n",
       "    </tr>\n",
       "    <tr>\n",
       "      <th>9</th>\n",
       "      <td>Lochner_v_New_York</td>\n",
       "      <td>0.00</td>\n",
       "      <td>-0.06</td>\n",
       "      <td>-0.00</td>\n",
       "      <td>0.02</td>\n",
       "    </tr>\n",
       "    <tr>\n",
       "      <th>10</th>\n",
       "      <td>NAACP_v_State_of_Alabama</td>\n",
       "      <td>0.00</td>\n",
       "      <td>-0.00</td>\n",
       "      <td>-0.00</td>\n",
       "      <td>-0.00</td>\n",
       "    </tr>\n",
       "    <tr>\n",
       "      <th>11</th>\n",
       "      <td>Union_Pacific_Railroad_v_Botsford</td>\n",
       "      <td>0.00</td>\n",
       "      <td>-0.06</td>\n",
       "      <td>-0.00</td>\n",
       "      <td>0.02</td>\n",
       "    </tr>\n",
       "    <tr>\n",
       "      <th>12</th>\n",
       "      <td>Loving_v_Virginia</td>\n",
       "      <td>0.00</td>\n",
       "      <td>-0.47</td>\n",
       "      <td>-0.00</td>\n",
       "      <td>0.16</td>\n",
       "    </tr>\n",
       "    <tr>\n",
       "      <th>13</th>\n",
       "      <td>Baker_v_Nelson</td>\n",
       "      <td>0.00</td>\n",
       "      <td>-0.31</td>\n",
       "      <td>-0.00</td>\n",
       "      <td>0.11</td>\n",
       "    </tr>\n",
       "    <tr>\n",
       "      <th>14</th>\n",
       "      <td>County_of_Sacramento_vs._Lewis</td>\n",
       "      <td>0.00</td>\n",
       "      <td>0.00</td>\n",
       "      <td>-0.00</td>\n",
       "      <td>0.00</td>\n",
       "    </tr>\n",
       "    <tr>\n",
       "      <th>15</th>\n",
       "      <td>Romer_v_Evans</td>\n",
       "      <td>0.00</td>\n",
       "      <td>0.00</td>\n",
       "      <td>-0.00</td>\n",
       "      <td>-0.00</td>\n",
       "    </tr>\n",
       "  </tbody>\n",
       "</table>\n",
       "</div>"
      ],
      "text/plain": [
       "                                nodes  hubs  authorities  hubs_normalized  \\\n",
       "0                 Obergefell_v_Hodges -2.77         0.00             0.53   \n",
       "1                    Lawrence_v_Texas  0.00        -0.31             0.00   \n",
       "2                   Bowers_v_Hardwick  0.00        -0.31            -0.00   \n",
       "3                  Zablocki_v_Redhail -0.47        -0.31             0.09   \n",
       "4                     Turner_v_Safley -0.47        -0.31             0.09   \n",
       "5             Windsor_v_United_States -0.47        -0.31             0.09   \n",
       "6                            PPvCasey -0.48         0.00             0.09   \n",
       "7                          Roe_v_Wade -0.55        -0.05             0.11   \n",
       "8              Griswold_v_Connecticut -0.00        -0.43            -0.00   \n",
       "9                  Lochner_v_New_York  0.00        -0.06            -0.00   \n",
       "10           NAACP_v_State_of_Alabama  0.00        -0.00            -0.00   \n",
       "11  Union_Pacific_Railroad_v_Botsford  0.00        -0.06            -0.00   \n",
       "12                  Loving_v_Virginia  0.00        -0.47            -0.00   \n",
       "13                     Baker_v_Nelson  0.00        -0.31            -0.00   \n",
       "14     County_of_Sacramento_vs._Lewis  0.00         0.00            -0.00   \n",
       "15                      Romer_v_Evans  0.00         0.00            -0.00   \n",
       "\n",
       "    authorities_normalized  \n",
       "0                     0.00  \n",
       "1                     0.11  \n",
       "2                     0.11  \n",
       "3                     0.11  \n",
       "4                     0.11  \n",
       "5                     0.11  \n",
       "6                     0.00  \n",
       "7                     0.02  \n",
       "8                     0.15  \n",
       "9                     0.02  \n",
       "10                   -0.00  \n",
       "11                    0.02  \n",
       "12                    0.16  \n",
       "13                    0.11  \n",
       "14                    0.00  \n",
       "15                   -0.00  "
      ]
     },
     "execution_count": 24,
     "metadata": {},
     "output_type": "execute_result"
    }
   ],
   "source": [
    "results = nx.hits(g_ob, normalized=False)\n",
    "results_n = nx.hits(g_ob, normalized=True)\n",
    "hubs = results[0]\n",
    "authorities = results[1]\n",
    "hubs_n = results_n[0]\n",
    "authorities_n = results_n[1]\n",
    "df_hits = pd.DataFrame({'nodes':hubs.keys(),\n",
    "                   'hubs': [np.round(x,2) for x in hubs.values()],\n",
    "                  'authorities': [np.round(x,2) for x in authorities.values()],\n",
    "                  'hubs_normalized': [np.round(x,2) for x in hubs_n.values()],\n",
    "                   \"authorities_normalized\": [np.round(x,2) for x in authorities_n.values()]})\n",
    "df_hits"
   ]
  },
  {
   "cell_type": "markdown",
   "id": "ab918bde-187a-4c00-9365-b3ca1ddc3198",
   "metadata": {},
   "source": [
    "Like Eigenvector centrality, HITS is an iterative algorithm that can be represented in many ways. Here, we will present one option that uses repeated multiplication on a modified version of the adjacency matrix. For this, let us first get the adjacency matrix of our graph.\n",
    "\n",
    "Note that because this is a directed network the adjacency matrix is not symmetrical."
   ]
  },
  {
   "cell_type": "code",
   "execution_count": 25,
   "id": "3e167d52-0300-48b0-a62e-a74e8527ea4f",
   "metadata": {},
   "outputs": [
    {
     "data": {
      "text/plain": [
       "array([[0, 1, 1, 1, 1, 1, 0, 0, 1, 0, 0, 0, 1, 1, 0, 0],\n",
       "       [0, 0, 0, 0, 0, 0, 1, 0, 0, 0, 0, 0, 0, 0, 1, 1],\n",
       "       [0, 0, 0, 0, 0, 0, 0, 0, 0, 0, 0, 0, 0, 0, 0, 0],\n",
       "       [0, 0, 0, 0, 0, 0, 0, 0, 0, 0, 0, 0, 1, 0, 0, 0],\n",
       "       [0, 0, 0, 0, 0, 0, 0, 0, 0, 0, 0, 0, 1, 0, 0, 0],\n",
       "       [0, 0, 0, 0, 0, 0, 0, 0, 0, 0, 0, 0, 1, 0, 0, 0],\n",
       "       [0, 0, 0, 0, 0, 0, 0, 1, 1, 0, 0, 0, 0, 0, 0, 0],\n",
       "       [0, 0, 0, 0, 0, 0, 0, 0, 1, 1, 0, 1, 0, 0, 0, 0],\n",
       "       [0, 0, 0, 0, 0, 0, 0, 0, 0, 0, 1, 0, 0, 0, 0, 0],\n",
       "       [0, 0, 0, 0, 0, 0, 0, 0, 0, 0, 0, 0, 0, 0, 0, 0],\n",
       "       [0, 0, 0, 0, 0, 0, 0, 0, 0, 0, 0, 0, 0, 0, 0, 0],\n",
       "       [0, 0, 0, 0, 0, 0, 0, 0, 0, 0, 0, 0, 0, 0, 0, 0],\n",
       "       [0, 0, 0, 0, 0, 0, 0, 0, 0, 0, 0, 0, 0, 0, 0, 0],\n",
       "       [0, 0, 0, 0, 0, 0, 0, 0, 0, 0, 0, 0, 0, 0, 0, 0],\n",
       "       [0, 0, 0, 0, 0, 0, 0, 0, 0, 0, 0, 0, 0, 0, 0, 0],\n",
       "       [0, 0, 0, 0, 0, 0, 0, 0, 0, 0, 0, 0, 0, 0, 0, 0]])"
      ]
     },
     "execution_count": 25,
     "metadata": {},
     "output_type": "execute_result"
    }
   ],
   "source": [
    "Ad = nx.adjacency_matrix(g_ob).todense()\n",
    "Ad"
   ]
  },
  {
   "cell_type": "markdown",
   "id": "8e0835f0-dda7-453b-ae94-66735885d147",
   "metadata": {},
   "source": [
    "Now we have to scale the adjacency matrix by the transpose of itself. Transposition here just swaps the order of rows and columns. We call this new matrix M.\n",
    "\n",
    "$$ M = Ad^T \\times Ad $$\n",
    "\n",
    "In numpy code this is represented in this manner:"
   ]
  },
  {
   "cell_type": "code",
   "execution_count": 26,
   "id": "5115614e-0842-428e-a702-84e2c9e5f6e7",
   "metadata": {},
   "outputs": [
    {
     "data": {
      "text/plain": [
       "array([[0, 0, 0, 0, 0, 0, 0, 0, 0, 0, 0, 0, 0, 0, 0, 0],\n",
       "       [0, 1, 1, 1, 1, 1, 0, 0, 1, 0, 0, 0, 1, 1, 0, 0],\n",
       "       [0, 1, 1, 1, 1, 1, 0, 0, 1, 0, 0, 0, 1, 1, 0, 0],\n",
       "       [0, 1, 1, 1, 1, 1, 0, 0, 1, 0, 0, 0, 1, 1, 0, 0],\n",
       "       [0, 1, 1, 1, 1, 1, 0, 0, 1, 0, 0, 0, 1, 1, 0, 0],\n",
       "       [0, 1, 1, 1, 1, 1, 0, 0, 1, 0, 0, 0, 1, 1, 0, 0],\n",
       "       [0, 0, 0, 0, 0, 0, 1, 0, 0, 0, 0, 0, 0, 0, 1, 1],\n",
       "       [0, 0, 0, 0, 0, 0, 0, 1, 1, 0, 0, 0, 0, 0, 0, 0],\n",
       "       [0, 1, 1, 1, 1, 1, 0, 1, 3, 1, 0, 1, 1, 1, 0, 0],\n",
       "       [0, 0, 0, 0, 0, 0, 0, 0, 1, 1, 0, 1, 0, 0, 0, 0],\n",
       "       [0, 0, 0, 0, 0, 0, 0, 0, 0, 0, 1, 0, 0, 0, 0, 0],\n",
       "       [0, 0, 0, 0, 0, 0, 0, 0, 1, 1, 0, 1, 0, 0, 0, 0],\n",
       "       [0, 1, 1, 1, 1, 1, 0, 0, 1, 0, 0, 0, 4, 1, 0, 0],\n",
       "       [0, 1, 1, 1, 1, 1, 0, 0, 1, 0, 0, 0, 1, 1, 0, 0],\n",
       "       [0, 0, 0, 0, 0, 0, 1, 0, 0, 0, 0, 0, 0, 0, 1, 1],\n",
       "       [0, 0, 0, 0, 0, 0, 1, 0, 0, 0, 0, 0, 0, 0, 1, 1]])"
      ]
     },
     "execution_count": 26,
     "metadata": {},
     "output_type": "execute_result"
    }
   ],
   "source": [
    "M = Ad.T@Ad\n",
    "M"
   ]
  },
  {
   "cell_type": "markdown",
   "id": "7d535082-9dfb-4482-8b0e-e1dc4561e475",
   "metadata": {},
   "source": [
    "Unlike the Adjacency matrix for a directed network, this M matrix is symmetrical. This implies that the resulting network is bidirectional or undirected even if the original network was directed. This further implies that there is less reason to worry about a random walker being trapped, and hence no need for the teleportation strategy used in PageRank."
   ]
  },
  {
   "cell_type": "markdown",
   "id": "71202022-dba9-4e9b-851b-aa75a4a2b1b8",
   "metadata": {},
   "source": [
    "Now that we have M, we are going to simulate the repeated scaling of a set of initial values by M, just like with did with Eigenvector Centrality. Since we have a 16x16 matrix, we are going to create a vector x with 16 initial values of 0.0625.\n",
    "\n",
    "$$ x = [0.0625, 0.0625, 0.0625, 0.0625 ... ] $$\n",
    "\n"
   ]
  },
  {
   "cell_type": "markdown",
   "id": "4bcc7ab1-e8bf-47ac-9984-15b05ce87493",
   "metadata": {},
   "source": [
    "In order to get the authority score, we repeatedly multiply the new matrix M with the vector of probabilities x like we did before in Eigenvector Centrality and PageRank. After many repetitions, the values of x stabilize giving us the unnormalized result."
   ]
  },
  {
   "cell_type": "code",
   "execution_count": 92,
   "id": "0db22514-52f7-4aba-a6d0-960813bd436d",
   "metadata": {},
   "outputs": [
    {
     "data": {
      "text/plain": [
       "array([[0.  ],\n",
       "       [0.31],\n",
       "       [0.31],\n",
       "       [0.31],\n",
       "       [0.31],\n",
       "       [0.31],\n",
       "       [0.  ],\n",
       "       [0.05],\n",
       "       [0.43],\n",
       "       [0.06],\n",
       "       [0.  ],\n",
       "       [0.06],\n",
       "       [0.47],\n",
       "       [0.31],\n",
       "       [0.  ],\n",
       "       [0.  ]])"
      ]
     },
     "execution_count": 92,
     "metadata": {},
     "output_type": "execute_result"
    }
   ],
   "source": [
    "x = (np.ones(16)/16)\n",
    "for i in range(0,100):\n",
    "    x = M@x.reshape(16,1)\n",
    "    mynorm = np.linalg.norm(x)\n",
    "    x = x/mynorm\n",
    "np.round(x,2)"
   ]
  },
  {
   "cell_type": "markdown",
   "id": "8b5ee9ee-aeb8-498f-a4ea-6a99728b217b",
   "metadata": {},
   "source": [
    "Now let's get the hubs scores. For these we are going to first get a matrix N that is produced by multiplying the adjacency matrix by itself tranposed (if you think of multiplication in algebra, this procedure may appear identical to the one we used to get the matrix M. Multiplication is normally commutative, that is to say $ 3 \\times 4 $ is the same as $ 4 \\times 3 $ However matrix multiplication is not commutative. \n",
    "\n",
    "$$ N = Ad \\times Ad^T $$\n",
    "\n",
    "Since we have a 16x16 matrix, we are going to create a vector y with 16 initial values of 0.0625, exactly the same as we did for x above.\n",
    "\n",
    "$$ x = [0.0625, 0.0625, 0.0625, 0.0625 ... ] $$\n"
   ]
  },
  {
   "cell_type": "code",
   "execution_count": 86,
   "id": "9f7aba67-95cc-48d2-aa36-a81ec336f7ef",
   "metadata": {},
   "outputs": [
    {
     "data": {
      "text/plain": [
       "array([[0.93],\n",
       "       [0.  ],\n",
       "       [0.  ],\n",
       "       [0.16],\n",
       "       [0.16],\n",
       "       [0.16],\n",
       "       [0.16],\n",
       "       [0.19],\n",
       "       [0.  ],\n",
       "       [0.  ],\n",
       "       [0.  ],\n",
       "       [0.  ],\n",
       "       [0.  ],\n",
       "       [0.  ],\n",
       "       [0.  ],\n",
       "       [0.  ]])"
      ]
     },
     "execution_count": 86,
     "metadata": {},
     "output_type": "execute_result"
    }
   ],
   "source": [
    "y = (np.ones(16)/16)\n",
    "for i in range(0,100):\n",
    "    y = N@y.reshape(16,1)\n",
    "    mynorm = np.linalg.norm(y)\n",
    "    y = y/mynorm\n",
    "np.round(y,2)"
   ]
  },
  {
   "cell_type": "markdown",
   "id": "dbd3db5c-a75a-4e9a-aebf-bb47d13be60d",
   "metadata": {},
   "source": [
    "Now you will see that the unnormalized scores presented here seem to bear no relation to the unnormalized scores produced by NetworkX. This is not significant, and it is simply a byproduct of the process by which these results were obtained. After normalization, the results converge exactly. First we proceed to normalize."
   ]
  },
  {
   "cell_type": "code",
   "execution_count": 93,
   "id": "85aa783e-b8a3-4c38-92e9-4c4f7d195c00",
   "metadata": {},
   "outputs": [],
   "source": [
    "sumx = np.sum(x)\n",
    "myauth_norm = x/sumx\n",
    "myauth_norm = np.round(myauth_norm,2)\n",
    "\n",
    "sumy = np.sum(y)\n",
    "myhubs_norm = y/sumy\n",
    "myhubs_norm = np.round(myhubs_norm,2)"
   ]
  },
  {
   "cell_type": "markdown",
   "id": "88beb3fd-0721-42d5-8ffd-923fa6e0f2ac",
   "metadata": {},
   "source": [
    "And now compare the results by adding them to the table we created at the beginning of this section"
   ]
  },
  {
   "cell_type": "code",
   "execution_count": 94,
   "id": "1e8e7727-86a1-4ac0-8d4f-2d9b4c28f697",
   "metadata": {},
   "outputs": [
    {
     "data": {
      "text/html": [
       "<div>\n",
       "<style scoped>\n",
       "    .dataframe tbody tr th:only-of-type {\n",
       "        vertical-align: middle;\n",
       "    }\n",
       "\n",
       "    .dataframe tbody tr th {\n",
       "        vertical-align: top;\n",
       "    }\n",
       "\n",
       "    .dataframe thead th {\n",
       "        text-align: right;\n",
       "    }\n",
       "</style>\n",
       "<table border=\"1\" class=\"dataframe\">\n",
       "  <thead>\n",
       "    <tr style=\"text-align: right;\">\n",
       "      <th></th>\n",
       "      <th>nodes</th>\n",
       "      <th>hubs</th>\n",
       "      <th>authorities</th>\n",
       "      <th>hubs_normalized</th>\n",
       "      <th>authorities_normalized</th>\n",
       "      <th>my_hubs_norm</th>\n",
       "      <th>my_auth_norm</th>\n",
       "    </tr>\n",
       "  </thead>\n",
       "  <tbody>\n",
       "    <tr>\n",
       "      <th>0</th>\n",
       "      <td>Obergefell_v_Hodges</td>\n",
       "      <td>-2.77</td>\n",
       "      <td>0.00</td>\n",
       "      <td>0.53</td>\n",
       "      <td>0.00</td>\n",
       "      <td>0.53</td>\n",
       "      <td>0.00</td>\n",
       "    </tr>\n",
       "    <tr>\n",
       "      <th>1</th>\n",
       "      <td>Lawrence_v_Texas</td>\n",
       "      <td>0.00</td>\n",
       "      <td>-0.31</td>\n",
       "      <td>0.00</td>\n",
       "      <td>0.11</td>\n",
       "      <td>0.00</td>\n",
       "      <td>0.11</td>\n",
       "    </tr>\n",
       "    <tr>\n",
       "      <th>2</th>\n",
       "      <td>Bowers_v_Hardwick</td>\n",
       "      <td>0.00</td>\n",
       "      <td>-0.31</td>\n",
       "      <td>-0.00</td>\n",
       "      <td>0.11</td>\n",
       "      <td>0.00</td>\n",
       "      <td>0.11</td>\n",
       "    </tr>\n",
       "    <tr>\n",
       "      <th>3</th>\n",
       "      <td>Zablocki_v_Redhail</td>\n",
       "      <td>-0.47</td>\n",
       "      <td>-0.31</td>\n",
       "      <td>0.09</td>\n",
       "      <td>0.11</td>\n",
       "      <td>0.09</td>\n",
       "      <td>0.11</td>\n",
       "    </tr>\n",
       "    <tr>\n",
       "      <th>4</th>\n",
       "      <td>Turner_v_Safley</td>\n",
       "      <td>-0.47</td>\n",
       "      <td>-0.31</td>\n",
       "      <td>0.09</td>\n",
       "      <td>0.11</td>\n",
       "      <td>0.09</td>\n",
       "      <td>0.11</td>\n",
       "    </tr>\n",
       "    <tr>\n",
       "      <th>5</th>\n",
       "      <td>Windsor_v_United_States</td>\n",
       "      <td>-0.47</td>\n",
       "      <td>-0.31</td>\n",
       "      <td>0.09</td>\n",
       "      <td>0.11</td>\n",
       "      <td>0.09</td>\n",
       "      <td>0.11</td>\n",
       "    </tr>\n",
       "    <tr>\n",
       "      <th>6</th>\n",
       "      <td>PPvCasey</td>\n",
       "      <td>-0.48</td>\n",
       "      <td>0.00</td>\n",
       "      <td>0.09</td>\n",
       "      <td>0.00</td>\n",
       "      <td>0.09</td>\n",
       "      <td>0.00</td>\n",
       "    </tr>\n",
       "    <tr>\n",
       "      <th>7</th>\n",
       "      <td>Roe_v_Wade</td>\n",
       "      <td>-0.55</td>\n",
       "      <td>-0.05</td>\n",
       "      <td>0.11</td>\n",
       "      <td>0.02</td>\n",
       "      <td>0.11</td>\n",
       "      <td>0.02</td>\n",
       "    </tr>\n",
       "    <tr>\n",
       "      <th>8</th>\n",
       "      <td>Griswold_v_Connecticut</td>\n",
       "      <td>-0.00</td>\n",
       "      <td>-0.43</td>\n",
       "      <td>-0.00</td>\n",
       "      <td>0.15</td>\n",
       "      <td>0.00</td>\n",
       "      <td>0.15</td>\n",
       "    </tr>\n",
       "    <tr>\n",
       "      <th>9</th>\n",
       "      <td>Lochner_v_New_York</td>\n",
       "      <td>0.00</td>\n",
       "      <td>-0.06</td>\n",
       "      <td>-0.00</td>\n",
       "      <td>0.02</td>\n",
       "      <td>0.00</td>\n",
       "      <td>0.02</td>\n",
       "    </tr>\n",
       "    <tr>\n",
       "      <th>10</th>\n",
       "      <td>NAACP_v_State_of_Alabama</td>\n",
       "      <td>0.00</td>\n",
       "      <td>-0.00</td>\n",
       "      <td>-0.00</td>\n",
       "      <td>-0.00</td>\n",
       "      <td>0.00</td>\n",
       "      <td>0.00</td>\n",
       "    </tr>\n",
       "    <tr>\n",
       "      <th>11</th>\n",
       "      <td>Union_Pacific_Railroad_v_Botsford</td>\n",
       "      <td>0.00</td>\n",
       "      <td>-0.06</td>\n",
       "      <td>-0.00</td>\n",
       "      <td>0.02</td>\n",
       "      <td>0.00</td>\n",
       "      <td>0.02</td>\n",
       "    </tr>\n",
       "    <tr>\n",
       "      <th>12</th>\n",
       "      <td>Loving_v_Virginia</td>\n",
       "      <td>0.00</td>\n",
       "      <td>-0.47</td>\n",
       "      <td>-0.00</td>\n",
       "      <td>0.16</td>\n",
       "      <td>0.00</td>\n",
       "      <td>0.16</td>\n",
       "    </tr>\n",
       "    <tr>\n",
       "      <th>13</th>\n",
       "      <td>Baker_v_Nelson</td>\n",
       "      <td>0.00</td>\n",
       "      <td>-0.31</td>\n",
       "      <td>-0.00</td>\n",
       "      <td>0.11</td>\n",
       "      <td>0.00</td>\n",
       "      <td>0.11</td>\n",
       "    </tr>\n",
       "    <tr>\n",
       "      <th>14</th>\n",
       "      <td>County_of_Sacramento_vs._Lewis</td>\n",
       "      <td>0.00</td>\n",
       "      <td>0.00</td>\n",
       "      <td>-0.00</td>\n",
       "      <td>0.00</td>\n",
       "      <td>0.00</td>\n",
       "      <td>0.00</td>\n",
       "    </tr>\n",
       "    <tr>\n",
       "      <th>15</th>\n",
       "      <td>Romer_v_Evans</td>\n",
       "      <td>0.00</td>\n",
       "      <td>0.00</td>\n",
       "      <td>-0.00</td>\n",
       "      <td>-0.00</td>\n",
       "      <td>0.00</td>\n",
       "      <td>0.00</td>\n",
       "    </tr>\n",
       "  </tbody>\n",
       "</table>\n",
       "</div>"
      ],
      "text/plain": [
       "                                nodes  hubs  authorities  hubs_normalized  \\\n",
       "0                 Obergefell_v_Hodges -2.77         0.00             0.53   \n",
       "1                    Lawrence_v_Texas  0.00        -0.31             0.00   \n",
       "2                   Bowers_v_Hardwick  0.00        -0.31            -0.00   \n",
       "3                  Zablocki_v_Redhail -0.47        -0.31             0.09   \n",
       "4                     Turner_v_Safley -0.47        -0.31             0.09   \n",
       "5             Windsor_v_United_States -0.47        -0.31             0.09   \n",
       "6                            PPvCasey -0.48         0.00             0.09   \n",
       "7                          Roe_v_Wade -0.55        -0.05             0.11   \n",
       "8              Griswold_v_Connecticut -0.00        -0.43            -0.00   \n",
       "9                  Lochner_v_New_York  0.00        -0.06            -0.00   \n",
       "10           NAACP_v_State_of_Alabama  0.00        -0.00            -0.00   \n",
       "11  Union_Pacific_Railroad_v_Botsford  0.00        -0.06            -0.00   \n",
       "12                  Loving_v_Virginia  0.00        -0.47            -0.00   \n",
       "13                     Baker_v_Nelson  0.00        -0.31            -0.00   \n",
       "14     County_of_Sacramento_vs._Lewis  0.00         0.00            -0.00   \n",
       "15                      Romer_v_Evans  0.00         0.00            -0.00   \n",
       "\n",
       "    authorities_normalized  my_hubs_norm  my_auth_norm  \n",
       "0                     0.00          0.53          0.00  \n",
       "1                     0.11          0.00          0.11  \n",
       "2                     0.11          0.00          0.11  \n",
       "3                     0.11          0.09          0.11  \n",
       "4                     0.11          0.09          0.11  \n",
       "5                     0.11          0.09          0.11  \n",
       "6                     0.00          0.09          0.00  \n",
       "7                     0.02          0.11          0.02  \n",
       "8                     0.15          0.00          0.15  \n",
       "9                     0.02          0.00          0.02  \n",
       "10                   -0.00          0.00          0.00  \n",
       "11                    0.02          0.00          0.02  \n",
       "12                    0.16          0.00          0.16  \n",
       "13                    0.11          0.00          0.11  \n",
       "14                    0.00          0.00          0.00  \n",
       "15                   -0.00          0.00          0.00  "
      ]
     },
     "execution_count": 94,
     "metadata": {},
     "output_type": "execute_result"
    }
   ],
   "source": [
    "df_hits['my_hubs_norm'] = myhubs_norm\n",
    "df_hits['my_auth_norm'] = myauth_norm\n",
    "df_hits"
   ]
  },
  {
   "cell_type": "markdown",
   "id": "cc52f49f-0913-4929-b971-7d02e4800e4b",
   "metadata": {},
   "source": [
    "Alternatively, if we have the authority scores, we can just scale them by the adjacency matrix to get the hubs scores"
   ]
  },
  {
   "cell_type": "code",
   "execution_count": 124,
   "id": "6036b133-2854-460f-9db0-7666e2921027",
   "metadata": {},
   "outputs": [
    {
     "data": {
      "text/plain": [
       "array([[2.77113276e+00],\n",
       "       [7.24312290e-48],\n",
       "       [0.00000000e+00],\n",
       "       [4.70982908e-01],\n",
       "       [4.70982908e-01],\n",
       "       [4.70982908e-01],\n",
       "       [4.82905949e-01],\n",
       "       [5.53057810e-01],\n",
       "       [4.68467134e-96],\n",
       "       [0.00000000e+00],\n",
       "       [0.00000000e+00],\n",
       "       [0.00000000e+00],\n",
       "       [0.00000000e+00],\n",
       "       [0.00000000e+00],\n",
       "       [0.00000000e+00],\n",
       "       [0.00000000e+00]])"
      ]
     },
     "execution_count": 124,
     "metadata": {},
     "output_type": "execute_result"
    }
   ],
   "source": [
    "y = Ad@x\n",
    "y"
   ]
  },
  {
   "cell_type": "markdown",
   "id": "551eaf62-cccf-4851-abe2-678324c061cd",
   "metadata": {},
   "source": [
    "Now normalized:"
   ]
  },
  {
   "cell_type": "code",
   "execution_count": 125,
   "id": "c6c69f86-ceaa-4680-b879-0d1be5c36b4a",
   "metadata": {},
   "outputs": [
    {
     "data": {
      "text/plain": [
       "array([[0.53],\n",
       "       [0.  ],\n",
       "       [0.  ],\n",
       "       [0.09],\n",
       "       [0.09],\n",
       "       [0.09],\n",
       "       [0.09],\n",
       "       [0.11],\n",
       "       [0.  ],\n",
       "       [0.  ],\n",
       "       [0.  ],\n",
       "       [0.  ],\n",
       "       [0.  ],\n",
       "       [0.  ],\n",
       "       [0.  ],\n",
       "       [0.  ]])"
      ]
     },
     "execution_count": 125,
     "metadata": {},
     "output_type": "execute_result"
    }
   ],
   "source": [
    "np.round(y/np.sum(y), 2)\n"
   ]
  },
  {
   "cell_type": "markdown",
   "id": "41db747d-286a-477c-8d9e-55978055d5da",
   "metadata": {},
   "source": [
    "For yet one more way to calculate the HITS score, remember that repeated multiplication is connected to eigenvectors, so here we can see that an alternative way to get the same result is to get the eigenvectors corresponding to the largest eigenvalue of M."
   ]
  },
  {
   "cell_type": "code",
   "execution_count": 103,
   "id": "b2cd5118-b557-4afd-8f2e-49f658d19e83",
   "metadata": {},
   "outputs": [
    {
     "data": {
      "text/plain": [
       "array([-2.22044605e-16+0.00000000e+00j,  3.00000000e+00+0.00000000e+00j,\n",
       "        8.88372254e+00+0.00000000e+00j,  3.44992335e+00+0.00000000e+00j,\n",
       "        2.31089374e+00+0.00000000e+00j,  1.35546037e+00+0.00000000e+00j,\n",
       "       -1.86689873e-16+0.00000000e+00j,  2.08806008e-16+0.00000000e+00j,\n",
       "        1.75741997e-16+0.00000000e+00j,  3.14921698e-17+1.33634819e-16j,\n",
       "        3.14921698e-17-1.33634819e-16j, -1.08093785e-17+0.00000000e+00j,\n",
       "       -1.23711981e-18+0.00000000e+00j,  2.54169549e-33+0.00000000e+00j,\n",
       "        0.00000000e+00+0.00000000e+00j,  1.00000000e+00+0.00000000e+00j])"
      ]
     },
     "execution_count": 103,
     "metadata": {},
     "output_type": "execute_result"
    }
   ],
   "source": [
    "vals, vecs = np.linalg.eig(M)\n",
    "vals"
   ]
  },
  {
   "cell_type": "markdown",
   "id": "07d338b1-ec58-453e-86cf-45c1c8614cab",
   "metadata": {},
   "source": [
    "The largest eigenvalue is in position 2."
   ]
  },
  {
   "cell_type": "code",
   "execution_count": 104,
   "id": "72269fd1-2e8d-4395-bbf9-77eef1fa5575",
   "metadata": {},
   "outputs": [
    {
     "data": {
      "text/plain": [
       "2"
      ]
     },
     "execution_count": 104,
     "metadata": {},
     "output_type": "execute_result"
    }
   ],
   "source": [
    "np.argmax(vals)"
   ]
  },
  {
   "cell_type": "markdown",
   "id": "2b890be8-03b5-4dea-997b-384fb1a5af90",
   "metadata": {},
   "source": [
    "And this is just our result for the authority score not normalized. \n",
    "\n"
   ]
  },
  {
   "cell_type": "code",
   "execution_count": 105,
   "id": "7c054c48-1195-492f-890b-1cfac492b6e0",
   "metadata": {},
   "outputs": [
    {
     "data": {
      "text/plain": [
       "array([ 0.  +0.j,  0.31+0.j,  0.31+0.j,  0.31+0.j,  0.31+0.j,  0.31+0.j,\n",
       "       -0.  +0.j,  0.05+0.j,  0.43+0.j,  0.06+0.j,  0.  +0.j,  0.06+0.j,\n",
       "        0.47+0.j,  0.31+0.j, -0.  +0.j, -0.  +0.j])"
      ]
     },
     "execution_count": 105,
     "metadata": {},
     "output_type": "execute_result"
    }
   ],
   "source": [
    "a = vecs[:,2]\n",
    "np.round(a,2)\n",
    "\n"
   ]
  },
  {
   "cell_type": "markdown",
   "id": "26ee079f-46a3-4b9a-ad8e-a00c21981c15",
   "metadata": {},
   "source": [
    "After normalization it is the same as the authority score normalized."
   ]
  },
  {
   "cell_type": "code",
   "execution_count": 106,
   "id": "36115300-d514-4e99-b1e5-9d084bd656bd",
   "metadata": {},
   "outputs": [
    {
     "data": {
      "text/plain": [
       "array([ 0.  +0.j,  0.11+0.j,  0.11+0.j,  0.11+0.j,  0.11+0.j,  0.11+0.j,\n",
       "       -0.  +0.j,  0.02+0.j,  0.15+0.j,  0.02+0.j,  0.  +0.j,  0.02+0.j,\n",
       "        0.16+0.j,  0.11+0.j, -0.  +0.j, -0.  +0.j])"
      ]
     },
     "execution_count": 106,
     "metadata": {},
     "output_type": "execute_result"
    }
   ],
   "source": [
    "sum_a = np.sum(a)\n",
    "myauth_norm2 = a/sum_a\n",
    "np.round(myauth_norm2,2)\n"
   ]
  },
  {
   "cell_type": "markdown",
   "id": "e45d4682-d1fa-4af3-afa9-bd46e3d0ea81",
   "metadata": {},
   "source": [
    "If we multiply the adjacency matrix for this we can get the hubs score"
   ]
  },
  {
   "cell_type": "code",
   "execution_count": 107,
   "id": "ac647d47-3cb0-4cb6-a0f5-7f8afd67fd66",
   "metadata": {},
   "outputs": [
    {
     "data": {
      "text/plain": [
       "array([ 2.77+0.j, -0.  +0.j,  0.  +0.j,  0.47+0.j,  0.47+0.j,  0.47+0.j,\n",
       "        0.48+0.j,  0.55+0.j,  0.  +0.j,  0.  +0.j,  0.  +0.j,  0.  +0.j,\n",
       "        0.  +0.j,  0.  +0.j,  0.  +0.j,  0.  +0.j])"
      ]
     },
     "execution_count": 107,
     "metadata": {},
     "output_type": "execute_result"
    }
   ],
   "source": [
    "h = Ad@a\n",
    "h = np.round(h, 2)\n",
    "h"
   ]
  },
  {
   "cell_type": "markdown",
   "id": "2632f7f3-4c3a-4aae-8696-23177fc26d82",
   "metadata": {},
   "source": [
    "...and then normalize to end up in the same place through direct application of eigenvectors."
   ]
  },
  {
   "cell_type": "code",
   "execution_count": 108,
   "id": "2b7a11f9-7c6a-4371-a659-773570da8554",
   "metadata": {},
   "outputs": [
    {
     "data": {
      "text/plain": [
       "array([0.53+0.j, 0.  +0.j, 0.  +0.j, 0.09+0.j, 0.09+0.j, 0.09+0.j,\n",
       "       0.09+0.j, 0.11+0.j, 0.  +0.j, 0.  +0.j, 0.  +0.j, 0.  +0.j,\n",
       "       0.  +0.j, 0.  +0.j, 0.  +0.j, 0.  +0.j])"
      ]
     },
     "execution_count": 108,
     "metadata": {},
     "output_type": "execute_result"
    }
   ],
   "source": [
    "sum_h = np.sum(h)\n",
    "myhubs_norm2 = h/sum_h\n",
    "np.round(myhubs_norm2,2)\n"
   ]
  },
  {
   "cell_type": "markdown",
   "id": "26014e67-8e4a-4b91-b1e9-927d6b143de2",
   "metadata": {},
   "source": [
    "The advantages and disadvantages of this or that procedure for getting the results will not be discussed here."
   ]
  },
  {
   "cell_type": "markdown",
   "id": "b667d9bf-1455-4ad5-a0c8-0742f1eabfdc",
   "metadata": {},
   "source": [
    "## 3.7 Comparing Centrality Scores"
   ]
  },
  {
   "cell_type": "markdown",
   "id": "abbefc8a-7e21-4889-9720-4278d2421629",
   "metadata": {},
   "source": [
    "To conclude this section, it is worth reflecting on the value of different centrality measures. As has been noted above, there is a significant degree of judgment needed to determine which centrality measure is the best for each case. \n",
    "\n",
    "It may be valuable to look at centrality measures together in order to ascertain where things stand. Here we provide a simple analysis that includes the degree of correlation between the measures. \n",
    "\n",
    "Normally one would expect all measures to be positively correlated (being more central in one way, makes one more central in other ways, even if perhaps not to the same intensity. However this will not always be the case. \n",
    "\n",
    "If we see that measures are negatively correlated (as is the case for eigenvector centrality and betweenness centrality in the kite graph) we learn something important about the graph structure, for example, that the graph is easy to separate as the network brokers have themselves limited degree of connections.\n"
   ]
  },
  {
   "cell_type": "code",
   "execution_count": 121,
   "id": "0958259e-f9eb-4333-9386-b78ce4482681",
   "metadata": {},
   "outputs": [
    {
     "data": {
      "image/png": "[encoded data removed]",
      "text/plain": [
       "<Figure size 1600x800 with 4 Axes>"
      ]
     },
     "metadata": {},
     "output_type": "display_data"
    }
   ],
   "source": [
    "g_trains = load_graph_from_json(\"data/g_trains.json\")\n",
    "g_kite = nx.krackhardt_kite_graph()\n",
    "results_trains = []\n",
    "for i in [nx.degree_centrality, nx.closeness_centrality, nx.eigenvector_centrality, nx.betweenness_centrality]:\n",
    "    res = i(g_trains)\n",
    "    results_trains.append(res)\n",
    "\n",
    "comparision_trains = pd.DataFrame({\"nodes\":results_trains[0].keys(), \n",
    "              \"degree_c\":results_trains[0].values(),\n",
    "             \"closeness_c\":results_trains[1].values(),\n",
    "              \"eig_c\":results_trains[2].values(),\n",
    "              \"between_c\":results_trains[3].values()})\n",
    "comparision_trains.set_index(\"nodes\", inplace=True)\n",
    "\n",
    "results_kite = []\n",
    "for i in [nx.degree_centrality, nx.closeness_centrality, nx.eigenvector_centrality, nx.betweenness_centrality]:\n",
    "    res = i(g_kite)\n",
    "    results_kite.append(res)\n",
    "\n",
    "comparision_kite = pd.DataFrame({\"nodes\":results_kite[0].keys(), \n",
    "              \"degree_c\":results_kite[0].values(),\n",
    "             \"closeness_c\":results_kite[1].values(),\n",
    "              \"eig_c\":results_kite[2].values(),\n",
    "              \"between_c\":results_kite[3].values()})\n",
    "comparision_kite.set_index(\"nodes\", inplace=True)\n",
    "\n",
    "\n",
    "fig, ax = plt.subplots(1,2, figsize=[16,8])\n",
    "plt.suptitle(\"Correlation for Centrality measures\")\n",
    "sns.heatmap(comparision_trains.corr(), annot=True, vmin=-1, vmax=1, cmap=\"coolwarm\", ax=ax[0])\n",
    "sns.heatmap(comparision_kite.corr(), annot=True, vmin=-1, vmax=1, cmap=\"coolwarm\", ax=ax[1]);\n",
    "\n"
   ]
  }
 ],
 "metadata": {
  "kernelspec": {
   "display_name": "Python 3 (ipykernel)",
   "language": "python",
   "name": "python3"
  },
  "language_info": {
   "codemirror_mode": {
    "name": "ipython",
    "version": 3
   },
   "file_extension": ".py",
   "mimetype": "text/x-python",
   "name": "python",
   "nbconvert_exporter": "python",
   "pygments_lexer": "ipython3",
   "version": "3.11.5"
  }
 },
 "nbformat": 4,
 "nbformat_minor": 5
}
