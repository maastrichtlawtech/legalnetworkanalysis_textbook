{
 "cells": [
  {
   "cell_type": "markdown",
   "id": "8da928f2-1043-46c5-a2e3-67c5673840da",
   "metadata": {
    "id": "JmF13cv-mbOi",
    "tags": []
   },
   "source": [
    "# 5 Data Collection and Data Preparation\n",
    "\n",
    "The previous chapters did not yet address a crucial prerequisite for the application of network analysis: ensuring that the data is suitable for conducting network analysis. This chapter addresses this aspect.\n",
    "\n",
    "The first step is to obtain usable data, and turning the data *into* the network. Obtaining the data may be done by hand, electronically, or both. This data must be put in a format suitable to be read and processed by network analysis software. In this respect, we will discuss how data might be extracted through qualitative coding or data mining. We will focus on the ways you can structure the data in a format that is readable by the software.\n",
    "What you will see here are just examples, as the researcher will need to develop a strategy that fits his / her own problem."
   ]
  },
  {
   "cell_type": "markdown",
   "id": "ac403f4d-b6dd-4f06-87cb-41249adccb74",
   "metadata": {
    "id": "cLLVPWt_rGck"
   },
   "source": [
    "## 5.1 The Research Question Offers Guidance\n",
    "\n",
    "What data is required, first and foremost depends on the aim of the research and the questions that you are asking. These determine the design and the scope of the research and therefore affect the boundaries of the network that you are investigating. The research questions will focus on certain relations (edges), offering guidance as to what elements (nodes) or variables to include in the network and which in turn determines the data that you need to obtain. For instance, if we want to conduct a network analysis of an organized crime syndicate, a number of questions could be relevant. We can ask which actors are related to each other and who is the most important actor given those relations? Moreover, we could examine the types of criminal offences they were involved in, when, and with whom? This helps us to answer the broader question how criminal networks and activities develop over time. We could also include metadata about gender, age or nationality of the actor and locus delicti of the crimes, etc. to shed even more light on the characteristics of the offender and the offences. \n",
    "\n",
    "To develop such a network analysis of an organized crime syndicate you can rely on information that can be retrieved from various sources, such as newspaper articles that report on the activities of the network, or more elaborate journalistic and scholarly investigations that address the criminal network and its characteristics more in depth. Or maybe you can even get access to police or court files that shed light on the criminal activities, their organization and the question to what extent these activities amount to criminal offences. \n",
    "\n",
    "Our first question concerns a straightforward actor network, which means that we will need to analyse and code our journalistic, scholarly, police or court data for actors and their relations. To address our second question, we will need to go through our data and we need to code the offences perpetrated, the date and location, and the names of the actors involved, etc."
   ]
  },
  {
   "cell_type": "markdown",
   "id": "a967b0eb-e20b-42e5-b3fc-e3caadf32af3",
   "metadata": {
    "id": "IcuXKjALvTBi"
   },
   "source": [
    "## 5.2 Data Collection and Qualitative Coding\n",
    "\n",
    "To obtain the relevant data you will need to look for data sources, which can include (online) communities, events, actors, archives, etc. To extract relevant data from these sources, researchers often rely on data collection methods used in the social sciences such as field observations, open or structured interviews, surveys, archival and documentation research, etc. The collected data might already be suitable for network analysis, because the data is for instance numerical, which can be the case when doing surveys. However, the data gathered will often probably be qualitative in nature. It will concern written documentation, archival records, interview transcripts, photographs, video footage, field study reports. memo’s etc. In order for such qualitative data to be used, it needs to be formatted into data that can be used in network analysis. This can be done manually through qualitative coding or annotation. This involves the process of defining / labelling the data according to key themes. These categories can be distilled inductively ‘in vivo’ from the data itself or the categories can be taken from relevant theoretical and conceptual frameworks. \n",
    "\n",
    "One may examine corporate reports and interviews, and find evidence of partnership relations between corporations. Some of this evidence may be formal statements of partnership. Other evidence may be testiominal evidence to the effect that \"we always buy equipment from Nissan\". Regarding the second example, we may rely on attitudes expressed in formal written exchanges or in interviews with diplomats. At any rate this information will be qualitative, and thus the researcher will need to judge whether evidence such as \"we always buy equipment from Nissan\" is sufficient grounds to say that there is a collaboration, and \"code\" it as such, or not. Or, alternatively, the researcher will want to \"weigh\" the strength of the evidence, the strength of collaboration, or both, leading to networks with weighted edges. This process will almost always involve value judgments on the part of the researcher. One of the ways that these value judgments can be rendered more objective is through inter-coder reliability. That means that more than one researcher will code (for example, a team of students) and then findings will be weighted down by the degree of disagreement there is between coders.\n",
    "\n",
    "Qualitative coding thus refers to the process of extracting categorized information from qualitative data sources. Note that this \"coding\" does not have anything to do with \"programming\". Coding here means \"encoding\" the qualitative information into headings or categories that can later be counted and related to each other, for example through networks. Software such as NVivo or Atlas.ti can help you to archive and manage your data and also assist in manual qualitative coding. \n",
    "\n",
    "Instead of or in addition to manual coding, qualitative data can, if this is appropriate, be automatically processed and parsed into a meaningful format using a variety of tools. For example, for qualitative text data, methods such as Regular Expressions or Natural Language Processing (NLP) can be used to \"mine\" qualitative sources, without doing qualitative coding. A relevant example is a network of document similarity. Imagine one starts with a corpus of legally relevant documents, for example a corpus of stakeholder contributions to a regulation. NLP software can produce a similarity score for every pair of such documents. The documents can then be put into a network, with links for documents with high similarity. This can be used to see which were the central or paradigmatic contributions to the negotiation process.\n",
    "\n",
    "It should, however, not be concluded that this type of data mining is free of value judgments. For example, one may need to decide on the similarity threshold. At what degree of similarity is a line drawn between two documents? 0.7? 0.8? 0.9? Different thresholds will lead to different results (naturally one can also do away with the thresholds and just get the similarity as a weigth, but that would also be a research decision needing justification)."
   ]
  },
  {
   "cell_type": "markdown",
   "id": "6dd098bd-445b-4f49-ab6c-d1d5f5868369",
   "metadata": {},
   "source": [
    "## 5.3 Data Representation\n",
    "\n",
    "Let us assume that one way or another, we have settled on a strategy to obtain the data we need. But this data needs to be recorded in a way that Network Software can read it. There are three main options for doing this. We will demonstrate how to represent graph data as an adjacency matrix, in tabular/CSV format, and in JSON format. SEPERATE SECTIONS ON CSV AND JASON NEED TO BE ADDED>\n",
    "\n",
    "Since networks capture relations, what qualitative coding practices must do is classify relations between subjects of study. Looking back at Chapter 1, we can see that this can be between subjects of the same type, or between subjects of different types, in the case of bipartite networks. For an example of the first scenario, consider research trying to identify which big corporations work together in a particular country. An example of the second scenario concerns research trying to establish which states have strong ties to a particular international organization, such as the WTO or the UN.\n",
    "\n",
    "Such networks are collections of nodes that are connected by edges. The most basic way to conceptualize such a network is using a matrix encompassing the relational ties between the nodes. As shown in previous chapters, such an adjacency matrix is an array or list of data that numerically organizes / indexes the data in rows and columns to capture the relationships. The simplest and most common matrix is the binary matrix that numerically indicates whether a relationship or connection exists or not between the nodes. If a tie is present, a one is entered in a cell; if there is no tie, a zero is entered. An adjacency matrix is a $ n \\times n $ matrix that relates the entities in the rows, to the entities in the columns. Because every entity is related to every other entity, the matrix will always be a square one, it will always have the same number of rows and columns. This is in fact implied in the notation $ n \\times n $; the same letter is used, so if n = 5, the matrix is 5 x 5, if n = 10 it is 10 x 10, etc., as opposed to an $ m \\times n $ matrix where it can be the case that m = 5, and n = 4, or something similar. \n",
    "\n",
    "Every \"1\" in the adjacency matrix will show the presence of a particular relationship, while every \"0\" will note its absence. A $ 4 \\times 4 $ adjacency matrix might look like this.\n",
    "\n",
    "$$ M = \\pmatrix{\n",
    "0 & 1 & 1 & 0 \\\\ \n",
    "1 & 0 & 1 & 1 \\\\ \n",
    "1 & 1 & 0 & 1 \\\\ \n",
    "0 & 1 & 1 & 0 \\\\ \n",
    "} $$\n",
    "\n",
    "\n",
    "We can use the adjacency matrix to enter and represent the data regarding the actors involved in the criminal network discussed before. Naturally the easiest way to get data into this structure is through a spreadsheet program. For instance, from our information it becomes clear that 14 individuals show up in the data that we can relate to each other. The relationships can be put in a data frame or matric as shown below. A DataFrame is a generic name for a data strucutre that has columns for variables and rows for observations, allowing, optionally, a first row for variable names. Any spreadsheet program can be used to make a DataFrame. \n",
    "\n",
    "![image](images/ch6/spreadsheet_df.png)"
   ]
  },
  {
   "cell_type": "markdown",
   "id": "dc09e6b3-6872-4e0b-a808-042190f519fc",
   "metadata": {},
   "source": [
    "Attribute data can be included in the matrix data structure by adding a column related to each attribute variable and the row numbers must coincide with the numbering of the nodes in the relational matrix. This form of data representation means that all the relevant coded thematic/categorical data needs to be ‘translated’ into network terms, to numerical data by assigning numbers.\n",
    "\n",
    "<img src=\"images/ch6/attributedata.png\" alt=\"drawing\" width=\"200\"/>"
   ]
  },
  {
   "cell_type": "markdown",
   "id": "9dcdbc39-5a2b-42c0-9099-7e4246832d3d",
   "metadata": {},
   "source": [
    "In the network visualization you will see the relationships that are logged in the actor/actor matrix combined with the attribute data on gender highlighted in different colours.\n",
    "\n",
    "<img src=\"images/ch6/networkviz.png\" alt=\"drawing\" width=\"750\"/>"
   ]
  },
  {
   "cell_type": "markdown",
   "id": "0312646b-dbeb-4653-8044-91dd3b349fe0",
   "metadata": {},
   "source": [
    "Although the abovementioned matrix is often the starting point for network analysis, an alternative representation can be a so-called edge list, which includes a set of rows in which each row represents a specific tie in the overall network. An edge list consists of sources and targets, which, in a directed graph, coincide with the source nodes and target nodes. In an undirected network with four nodes (A,B,C,D) where Node A is connected to Node B and Node D, where Node B is connected to Node A and Node C, and Node C is connected to Node B, an edge list commonly takes the following shape:\n",
    "\n",
    "A,B\n",
    "\n",
    "A,D\n",
    "\n",
    "B,A\n",
    "\n",
    "B,C\n",
    "\n",
    "C,B\n",
    "\n",
    "(Note that depending on the question one is interested in answering and whether weights should be given to edges, the edges B,A and C,B may be omitted, as they are already in the edges list (i.e. A,B and B,C), at least in undirected networks).\n",
    "\n",
    "If the network is directed, with Node A referring to Node B, Node A referring to Node D, and Node B referring to Node C, the edges list would look like:\n",
    "\n",
    "A,B\n",
    "\n",
    "A,D\n",
    "\n",
    "B,C\n",
    "\n",
    "It is commonly possible in network analysis software to have or assign attributes in relation to the nodes. These attributes can be entered and loaded to the software as a node list, where each node ID (which must be similar to the ID used in the edges list) is entered as a separate row and where each attribute gets a new column."
   ]
  },
  {
   "cell_type": "markdown",
   "id": "ba773af3-4104-4931-b068-a828c52f2980",
   "metadata": {
    "id": "_CGJBHdDTCB_"
   },
   "source": [
    "\n",
    "**### where to enter this type of info?** \n",
    "It should be noted that this is not the most practical way to record one's data.\n",
    "\n",
    "Large matrices are hard to work with for humans. Filling in a 20 by 20 matrix by hand is possible but it will be very easy to make mistakes with a 100 by 100 matrix, and at some point it will stop being practical. Just think of much scrolling in Excell will be needed.\n",
    "\n",
    "Also, these matrices will not have a place to store \"metadata\", additional information. For example, we could have a lot of information on the Pucci family, such as the name of the head of the family, but we can't fit that into a matrix. For a researcher keeping notes of his qualitaitve work, it will be a hassle to one adjacency matrix for the relations, and another document for the extra data. It would be better to put it all in one place. Moving back and forth between documents naturally increases the risk of human error.\n",
    "\n",
    "Adjacency matrices remain important because many mathematical manipulations are possible on them, which are not possible in other data formats. However, network analysis software can always convert into a this form, if needed."
   ]
  }
 ],
 "metadata": {
  "kernelspec": {
   "display_name": "Python 3 (ipykernel)",
   "language": "python",
   "name": "python3"
  },
  "language_info": {
   "codemirror_mode": {
    "name": "ipython",
    "version": 3
   },
   "file_extension": ".py",
   "mimetype": "text/x-python",
   "name": "python",
   "nbconvert_exporter": "python",
   "pygments_lexer": "ipython3",
   "version": "3.11.4"
  }
 },
 "nbformat": 4,
 "nbformat_minor": 5
}
