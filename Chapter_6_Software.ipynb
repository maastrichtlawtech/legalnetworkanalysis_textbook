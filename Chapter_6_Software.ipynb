{
 "cells": [
  {
   "cell_type": "markdown",
   "id": "3b6813e3-e24b-4702-a535-2352bba80cff",
   "metadata": {
    "id": "4qWQztXQAm4K"
   },
   "source": [
    "# 6 Software\n",
    "\n",
    "By now, you are almost ready to start conducting legal network analysis yourself. But what software to use? There are essentially three options: \n",
    "1. Network analysis software designed for a specific purpose.\n",
    "2. General-purpose software.\n",
    "3. Packages in programming software (e.g. Python, R)."
   ]
  },
  {
   "cell_type": "markdown",
   "id": "80bdec27-d15e-40e7-9143-61702f966c00",
   "metadata": {},
   "source": [
    "## 6.1 Specific Purpose Network Analysis Software\n",
    "\n",
    "Software has been developed for specific use cases. The advantage of such software is that it is optimized for that use case and that it requires a low level of technical knowledge in order to use the software. The disadvantage is that the platform is designed for a specific purpose, which restricts the freedom in terms of adding or removing functionality.\n",
    "\n",
    "An example of this type of software concerns Case Law Explorer. This platform has been developed for those who wish to conduct network analysis on case law. It has automated the process from searching to the calculation of the network statistics and the visualization of the network. A link to the software and to the user guide of the software can be found [here](https://www.caselawexplorer.tech/).\n",
    "\n",
    "![image](images/ch5/caselawexplorer.png)"
   ]
  },
  {
   "cell_type": "markdown",
   "id": "c44d9c0d-5f46-4a10-b69c-b38476594553",
   "metadata": {
    "id": "vbYKamjnF43q"
   },
   "source": [
    "## 6.2 General Purpose Network Analysis Software\n",
    "\n",
    "General purpose software allows applying network analysis to different types of data. The advantage of this type of software is that it can be applied in a number of contexts and for a variety of purposes, whereas the disadvantage is that the functionalities are generic and not tailored to a specific use case."
   ]
  },
  {
   "cell_type": "markdown",
   "id": "66fcf709-8484-4dbb-a3fb-da931e2b5704",
   "metadata": {
    "id": "-QrFE3UKCrHC"
   },
   "source": [
    "### A) Gephi\n",
    "\n",
    "For your convenience, we provide you with a short, hands-on manual for installing Gephi and conducting network analysis with Gephi.\n",
    "\n",
    "*Preliminaries*. \n",
    "You need to [download](https://gephi.org/users/download/) and install Gephi on your laptop. In case of a Java error when opening Gephi, [update Java](https://www.java.com/en/download/). [Check this video](https://www.youtube.com/watch?v=iWQWjx6Ot1E) (Windows) if Gephi still returns a Java error.\n",
    "\n",
    "*Navigating Gephi*. \n",
    "Gephi has three main modes: Data Laboratory, Overview and Preview. \n",
    "\n",
    "- Data Laboratory. This is where you can import data and view network data in table format, split into Nodes and Edges. There is a limit on the number of columns this tab will display. Click the light bulb icon on the top right part of the window to choose which columns you want to see.\n",
    "\n",
    "![image](images/ch5/gephi1.png)\n",
    "\n",
    "![image](images/ch5/gephi2.png)\n",
    "\n"
   ]
  },
  {
   "cell_type": "markdown",
   "id": "8f97a57b-5376-4af3-ba22-724975de854e",
   "metadata": {},
   "source": [
    "\n",
    "\n",
    "\n",
    "- Overview. This is where the magic happens! The Overview tab has four main windows. \n",
    "  - *Appearance* (upper left) is used to control node and edge presentation properties. \n",
    "  - *Layout* (lower left) is behind the network layout. \n",
    "  - *Graph* (centre) shows the sketch of the graph.\n",
    "  - *Statistics & Filters* (right) is for network analysis and filtering. In the *Statistics* panel, you can calculate various network statistics.\n",
    "The *Filters* panel supports complex methods to temporarily highlight or hide a part of the network.\n",
    "\n",
    "![image](images/ch5/gephi3.png)"
   ]
  },
  {
   "cell_type": "markdown",
   "id": "e1150caa-82f3-41a9-a97a-11c6696e2cb7",
   "metadata": {},
   "source": [
    "\n",
    "\n",
    "- Preview. This is where you prepare your final image for export. To see it displayed in the screen click on *Refresh* at the bottom of the panel.\n",
    "\n",
    "![images](images/ch5/gephi4.png)\n",
    "\n"
   ]
  },
  {
   "cell_type": "markdown",
   "id": "c9c0e709-96c1-4d61-8cdd-2727713a851d",
   "metadata": {},
   "source": [
    "\n",
    "\n",
    "*Importing the Data*. Given that you have an edges list (in csv) and possibly a nodes list (in csv), you can follow the following steps in order to import the data:\n",
    "1. Start Gephi \t\n",
    "2. From the dialog that appears after\tstartup, or from the file menu, start a New Project\t\n",
    "3. Go to Data Laboratory \n",
    "4. Choose Import Spreadsheet\n",
    "5. Select your csv file with the nodes \n",
    "6. Set the right separator (comma) and set as ‘nodes table’\n",
    "7. Click Next, then Finish\n",
    "8. Choose to ‘append to existing workspace’ and click Ok. You should see a neat nodes table now\n",
    "9. Click Import Spreadsheet again\n",
    "10. Repeat the\tprocess for the file with edges, but this time\tchoose\t‘edges\ttable’ as the table\ttype\n",
    "11. Click Next, then Finish\n",
    "12. Choose to ‘append to existing workspace’ and click Ok\n",
    "\n",
    "*Investigating the network.* The next step is to investigate the network. To get started:\n",
    "1. Go to the Overview tab. You should now see your network.\n",
    "2. Run the ForceAtlas 2 layout algorithm in Layout. Note that every layout algorithm can be tweaked by changing parameters. You can play around with the ‘Scaling’ and ‘Prevent overlap’ parameters.\n",
    "3.  Calculate the centralities by running ‘Average degree’ in the Statistics tab. Gephi will show you the degree distributions, but will also add the results to the dataset in Data Laboratory. You may also run ‘Network Diameter’,\twhich\tgives\tyou various centrality measures based on network diameter, including betweenness centrality. \n",
    "4. Change the node size based on the centrality measure of our preference,We visualize the nodes with a higher in-degree by increasing their size. Click on ‘Nodes’ in the Appearance tab, then click the ![images](images/ch5/sizebutton.png) (size) button and choose ‘Ranking’. Select ‘In-Degree’ from the drop-down attribute menu and click Apply. \n",
    "5. Filter the network. You can, for instance, visualize the network of the 50 most central cases (based on in-degree). Go to Data Laboratory and determine the in-degree of the 50th most central case. Then go back to Overview and open the Filters window. Expand the Attributes filter category and select ‘Range’, then double click on ‘In-Degree’. Finally, adjust the indegree range and click Filter. Click Stop to proceed with the next part. \n",
    "6. Calculate the community structure. Run ‘Modularity’ in the Statistics tab.\n",
    "7. Adjust the appearance. Recolor the communities by clicking on ‘Nodes’ in the Appearance tab, then click the ![image.png](images/ch5/colorbutton.png) (color) button and choose ‘Partition’. Select ‘Modularity Class’ from the drop-down attribute menu and click Apply. \n",
    "8. Filter for certain communities. Choose a community and layout again. Open the Filters window. Expand the Partition filter category and double click on ‘Modularity Class’. Finally, select a community to display and click Filter. \n",
    "\n",
    "This is only a very basic introduction to Gephi. More information and many videos can be found online (eg [here](https://youtu.be/HJ4Hcq3YX4k)), and we gladly refer to those instructions and materials.\n",
    "\n",
    "(Note: credits to Constanta Rosca, who co-drafted these instructions for a previously held workshop.)"
   ]
  },
  {
   "cell_type": "markdown",
   "id": "82579f90-c341-42e4-8ee5-901561ff649f",
   "metadata": {
    "id": "Mqv8Wh9zRiK5"
   },
   "source": [
    "### B) Other Software Packages\n",
    "\n",
    "Other software packages that may be used for conducting network analysis include:\n",
    "\n",
    "*   Pajek\n",
    "*   UCINET\n",
    "*   Cytoscape\n",
    "*   SocNetV"
   ]
  },
  {
   "cell_type": "markdown",
   "id": "7249a2ab-864a-45f1-97c7-b77dde19ce85",
   "metadata": {},
   "source": [
    "## 6.3 Packages in programming software (e.g., Python, R)\n",
    "\n",
    "Another option is to use packages such as *NetworkX* or *iGraph* that can be installed and imported in programming languages such as *Python* and *R*. These packages provide a user substantial flexibility as to what the manipulation and calculation of the data. Using the packages does require the knowledge of programming language (or the willingness to learn how to code), and it can be labor-intensive to have to write out all the steps in lines of code."
   ]
  },
  {
   "cell_type": "markdown",
   "id": "3ff5ac0a",
   "metadata": {},
   "source": []
  }
 ],
 "metadata": {
  "kernelspec": {
   "display_name": "Python 3 (ipykernel)",
   "language": "python",
   "name": "python3"
  },
  "language_info": {
   "codemirror_mode": {
    "name": "ipython",
    "version": 3
   },
   "file_extension": ".py",
   "mimetype": "text/x-python",
   "name": "python",
   "nbconvert_exporter": "python",
   "pygments_lexer": "ipython3",
   "version": "3.11.4"
  }
 },
 "nbformat": 4,
 "nbformat_minor": 5
}
