{
 "cells": [
  {
   "cell_type": "markdown",
   "id": "0ba03ce5-f01f-4377-b979-4bd384871eeb",
   "metadata": {},
   "source": [
    "## Scratch file for converting every network to JSON"
   ]
  },
  {
   "cell_type": "code",
   "execution_count": 3,
   "id": "2ff1eb35-bc46-4a91-8f9b-27067cdf8fed",
   "metadata": {
    "id": "xloLlGPwsqrf",
    "tags": []
   },
   "outputs": [],
   "source": [
    "import networkx as nx\n",
    "from networkx.algorithms import bipartite\n",
    "from sklearn.cluster import KMeans\n",
    "import pandas as pd\n",
    "import seaborn as sns\n",
    "import numpy as np\n",
    "import matplotlib.pyplot as plt\n",
    "import json\n",
    "\n",
    "from IPython import display"
   ]
  },
  {
   "cell_type": "code",
   "execution_count": 4,
   "id": "a2cb2406-2baa-4289-ab85-ab7b369717e8",
   "metadata": {},
   "outputs": [
    {
     "data": {
      "text/html": [
       "<div>\n",
       "<style scoped>\n",
       "    .dataframe tbody tr th:only-of-type {\n",
       "        vertical-align: middle;\n",
       "    }\n",
       "\n",
       "    .dataframe tbody tr th {\n",
       "        vertical-align: top;\n",
       "    }\n",
       "\n",
       "    .dataframe thead th {\n",
       "        text-align: right;\n",
       "    }\n",
       "</style>\n",
       "<table border=\"1\" class=\"dataframe\">\n",
       "  <thead>\n",
       "    <tr style=\"text-align: right;\">\n",
       "      <th></th>\n",
       "      <th>State</th>\n",
       "      <th>Affiliation</th>\n",
       "      <th>treaty</th>\n",
       "    </tr>\n",
       "  </thead>\n",
       "  <tbody>\n",
       "    <tr>\n",
       "      <th>0</th>\n",
       "      <td>Argentina</td>\n",
       "      <td>Treaty1</td>\n",
       "      <td>Treaty1</td>\n",
       "    </tr>\n",
       "    <tr>\n",
       "      <th>1</th>\n",
       "      <td>Belgium</td>\n",
       "      <td>NaN</td>\n",
       "      <td>Treaty2</td>\n",
       "    </tr>\n",
       "    <tr>\n",
       "      <th>2</th>\n",
       "      <td>China</td>\n",
       "      <td>Treaty1</td>\n",
       "      <td>Treaty3</td>\n",
       "    </tr>\n",
       "    <tr>\n",
       "      <th>3</th>\n",
       "      <td>Denmark</td>\n",
       "      <td>NaN</td>\n",
       "      <td>NaN</td>\n",
       "    </tr>\n",
       "    <tr>\n",
       "      <th>4</th>\n",
       "      <td>Ecuador</td>\n",
       "      <td>NaN</td>\n",
       "      <td>NaN</td>\n",
       "    </tr>\n",
       "    <tr>\n",
       "      <th>5</th>\n",
       "      <td>Finland</td>\n",
       "      <td>Treaty1</td>\n",
       "      <td>NaN</td>\n",
       "    </tr>\n",
       "    <tr>\n",
       "      <th>6</th>\n",
       "      <td>Guyana</td>\n",
       "      <td>NaN</td>\n",
       "      <td>NaN</td>\n",
       "    </tr>\n",
       "    <tr>\n",
       "      <th>7</th>\n",
       "      <td>Netherlands</td>\n",
       "      <td>NaN</td>\n",
       "      <td>NaN</td>\n",
       "    </tr>\n",
       "    <tr>\n",
       "      <th>8</th>\n",
       "      <td>Paraguay</td>\n",
       "      <td>Treaty1</td>\n",
       "      <td>NaN</td>\n",
       "    </tr>\n",
       "    <tr>\n",
       "      <th>9</th>\n",
       "      <td>South Africa</td>\n",
       "      <td>NaN</td>\n",
       "      <td>NaN</td>\n",
       "    </tr>\n",
       "    <tr>\n",
       "      <th>10</th>\n",
       "      <td>USA</td>\n",
       "      <td>NaN</td>\n",
       "      <td>NaN</td>\n",
       "    </tr>\n",
       "    <tr>\n",
       "      <th>11</th>\n",
       "      <td>Zimbabwe</td>\n",
       "      <td>Treaty1</td>\n",
       "      <td>NaN</td>\n",
       "    </tr>\n",
       "    <tr>\n",
       "      <th>12</th>\n",
       "      <td>Argentina</td>\n",
       "      <td>NaN</td>\n",
       "      <td>NaN</td>\n",
       "    </tr>\n",
       "    <tr>\n",
       "      <th>13</th>\n",
       "      <td>Belgium</td>\n",
       "      <td>Treaty2</td>\n",
       "      <td>NaN</td>\n",
       "    </tr>\n",
       "    <tr>\n",
       "      <th>14</th>\n",
       "      <td>China</td>\n",
       "      <td>NaN</td>\n",
       "      <td>NaN</td>\n",
       "    </tr>\n",
       "    <tr>\n",
       "      <th>15</th>\n",
       "      <td>Denmark</td>\n",
       "      <td>Treaty2</td>\n",
       "      <td>NaN</td>\n",
       "    </tr>\n",
       "    <tr>\n",
       "      <th>16</th>\n",
       "      <td>Ecuador</td>\n",
       "      <td>NaN</td>\n",
       "      <td>NaN</td>\n",
       "    </tr>\n",
       "    <tr>\n",
       "      <th>17</th>\n",
       "      <td>Finland</td>\n",
       "      <td>NaN</td>\n",
       "      <td>NaN</td>\n",
       "    </tr>\n",
       "    <tr>\n",
       "      <th>18</th>\n",
       "      <td>Guyana</td>\n",
       "      <td>NaN</td>\n",
       "      <td>NaN</td>\n",
       "    </tr>\n",
       "    <tr>\n",
       "      <th>19</th>\n",
       "      <td>Netherlands</td>\n",
       "      <td>Treaty2</td>\n",
       "      <td>NaN</td>\n",
       "    </tr>\n",
       "    <tr>\n",
       "      <th>20</th>\n",
       "      <td>Paraguay</td>\n",
       "      <td>NaN</td>\n",
       "      <td>NaN</td>\n",
       "    </tr>\n",
       "    <tr>\n",
       "      <th>21</th>\n",
       "      <td>South Africa</td>\n",
       "      <td>NaN</td>\n",
       "      <td>NaN</td>\n",
       "    </tr>\n",
       "    <tr>\n",
       "      <th>22</th>\n",
       "      <td>USA</td>\n",
       "      <td>Treaty2</td>\n",
       "      <td>NaN</td>\n",
       "    </tr>\n",
       "    <tr>\n",
       "      <th>23</th>\n",
       "      <td>Zimbabwe</td>\n",
       "      <td>Treaty2</td>\n",
       "      <td>NaN</td>\n",
       "    </tr>\n",
       "    <tr>\n",
       "      <th>24</th>\n",
       "      <td>Argentina</td>\n",
       "      <td>NaN</td>\n",
       "      <td>NaN</td>\n",
       "    </tr>\n",
       "    <tr>\n",
       "      <th>25</th>\n",
       "      <td>Belgium</td>\n",
       "      <td>Treaty3</td>\n",
       "      <td>NaN</td>\n",
       "    </tr>\n",
       "    <tr>\n",
       "      <th>26</th>\n",
       "      <td>China</td>\n",
       "      <td>NaN</td>\n",
       "      <td>NaN</td>\n",
       "    </tr>\n",
       "    <tr>\n",
       "      <th>27</th>\n",
       "      <td>Denmark</td>\n",
       "      <td>NaN</td>\n",
       "      <td>NaN</td>\n",
       "    </tr>\n",
       "    <tr>\n",
       "      <th>28</th>\n",
       "      <td>Ecuador</td>\n",
       "      <td>Treaty3</td>\n",
       "      <td>NaN</td>\n",
       "    </tr>\n",
       "    <tr>\n",
       "      <th>29</th>\n",
       "      <td>Finland</td>\n",
       "      <td>NaN</td>\n",
       "      <td>NaN</td>\n",
       "    </tr>\n",
       "    <tr>\n",
       "      <th>30</th>\n",
       "      <td>Guyana</td>\n",
       "      <td>Treaty3</td>\n",
       "      <td>NaN</td>\n",
       "    </tr>\n",
       "    <tr>\n",
       "      <th>31</th>\n",
       "      <td>Netherlands</td>\n",
       "      <td>NaN</td>\n",
       "      <td>NaN</td>\n",
       "    </tr>\n",
       "    <tr>\n",
       "      <th>32</th>\n",
       "      <td>Paraguay</td>\n",
       "      <td>Treaty3</td>\n",
       "      <td>NaN</td>\n",
       "    </tr>\n",
       "    <tr>\n",
       "      <th>33</th>\n",
       "      <td>South Africa</td>\n",
       "      <td>Treaty3</td>\n",
       "      <td>NaN</td>\n",
       "    </tr>\n",
       "    <tr>\n",
       "      <th>34</th>\n",
       "      <td>USA</td>\n",
       "      <td>NaN</td>\n",
       "      <td>NaN</td>\n",
       "    </tr>\n",
       "    <tr>\n",
       "      <th>35</th>\n",
       "      <td>Zimbabwe</td>\n",
       "      <td>Treaty3</td>\n",
       "      <td>NaN</td>\n",
       "    </tr>\n",
       "  </tbody>\n",
       "</table>\n",
       "</div>"
      ],
      "text/plain": [
       "           State Affiliation   treaty\n",
       "0      Argentina     Treaty1  Treaty1\n",
       "1        Belgium         NaN  Treaty2\n",
       "2          China     Treaty1  Treaty3\n",
       "3        Denmark         NaN      NaN\n",
       "4        Ecuador         NaN      NaN\n",
       "5        Finland     Treaty1      NaN\n",
       "6         Guyana         NaN      NaN\n",
       "7    Netherlands         NaN      NaN\n",
       "8       Paraguay     Treaty1      NaN\n",
       "9   South Africa         NaN      NaN\n",
       "10           USA         NaN      NaN\n",
       "11      Zimbabwe     Treaty1      NaN\n",
       "12     Argentina         NaN      NaN\n",
       "13       Belgium     Treaty2      NaN\n",
       "14         China         NaN      NaN\n",
       "15       Denmark     Treaty2      NaN\n",
       "16       Ecuador         NaN      NaN\n",
       "17       Finland         NaN      NaN\n",
       "18        Guyana         NaN      NaN\n",
       "19   Netherlands     Treaty2      NaN\n",
       "20      Paraguay         NaN      NaN\n",
       "21  South Africa         NaN      NaN\n",
       "22           USA     Treaty2      NaN\n",
       "23      Zimbabwe     Treaty2      NaN\n",
       "24     Argentina         NaN      NaN\n",
       "25       Belgium     Treaty3      NaN\n",
       "26         China         NaN      NaN\n",
       "27       Denmark         NaN      NaN\n",
       "28       Ecuador     Treaty3      NaN\n",
       "29       Finland         NaN      NaN\n",
       "30        Guyana     Treaty3      NaN\n",
       "31   Netherlands         NaN      NaN\n",
       "32      Paraguay     Treaty3      NaN\n",
       "33  South Africa     Treaty3      NaN\n",
       "34           USA         NaN      NaN\n",
       "35      Zimbabwe     Treaty3      NaN"
      ]
     },
     "execution_count": 4,
     "metadata": {},
     "output_type": "execute_result"
    }
   ],
   "source": [
    "df_treaties = pd.read_csv('data/mytreaties.csv')\n",
    "df_treaties\n"
   ]
  },
  {
   "cell_type": "code",
   "execution_count": 5,
   "id": "d4387760-a2e8-408c-9950-0bc8fc4498d5",
   "metadata": {},
   "outputs": [],
   "source": [
    "g_treaties = nx.Graph()\n"
   ]
  },
  {
   "cell_type": "code",
   "execution_count": 7,
   "id": "628f8759-d119-45e6-b4ae-f62c3a475bc3",
   "metadata": {},
   "outputs": [],
   "source": [
    "for i in df_treaties.State:\n",
    "    g_treaties.add_node(i, bipartite=0)"
   ]
  },
  {
   "cell_type": "code",
   "execution_count": 11,
   "id": "42499dd3-3db6-4f99-bf19-81a38433dbe6",
   "metadata": {},
   "outputs": [],
   "source": [
    "for i in df_treaties.treaty:\n",
    "    if pd.isna(i) == False:\n",
    "        g_treaties.add_node(i, bipartite=1)\n",
    "    \n",
    "#    g_treaties.add_node(i, bipartite=0)"
   ]
  },
  {
   "cell_type": "code",
   "execution_count": 12,
   "id": "fdd54212-8e27-4ca5-84ee-9ed1a90c89f2",
   "metadata": {},
   "outputs": [],
   "source": [
    "for i, j in zip(df_treaties.State, df_treaties.Affiliation):\n",
    "    if pd.isna(j) == False:\n",
    "        g_treaties.add_edge(i,j)"
   ]
  },
  {
   "cell_type": "code",
   "execution_count": 13,
   "id": "29408d58-7d03-44ab-b59e-2b149bad548e",
   "metadata": {},
   "outputs": [
    {
     "data": {
      "image/png": "[encoded data removed]",
      "text/plain": [
       "<Figure size 432x288 with 1 Axes>"
      ]
     },
     "metadata": {},
     "output_type": "display_data"
    }
   ],
   "source": [
    "nx.draw(g_treaties)"
   ]
  },
  {
   "cell_type": "code",
   "execution_count": 15,
   "id": "8142089b-2f06-4997-85a5-df393222d79e",
   "metadata": {},
   "outputs": [],
   "source": [
    "data = nx.node_link_data(g_treaties)"
   ]
  },
  {
   "cell_type": "code",
   "execution_count": null,
   "id": "991d557f-1535-4418-ab24-03f1f3cb9c6e",
   "metadata": {},
   "outputs": [],
   "source": []
  },
  {
   "cell_type": "code",
   "execution_count": 17,
   "id": "2db69f35-96c3-43bd-aca7-f9b7b565b48f",
   "metadata": {},
   "outputs": [],
   "source": [
    "f = open(\"data/g_treaties2.json\", \"w\")\n",
    "json.dump(data, f)\n",
    "f.close()"
   ]
  },
  {
   "cell_type": "code",
   "execution_count": 18,
   "id": "86e22c80-78cd-483b-9fd2-bbe6e056171e",
   "metadata": {},
   "outputs": [],
   "source": [
    "df_consprot = pd.read_csv('data/PROT_edges.csv', sep = \",\")\n",
    "g_consprot = nx.from_pandas_edgelist(df_consprot, \"Source\", \"Target\", create_using=nx.DiGraph) #setting up the directed graph\n"
   ]
  },
  {
   "cell_type": "code",
   "execution_count": 21,
   "id": "bda76593-6fe8-42b2-9fc6-82ad9e0afe39",
   "metadata": {},
   "outputs": [],
   "source": [
    "data2 = nx.node_link_data(g_consprot)"
   ]
  },
  {
   "cell_type": "code",
   "execution_count": 22,
   "id": "ca2e747f-d581-455b-bb9d-5cb299eb4f0e",
   "metadata": {},
   "outputs": [],
   "source": [
    "f = open(\"data/g_consprot2.json\", \"w\")\n",
    "json.dump(data2, f)\n",
    "f.close()"
   ]
  },
  {
   "cell_type": "code",
   "execution_count": 24,
   "id": "8ef2d230-0219-4f70-82ff-f51f4bcee4fb",
   "metadata": {},
   "outputs": [
    {
     "data": {
      "text/plain": [
       "[None,\n",
       " None,\n",
       " None,\n",
       " None,\n",
       " None,\n",
       " None,\n",
       " None,\n",
       " None,\n",
       " None,\n",
       " None,\n",
       " None,\n",
       " None,\n",
       " None,\n",
       " None,\n",
       " None,\n",
       " None,\n",
       " None,\n",
       " None,\n",
       " None,\n",
       " None,\n",
       " None,\n",
       " None,\n",
       " None,\n",
       " None,\n",
       " None,\n",
       " None,\n",
       " None,\n",
       " None,\n",
       " None,\n",
       " None,\n",
       " None,\n",
       " None,\n",
       " None,\n",
       " None,\n",
       " None,\n",
       " None]"
      ]
     },
     "execution_count": 24,
     "metadata": {},
     "output_type": "execute_result"
    }
   ],
   "source": [
    "df_docs = pd.read_csv('data/docsimilarity.csv', index_col=\"Unnamed: 0\")\n",
    "\n",
    "g_docs = nx.Graph()\n",
    "[g_docs.add_node(node) for node in df_docs.source]\n",
    "[g_docs.add_edge(node,edge, weight = weight) for node, edge, weight in zip(df_docs.source, df_docs.target, df_docs.weight)]\n"
   ]
  },
  {
   "cell_type": "code",
   "execution_count": 25,
   "id": "22b30097-3175-4e64-95a3-fd8a3ae507a7",
   "metadata": {},
   "outputs": [],
   "source": [
    "data3 = nx.node_link_data(g_docs)"
   ]
  },
  {
   "cell_type": "code",
   "execution_count": 26,
   "id": "548a622c-4b36-4c25-916c-4ad95f19429d",
   "metadata": {},
   "outputs": [
    {
     "data": {
      "text/plain": [
       "{'directed': False,\n",
       " 'multigraph': False,\n",
       " 'graph': {},\n",
       " 'nodes': [{'id': 0},\n",
       "  {'id': 1},\n",
       "  {'id': 2},\n",
       "  {'id': 3},\n",
       "  {'id': 4},\n",
       "  {'id': 5},\n",
       "  {'id': 6},\n",
       "  {'id': 7},\n",
       "  {'id': 8}],\n",
       " 'links': [{'weight': 0.3057850860342909, 'source': 0, 'target': 1},\n",
       "  {'weight': 0.3515643806261561, 'source': 0, 'target': 2},\n",
       "  {'weight': 0.4011441744419861, 'source': 0, 'target': 3},\n",
       "  {'weight': 0.8588650335933432, 'source': 0, 'target': 4},\n",
       "  {'weight': 0.5663867925847853, 'source': 0, 'target': 5},\n",
       "  {'weight': 0.3036944274298017, 'source': 0, 'target': 6},\n",
       "  {'weight': 0.1427956434168483, 'source': 0, 'target': 7},\n",
       "  {'weight': 0.2663586423650602, 'source': 0, 'target': 8},\n",
       "  {'weight': 0.1887291756697731, 'source': 1, 'target': 2},\n",
       "  {'weight': 0.2301873550390033, 'source': 1, 'target': 3},\n",
       "  {'weight': 0.800124882934437, 'source': 1, 'target': 4},\n",
       "  {'weight': 0.4122354734424759, 'source': 1, 'target': 5},\n",
       "  {'weight': 0.5097321851655097, 'source': 1, 'target': 6},\n",
       "  {'weight': 0.3027866619120244, 'source': 1, 'target': 7},\n",
       "  {'weight': 0.1868838597034725, 'source': 1, 'target': 8},\n",
       "  {'weight': 0.2280158058874547, 'source': 2, 'target': 3},\n",
       "  {'weight': 0.7995610591992457, 'source': 2, 'target': 4},\n",
       "  {'weight': 0.366590703499365, 'source': 2, 'target': 5},\n",
       "  {'weight': 0.5195230803085847, 'source': 2, 'target': 6},\n",
       "  {'weight': 0.317271203011655, 'source': 2, 'target': 7},\n",
       "  {'weight': 0.1896235506799158, 'source': 2, 'target': 8},\n",
       "  {'weight': 0.7678964587257362, 'source': 3, 'target': 4},\n",
       "  {'weight': 0.3480240462634174, 'source': 3, 'target': 5},\n",
       "  {'weight': 0.5762447937744228, 'source': 3, 'target': 6},\n",
       "  {'weight': 0.3808681395940203, 'source': 3, 'target': 7},\n",
       "  {'weight': 0.2481169176073587, 'source': 3, 'target': 8},\n",
       "  {'weight': 0.6878902741436519, 'source': 4, 'target': 5},\n",
       "  {'weight': 0.9008941138337112, 'source': 4, 'target': 6},\n",
       "  {'weight': 0.8540864919561113, 'source': 4, 'target': 7},\n",
       "  {'weight': 0.8214267919513534, 'source': 4, 'target': 8},\n",
       "  {'weight': 0.6824646015295808, 'source': 5, 'target': 6},\n",
       "  {'weight': 0.5453013285723745, 'source': 5, 'target': 7},\n",
       "  {'weight': 0.4356888455303136, 'source': 5, 'target': 8},\n",
       "  {'weight': 0.3289244386028924, 'source': 6, 'target': 7},\n",
       "  {'weight': 0.4649224309916062, 'source': 6, 'target': 8},\n",
       "  {'weight': 0.2451832039590595, 'source': 7, 'target': 8}]}"
      ]
     },
     "execution_count": 26,
     "metadata": {},
     "output_type": "execute_result"
    }
   ],
   "source": [
    "data3"
   ]
  },
  {
   "cell_type": "code",
   "execution_count": 27,
   "id": "2e5f9b7c-d045-4456-a9f5-05d5d3f13783",
   "metadata": {},
   "outputs": [],
   "source": [
    "f = open(\"data/g_docs.json\", \"w\")\n",
    "json.dump(data3, f)\n",
    "f.close()"
   ]
  },
  {
   "cell_type": "code",
   "execution_count": 28,
   "id": "c8e0d028-06a3-4a99-8261-d4a33ea45a65",
   "metadata": {},
   "outputs": [
    {
     "data": {
      "text/plain": [
       "[None,\n",
       " None,\n",
       " None,\n",
       " None,\n",
       " None,\n",
       " None,\n",
       " None,\n",
       " None,\n",
       " None,\n",
       " None,\n",
       " None,\n",
       " None,\n",
       " None,\n",
       " None,\n",
       " None,\n",
       " None,\n",
       " None,\n",
       " None,\n",
       " None,\n",
       " None,\n",
       " None,\n",
       " None,\n",
       " None,\n",
       " None,\n",
       " None,\n",
       " None,\n",
       " None,\n",
       " None,\n",
       " None,\n",
       " None,\n",
       " None,\n",
       " None,\n",
       " None,\n",
       " None,\n",
       " None,\n",
       " None,\n",
       " None,\n",
       " None,\n",
       " None,\n",
       " None,\n",
       " None,\n",
       " None,\n",
       " None,\n",
       " None,\n",
       " None,\n",
       " None,\n",
       " None,\n",
       " None,\n",
       " None]"
      ]
     },
     "execution_count": 28,
     "metadata": {},
     "output_type": "execute_result"
    }
   ],
   "source": [
    "df_trains = pd.read_csv('data/trainnetworknl.csv', names=['origin', 'destination'])\n",
    "g_trains = nx.Graph()\n",
    "[g_trains.add_node(node) for node in df_trains.origin]\n",
    "[g_trains.add_edge(node,edge) for node, edge in zip(df_trains.origin, df_trains.destination)]\n"
   ]
  },
  {
   "cell_type": "code",
   "execution_count": 29,
   "id": "73a1d33d-5ba5-4559-b6b0-2b576866ea66",
   "metadata": {},
   "outputs": [
    {
     "data": {
      "image/png": "[encoded data removed]",
      "text/plain": [
       "<Figure size 432x288 with 1 Axes>"
      ]
     },
     "metadata": {},
     "output_type": "display_data"
    }
   ],
   "source": [
    "nx.draw(g_trains)"
   ]
  },
  {
   "cell_type": "code",
   "execution_count": 30,
   "id": "b1d924e8-fba7-43e0-9b5a-4930f2dc1a47",
   "metadata": {},
   "outputs": [],
   "source": [
    "data_trains = nx.node_link_data(g_trains)"
   ]
  },
  {
   "cell_type": "code",
   "execution_count": 31,
   "id": "4d00b276-eedd-4a6d-b384-0213d7541957",
   "metadata": {},
   "outputs": [],
   "source": [
    "f = open(\"data/g_trains.json\", \"w\")\n",
    "json.dump(data_trains, f)\n",
    "f.close()"
   ]
  },
  {
   "cell_type": "code",
   "execution_count": null,
   "id": "50da8847-1879-4792-a5f3-2dfbbe86a636",
   "metadata": {},
   "outputs": [],
   "source": []
  }
 ],
 "metadata": {
  "kernelspec": {
   "display_name": "Python 3 (ipykernel)",
   "language": "python",
   "name": "python3"
  },
  "language_info": {
   "codemirror_mode": {
    "name": "ipython",
    "version": 3
   },
   "file_extension": ".py",
   "mimetype": "text/x-python",
   "name": "python",
   "nbconvert_exporter": "python",
   "pygments_lexer": "ipython3",
   "version": "3.9.13"
  }
 },
 "nbformat": 4,
 "nbformat_minor": 5
}
