{
 "cells": [
  {
   "cell_type": "markdown",
   "id": "667a39ff-abb9-4a1e-9f5e-b5e798f1ffa2",
   "metadata": {},
   "source": [
    "# Correctness bugs testing\n",
    "\n",
    "\n"
   ]
  },
  {
   "cell_type": "code",
   "execution_count": 2,
   "id": "22172d5b-f691-4b58-9b12-4f41b8382613",
   "metadata": {
    "id": "xloLlGPwsqrf"
   },
   "outputs": [],
   "source": [
    "import networkx as nx\n",
    "from networkx.algorithms import bipartite\n",
    "from sklearn.cluster import KMeans\n",
    "import pandas as pd\n",
    "import seaborn as sns\n",
    "import numpy as np\n",
    "import matplotlib.pyplot as plt\n",
    "from IPython import display"
   ]
  },
  {
   "cell_type": "code",
   "execution_count": 5,
   "id": "af504dbe-04f4-4e59-bd31-6b03c0ca226e",
   "metadata": {
    "id": "UMpv0upFtkD2"
   },
   "outputs": [],
   "source": [
    "# Premade graphs\n",
    "g_kite = nx.krackhardt_kite_graph()\n",
    "g_florentine = nx.florentine_families_graph()\n",
    "g_karate = nx.karate_club_graph()\n",
    "\n",
    "# Other example graphs available on the \"data\" folder of this repo\n",
    "df_consprot = pd.read_csv('data/PROT_edges.csv', sep = \",\")\n",
    "g_consprot = nx.from_pandas_edgelist(df_consprot, \"Source\", \"Target\", create_using=nx.DiGraph) #setting up the directed graph\n",
    "# subgraph of consprot\n",
    "node_degree_dict=nx.degree(g_consprot)\n",
    "g_consprot2=nx.subgraph(g_consprot,[x for x in g_consprot.nodes() if node_degree_dict[x]>=25])\n",
    "\n",
    "df_trains = pd.read_csv('data/trainnetworknl.csv', names=['origin', 'destination'])\n",
    "g_trains = nx.Graph()\n",
    "[g_trains.add_node(node) for node in df_trains.origin]\n",
    "[g_trains.add_edge(node,edge) for node, edge in zip(df_trains.origin, df_trains.destination)]\n",
    "\n",
    "df_reviews = pd.read_csv(\"data/ignatieff_reviews.csv\")\n",
    "\n",
    "df_docs = pd.read_csv('data/docsimilarity.csv', index_col=\"Unnamed: 0\")\n",
    "\n",
    "g_docs = nx.Graph()\n",
    "[g_docs.add_node(node) for node in df_docs.source]\n",
    "[g_docs.add_edge(node,edge, weight = weight) for node, edge, weight in zip(df_docs.source, df_docs.target, df_docs.weight)]\n",
    "\n",
    "df_furniture = pd.read_csv('data/furniturewebsites.csv')\n",
    "df_furniture['links'] = df_furniture.links.str.split(', ')\n",
    "df_furniture = df_furniture.explode('links')\n",
    "g_furniture = nx.DiGraph()\n",
    "g_furniture.add_nodes_from(df_furniture.webpage)\n",
    "g_furniture.add_edges_from(zip(df_furniture.webpage, df_furniture.links))\n",
    "\n",
    "df_treaties = pd.read_csv('data/mytreaties.csv')\n",
    "g_treaties = nx.Graph()\n",
    "[g_treaties.add_node(node, bipartite=0) for node in df_treaties.State if node != np.nan]\n",
    "[g_treaties.add_node(node, bipartite=1) for node in df_treaties.treaty if node != np.nan]\n",
    "[g_treaties.add_edge(state, treaty) for state, treaty in zip(df_treaties.State, df_treaties.Affiliation) if treaty != np.nan];\n",
    "\n",
    "df_history = pd.read_csv(\"data/legal_history.csv\", sep=\";\")\n",
    "df_history.set_index(\"Unnamed: 0\", inplace=True)\n",
    "g_history = nx.from_pandas_adjacency(df_history)\n",
    "g_history = nx.to_directed(g_history)\n",
    "\n",
    "# Styling and reproducibility\n",
    "sns.set_style('whitegrid')\n",
    "pd.set_option(\"display.precision\", 3)\n",
    "np.random.seed(123)"
   ]
  },
  {
   "cell_type": "markdown",
   "id": "4b690da3-538b-4f72-84ee-8721f710c8c3",
   "metadata": {},
   "source": [
    "# Helper functions"
   ]
  },
  {
   "cell_type": "markdown",
   "id": "3ddc20c8-6d09-4c56-b673-812b71db2c18",
   "metadata": {},
   "source": [
    "This will compute print some results side by side and return the absolute value of the differences between the official results and the handmade results."
   ]
  },
  {
   "cell_type": "code",
   "execution_count": 70,
   "id": "dc33d70b-e1fc-47aa-a872-e38b604ce489",
   "metadata": {},
   "outputs": [],
   "source": [
    "def compare(graph, official, myfunction, head=5):\n",
    "    officialres = official(graph)\n",
    "    nodeid = list(dict(officialres).keys())\n",
    "    officialscore = list(dict(officialres).values())\n",
    "    myscore = myfunction(graph)\n",
    "    df = pd.DataFrame({'nodeid':nodeid,\n",
    "                       'officialscore':officialscore,\n",
    "                       'myscore':myscore})\n",
    "    delta = np.abs(officialscore - myscore)\n",
    "    return print(df.head(head), f\"\\n **** \\n sum of delta for {graph} \\n\", np.sum(delta))"
   ]
  },
  {
   "cell_type": "markdown",
   "id": "d6b9ce81-e0af-4492-90dc-e5305c1711a9",
   "metadata": {},
   "source": [
    "# 1. Eigenvector Centrality"
   ]
  },
  {
   "cell_type": "code",
   "execution_count": 71,
   "id": "609ed874-f645-4aaf-bdbe-72a4526b7500",
   "metadata": {},
   "outputs": [],
   "source": [
    "def my_eigc(graph, iterations=100):\n",
    "    A = nx.adjacency_matrix(graph)\n",
    "    A = A.todense()\n",
    "    A_dims = A.shape[0]\n",
    "    v = (np.ones(A_dims)/A_dims)\n",
    "    for i in range(0,iterations):\n",
    "        v = A@v.reshape(A_dims,-1)\n",
    "        mynorm = np.linalg.norm(v)\n",
    "        res = v / mynorm\n",
    "    return np.ravel(res)\n",
    "    \n",
    "    \n",
    "    \n",
    "    \n",
    "    \n",
    "    "
   ]
  },
  {
   "cell_type": "code",
   "execution_count": 72,
   "id": "cbe881bd-a548-4945-82fa-aa0381eb6ffe",
   "metadata": {},
   "outputs": [
    {
     "name": "stdout",
     "output_type": "stream",
     "text": [
      "   nodeid  officialscore  myscore\n",
      "0       0          0.352    0.352\n",
      "1       1          0.352    0.352\n",
      "2       2          0.286    0.286\n",
      "3       3          0.481    0.481\n",
      "4       4          0.286    0.286 \n",
      " **** \n",
      " sum of delta for Graph named 'Krackhardt Kite Social Network' with 10 nodes and 18 edges \n",
      " 5.823439517384579e-06\n",
      "   nodeid  officialscore  myscore\n",
      "0       0          0.355    0.312\n",
      "1       1          0.266    0.302\n",
      "2       2          0.317    0.361\n",
      "3       3          0.211    0.199\n",
      "4       4          0.076    0.056 \n",
      " **** \n",
      " sum of delta for Graph named \"Zachary's Karate Club\" with 34 nodes and 78 edges \n",
      " 0.9481901566644553\n",
      "      nodeid  officialscore  myscore\n",
      "0  Amsterdam          0.390    0.390\n",
      "1    Utrecht          0.569    0.569\n",
      "2      Gouda          0.162    0.162\n",
      "3      Weert          0.058    0.058\n",
      "4  Eindhoven          0.254    0.254 \n",
      " **** \n",
      " sum of delta for Graph with 20 nodes and 29 edges \n",
      " 2.1474244097801493e-05\n"
     ]
    },
    {
     "name": "stderr",
     "output_type": "stream",
     "text": [
      "C:\\Users\\gustavo.arosemena\\AppData\\Local\\Temp\\ipykernel_20468\\2260359830.py:2: FutureWarning: adjacency_matrix will return a scipy.sparse array instead of a matrix in Networkx 3.0.\n",
      "  A = nx.adjacency_matrix(graph)\n",
      "C:\\Users\\gustavo.arosemena\\AppData\\Local\\Temp\\ipykernel_20468\\2260359830.py:2: FutureWarning: adjacency_matrix will return a scipy.sparse array instead of a matrix in Networkx 3.0.\n",
      "  A = nx.adjacency_matrix(graph)\n",
      "C:\\Users\\gustavo.arosemena\\AppData\\Local\\Temp\\ipykernel_20468\\2260359830.py:2: FutureWarning: adjacency_matrix will return a scipy.sparse array instead of a matrix in Networkx 3.0.\n",
      "  A = nx.adjacency_matrix(graph)\n"
     ]
    }
   ],
   "source": [
    "for i in [g_kite, g_karate, g_trains]:\n",
    "    compare(i, nx.eigenvector_centrality, my_eigc)"
   ]
  },
  {
   "cell_type": "markdown",
   "id": "0a5a5c5c-395a-42a7-97f8-823d33a0cb1f",
   "metadata": {},
   "source": [
    "# 2. Pagerank"
   ]
  },
  {
   "cell_type": "markdown",
   "id": "c713625d-ece3-4853-b017-f7b45e9daf44",
   "metadata": {},
   "source": [
    "This one I am not sure it is correct. Note that the delta for consrpot is very big, not as big for consprot2."
   ]
  },
  {
   "cell_type": "code",
   "execution_count": 73,
   "id": "1652c9b2-12ae-4086-aba6-14c1135f099f",
   "metadata": {},
   "outputs": [],
   "source": [
    "def my_pagerank(graph, iterations=100):\n",
    "    A = nx.stochastic_graph(graph)\n",
    "    T = nx.adjacency_matrix(A).todense()\n",
    "    T_dims = T.shape[0]\n",
    "    v = np.ones(T_dims)/T_dims\n",
    "    for i in range(0, iterations):\n",
    "        v = T.T @ (v.reshape(T_dims,-1))\n",
    "        v = v*0.85\n",
    "        residual = v*0.15\n",
    "        mysum = np.sum(residual)\n",
    "        v = v + 1/T_dims*mysum\n",
    "        vnorm = np.linalg.norm(v)\n",
    "        res = v = v/vnorm\n",
    "    return np.ravel(res)\n",
    "        \n",
    "    \n"
   ]
  },
  {
   "cell_type": "code",
   "execution_count": 74,
   "id": "5a56b5ed-ca82-4192-ad03-3f3b6a5a73c9",
   "metadata": {},
   "outputs": [
    {
     "name": "stderr",
     "output_type": "stream",
     "text": [
      "C:\\Users\\gustavo.arosemena\\AppData\\Local\\Temp\\ipykernel_20468\\2741893538.py:3: FutureWarning: adjacency_matrix will return a scipy.sparse array instead of a matrix in Networkx 3.0.\n",
      "  T = nx.adjacency_matrix(A).todense()\n",
      "C:\\Users\\gustavo.arosemena\\AppData\\Local\\Temp\\ipykernel_20468\\2741893538.py:3: FutureWarning: adjacency_matrix will return a scipy.sparse array instead of a matrix in Networkx 3.0.\n",
      "  T = nx.adjacency_matrix(A).todense()\n",
      "C:\\Users\\gustavo.arosemena\\AppData\\Local\\Temp\\ipykernel_20468\\2741893538.py:3: FutureWarning: adjacency_matrix will return a scipy.sparse array instead of a matrix in Networkx 3.0.\n",
      "  T = nx.adjacency_matrix(A).todense()\n"
     ]
    },
    {
     "name": "stdout",
     "output_type": "stream",
     "text": [
      "             nodeid  officialscore  myscore\n",
      "0           my home          0.046    0.065\n",
      "1     fun furniture          0.045    0.063\n",
      "2  home improvement          0.025    0.035\n",
      "3              ikea          0.445    0.725\n",
      "4        all plants          0.025    0.035 \n",
      " **** \n",
      " sum of delta for DiGraph with 6 nodes and 8 edges \n",
      " 0.6040908710205372\n",
      "        nodeid  officialscore  myscore\n",
      "0  61995CJ0259      1.774e-03    0.022\n",
      "1  61981CJ0039      6.804e-04    0.011\n",
      "2  61986CJ0031      6.804e-04    0.011\n",
      "3  61988CJ0331      1.130e-03    0.022\n",
      "4  61995CJ0072      8.173e-04    0.014 \n",
      " **** \n",
      " sum of delta for DiGraph with 1614 nodes and 2662 edges \n",
      " 12.249537846459761\n",
      "        nodeid  officialscore  myscore\n",
      "0  62007CJ0343          0.018    0.006\n",
      "1  61984CJ0178          0.033    0.013\n",
      "2  61992CJ0091          0.018    0.006\n",
      "3  62008CJ0317          0.021    0.008\n",
      "4  61989CJ0241          0.018    0.006 \n",
      " **** \n",
      " sum of delta for DiGraph with 25 nodes and 24 edges \n",
      " 0.9520310178205145\n"
     ]
    }
   ],
   "source": [
    "for i in [g_furniture, g_consprot, g_consprot2]:\n",
    "    compare(i, nx.pagerank, my_pagerank)"
   ]
  }
 ],
 "metadata": {
  "kernelspec": {
   "display_name": "Python 3 (ipykernel)",
   "language": "python",
   "name": "python3"
  },
  "language_info": {
   "codemirror_mode": {
    "name": "ipython",
    "version": 3
   },
   "file_extension": ".py",
   "mimetype": "text/x-python",
   "name": "python",
   "nbconvert_exporter": "python",
   "pygments_lexer": "ipython3",
   "version": "3.9.13"
  }
 },
 "nbformat": 4,
 "nbformat_minor": 5
}
